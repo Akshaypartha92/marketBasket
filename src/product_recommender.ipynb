{
 "cells": [
  {
   "cell_type": "code",
   "execution_count": 2,
   "metadata": {},
   "outputs": [],
   "source": [
    "import pandas as pd"
   ]
  },
  {
   "cell_type": "code",
   "execution_count": 3,
   "metadata": {},
   "outputs": [],
   "source": [
    "cluster0_item_rules = pd.read_csv('../input/associationRule/group0_item_rules.csv', index_col = 0)\n",
    "cluster1_item_rules = pd.read_csv('../input/associationRule/group1_item_rules.csv', index_col = 0)\n",
    "cluster2_item_rules = pd.read_csv('../input/associationRule/group2_item_rules.csv', index_col = 0)\n",
    "cluster3_item_rules = pd.read_csv('../input/associationRule/group3_item_rules.csv', index_col = 0)\n",
    "cluster4_item_rules = pd.read_csv('../input/associationRule/group4_item_rules.csv', index_col = 0)\n",
    "cluster5_item_rules = pd.read_csv('../input/associationRule/group5_item_rules.csv', index_col = 0)\n",
    "cluster6_item_rules = pd.read_csv('../input/associationRule/group6_item_rules.csv', index_col = 0)\n",
    "cluster7_item_rules = pd.read_csv('../input/associationRule/group7_item_rules.csv', index_col = 0)\n",
    "cluster8_item_rules = pd.read_csv('../input/associationRule/group8_item_rules.csv', index_col = 0)\n",
    "cluster0_aisle_rules = pd.read_csv('../input/associationRule/group0_aisle_rules.csv', index_col = 0)\n",
    "cluster1_aisle_rules = pd.read_csv('../input/associationRule/group1_aisle_rules.csv', index_col = 0)\n",
    "cluster2_aisle_rules = pd.read_csv('../input/associationRule/group2_aisle_rules.csv', index_col = 0)\n",
    "cluster3_aisle_rules = pd.read_csv('../input/associationRule/group3_aisle_rules.csv', index_col = 0)\n",
    "cluster4_aisle_rules = pd.read_csv('../input/associationRule/group4_aisle_rules.csv', index_col = 0)\n",
    "cluster5_aisle_rules = pd.read_csv('../input/associationRule/group5_aisle_rules.csv', index_col = 0)\n",
    "cluster6_aisle_rules = pd.read_csv('../input/associationRule/group6_aisle_rules.csv', index_col = 0)\n",
    "cluster7_aisle_rules = pd.read_csv('../input/associationRule/group7_aisle_rules.csv', index_col = 0)\n",
    "cluster8_aisle_rules = pd.read_csv('../input/associationRule/group8_aisle_rules.csv', index_col = 0)\n",
    "all_aisle_rules =  pd.read_csv('../input/associationRule_no_cluster/all_aisle_rules.csv', index_col=0)"
   ]
  },
  {
   "cell_type": "code",
   "execution_count": 4,
   "metadata": {},
   "outputs": [],
   "source": [
    "cluster_df = pd.read_csv('../input/cluster_df', index_col = 0)\n",
    "products = pd.read_csv('../input/products.csv', index_col = 0)\n",
    "aisles = pd.read_csv('../input/aisles.csv', index_col = 0)\n"
   ]
  },
  {
   "cell_type": "code",
   "execution_count": 5,
   "metadata": {},
   "outputs": [
    {
     "data": {
      "text/plain": "                0         1         2         3         4         5         6  \\\nuser_id                                                                         \n1       -0.103161  0.048618 -0.031831 -0.005642 -0.053023 -0.055199  0.077125   \n2       -0.077766  0.077983 -0.076148 -0.101671  0.081788 -0.040401 -0.011291   \n3        0.057496  0.085719  0.001778 -0.013189 -0.028500  0.113060  0.009633   \n4       -0.055343  0.134731 -0.002393 -0.037708 -0.087798 -0.027364 -0.023203   \n5        0.133936 -0.019591 -0.020959 -0.003729  0.057731  0.138880  0.047008   \n...           ...       ...       ...       ...       ...       ...       ...   \n206205  -0.021674  0.081784 -0.073479 -0.088437  0.155970 -0.022703  0.013560   \n206206  -0.040316 -0.036658 -0.024049  0.010060 -0.051008  0.000820  0.000848   \n206207  -0.022110 -0.032613 -0.009467 -0.015803  0.021501  0.020469 -0.014702   \n206208  -0.002217 -0.010633 -0.037620 -0.007752  0.028735  0.044835  0.005681   \n206209  -0.072488  0.017515 -0.043592 -0.003231 -0.010476  0.027647  0.009834   \n\n                7         8         9  cluster  \nuser_id                                         \n1       -0.059378 -0.043909  0.024291        3  \n2        0.060093  0.094824  0.093894        0  \n3        0.005217  0.015906 -0.019269        7  \n4        0.024749  0.143004  0.174520        7  \n5       -0.012744  0.000038 -0.034601        1  \n...           ...       ...       ...      ...  \n206205  -0.007229 -0.003854  0.025853        0  \n206206   0.028317  0.062712 -0.052551        3  \n206207   0.004505 -0.033870  0.017518        1  \n206208  -0.000271 -0.017631 -0.005618        1  \n206209  -0.033332 -0.029076 -0.011417        3  \n\n[206209 rows x 11 columns]",
      "text/html": "<div>\n<style scoped>\n    .dataframe tbody tr th:only-of-type {\n        vertical-align: middle;\n    }\n\n    .dataframe tbody tr th {\n        vertical-align: top;\n    }\n\n    .dataframe thead th {\n        text-align: right;\n    }\n</style>\n<table border=\"1\" class=\"dataframe\">\n  <thead>\n    <tr style=\"text-align: right;\">\n      <th></th>\n      <th>0</th>\n      <th>1</th>\n      <th>2</th>\n      <th>3</th>\n      <th>4</th>\n      <th>5</th>\n      <th>6</th>\n      <th>7</th>\n      <th>8</th>\n      <th>9</th>\n      <th>cluster</th>\n    </tr>\n    <tr>\n      <th>user_id</th>\n      <th></th>\n      <th></th>\n      <th></th>\n      <th></th>\n      <th></th>\n      <th></th>\n      <th></th>\n      <th></th>\n      <th></th>\n      <th></th>\n      <th></th>\n    </tr>\n  </thead>\n  <tbody>\n    <tr>\n      <th>1</th>\n      <td>-0.103161</td>\n      <td>0.048618</td>\n      <td>-0.031831</td>\n      <td>-0.005642</td>\n      <td>-0.053023</td>\n      <td>-0.055199</td>\n      <td>0.077125</td>\n      <td>-0.059378</td>\n      <td>-0.043909</td>\n      <td>0.024291</td>\n      <td>3</td>\n    </tr>\n    <tr>\n      <th>2</th>\n      <td>-0.077766</td>\n      <td>0.077983</td>\n      <td>-0.076148</td>\n      <td>-0.101671</td>\n      <td>0.081788</td>\n      <td>-0.040401</td>\n      <td>-0.011291</td>\n      <td>0.060093</td>\n      <td>0.094824</td>\n      <td>0.093894</td>\n      <td>0</td>\n    </tr>\n    <tr>\n      <th>3</th>\n      <td>0.057496</td>\n      <td>0.085719</td>\n      <td>0.001778</td>\n      <td>-0.013189</td>\n      <td>-0.028500</td>\n      <td>0.113060</td>\n      <td>0.009633</td>\n      <td>0.005217</td>\n      <td>0.015906</td>\n      <td>-0.019269</td>\n      <td>7</td>\n    </tr>\n    <tr>\n      <th>4</th>\n      <td>-0.055343</td>\n      <td>0.134731</td>\n      <td>-0.002393</td>\n      <td>-0.037708</td>\n      <td>-0.087798</td>\n      <td>-0.027364</td>\n      <td>-0.023203</td>\n      <td>0.024749</td>\n      <td>0.143004</td>\n      <td>0.174520</td>\n      <td>7</td>\n    </tr>\n    <tr>\n      <th>5</th>\n      <td>0.133936</td>\n      <td>-0.019591</td>\n      <td>-0.020959</td>\n      <td>-0.003729</td>\n      <td>0.057731</td>\n      <td>0.138880</td>\n      <td>0.047008</td>\n      <td>-0.012744</td>\n      <td>0.000038</td>\n      <td>-0.034601</td>\n      <td>1</td>\n    </tr>\n    <tr>\n      <th>...</th>\n      <td>...</td>\n      <td>...</td>\n      <td>...</td>\n      <td>...</td>\n      <td>...</td>\n      <td>...</td>\n      <td>...</td>\n      <td>...</td>\n      <td>...</td>\n      <td>...</td>\n      <td>...</td>\n    </tr>\n    <tr>\n      <th>206205</th>\n      <td>-0.021674</td>\n      <td>0.081784</td>\n      <td>-0.073479</td>\n      <td>-0.088437</td>\n      <td>0.155970</td>\n      <td>-0.022703</td>\n      <td>0.013560</td>\n      <td>-0.007229</td>\n      <td>-0.003854</td>\n      <td>0.025853</td>\n      <td>0</td>\n    </tr>\n    <tr>\n      <th>206206</th>\n      <td>-0.040316</td>\n      <td>-0.036658</td>\n      <td>-0.024049</td>\n      <td>0.010060</td>\n      <td>-0.051008</td>\n      <td>0.000820</td>\n      <td>0.000848</td>\n      <td>0.028317</td>\n      <td>0.062712</td>\n      <td>-0.052551</td>\n      <td>3</td>\n    </tr>\n    <tr>\n      <th>206207</th>\n      <td>-0.022110</td>\n      <td>-0.032613</td>\n      <td>-0.009467</td>\n      <td>-0.015803</td>\n      <td>0.021501</td>\n      <td>0.020469</td>\n      <td>-0.014702</td>\n      <td>0.004505</td>\n      <td>-0.033870</td>\n      <td>0.017518</td>\n      <td>1</td>\n    </tr>\n    <tr>\n      <th>206208</th>\n      <td>-0.002217</td>\n      <td>-0.010633</td>\n      <td>-0.037620</td>\n      <td>-0.007752</td>\n      <td>0.028735</td>\n      <td>0.044835</td>\n      <td>0.005681</td>\n      <td>-0.000271</td>\n      <td>-0.017631</td>\n      <td>-0.005618</td>\n      <td>1</td>\n    </tr>\n    <tr>\n      <th>206209</th>\n      <td>-0.072488</td>\n      <td>0.017515</td>\n      <td>-0.043592</td>\n      <td>-0.003231</td>\n      <td>-0.010476</td>\n      <td>0.027647</td>\n      <td>0.009834</td>\n      <td>-0.033332</td>\n      <td>-0.029076</td>\n      <td>-0.011417</td>\n      <td>3</td>\n    </tr>\n  </tbody>\n</table>\n<p>206209 rows × 11 columns</p>\n</div>"
     },
     "execution_count": 5,
     "metadata": {},
     "output_type": "execute_result"
    }
   ],
   "source": [
    "cluster_df = cluster_df.set_index('user_id')\n",
    "cluster_df"
   ]
  },
  {
   "cell_type": "code",
   "execution_count": 6,
   "metadata": {},
   "outputs": [],
   "source": [
    "cluster_item_rules_dic = {}\n",
    "cluster_item_rules_dic[0] = cluster0_item_rules\n",
    "cluster_item_rules_dic[1] = cluster1_item_rules\n",
    "cluster_item_rules_dic[2] = cluster2_item_rules\n",
    "cluster_item_rules_dic[3] = cluster3_item_rules\n",
    "cluster_item_rules_dic[4] = cluster4_item_rules\n",
    "cluster_item_rules_dic[5] = cluster5_item_rules\n",
    "cluster_item_rules_dic[6] = cluster6_item_rules\n",
    "cluster_item_rules_dic[7] = cluster7_item_rules\n",
    "cluster_item_rules_dic[8] = cluster8_item_rules"
   ]
  },
  {
   "cell_type": "code",
   "execution_count": 7,
   "metadata": {},
   "outputs": [],
   "source": [
    "cluster_aisle_rules_dic = {}\n",
    "cluster_aisle_rules_dic[0] = cluster0_aisle_rules\n",
    "cluster_aisle_rules_dic[1] = cluster1_aisle_rules\n",
    "cluster_aisle_rules_dic[2] = cluster2_aisle_rules\n",
    "cluster_aisle_rules_dic[3] = cluster3_aisle_rules\n",
    "cluster_aisle_rules_dic[4] = cluster4_aisle_rules\n",
    "cluster_aisle_rules_dic[5] = cluster5_aisle_rules\n",
    "cluster_aisle_rules_dic[6] = cluster6_aisle_rules\n",
    "cluster_aisle_rules_dic[7] = cluster7_aisle_rules\n",
    "cluster_aisle_rules_dic[8] = cluster8_aisle_rules"
   ]
  },
  {
   "cell_type": "code",
   "execution_count": 8,
   "metadata": {},
   "outputs": [],
   "source": [
    "# returns top x items associated based on lift\n",
    "\n",
    "def product_to_product(cluster, product_id, item_lift, product_name, num_products):\n",
    "    df = cluster_item_rules_dic[cluster]\n",
    "    df = df[(df['item_A'] == product_id) | (df['item_B'] == product_id)][['product_name_A','item_A','product_name_B','item_B','confidenceAtoB','lift']].sort_values('lift', ascending = False)\n",
    "    df = df[df['lift'] > item_lift]\n",
    "    df = df.sort_values('lift', ascending = False)\n",
    "    df = df.head(n = num_products)\n",
    "    product_to_product_associations = df['product_name_A'].values.tolist()\n",
    "    for x in df['product_name_B'].values.tolist():\n",
    "        product_to_product_associations.append(x)\n",
    "    product_to_product_associations = [x for x in product_to_product_associations if x != product_name]\n",
    "    return product_to_product_associations"
   ]
  },
  {
   "cell_type": "code",
   "execution_count": 9,
   "metadata": {},
   "outputs": [],
   "source": [
    "# returns recommended products given inputs\n",
    "def pdp_recommender(user_id, product_id, item_lift, num_products):\n",
    "    product_name = products.at[product_id,'product_name']\n",
    "    aisle_id = products.at[product_id,'aisle_id']\n",
    "    aisle_name = aisles.at[aisle_id,'aisle']\n",
    "    cluster = cluster_df.at[user_id, 'cluster']\n",
    "    print(cluster)\n",
    "    return product_to_product(cluster = cluster, product_id = product_id, item_lift = item_lift, \n",
    "                              product_name = product_name, num_products = num_products)"
   ]
  },
  {
   "cell_type": "code",
   "execution_count": 10,
   "metadata": {},
   "outputs": [
    {
     "name": "stdout",
     "output_type": "stream",
     "text": [
      "6\n",
      "cluster 0['Thin & Light Tortilla Chips', 'Red Peppers', 'Organic Red Onion', 'Organic Yellow Onion', 'Limes']\n",
      "9\n"
     ]
    },
    {
     "ename": "KeyError",
     "evalue": "9",
     "output_type": "error",
     "traceback": [
      "\u001B[1;31m---------------------------------------------------------------------------\u001B[0m",
      "\u001B[1;31mKeyError\u001B[0m                                  Traceback (most recent call last)",
      "\u001B[1;32mC:\\Users\\AKSHAY~1\\AppData\\Local\\Temp/ipykernel_31004/802173469.py\u001B[0m in \u001B[0;36m<module>\u001B[1;34m\u001B[0m\n\u001B[0;32m      4\u001B[0m \u001B[0mi\u001B[0m \u001B[1;33m=\u001B[0m \u001B[1;36m0\u001B[0m\u001B[1;33m\u001B[0m\u001B[1;33m\u001B[0m\u001B[0m\n\u001B[0;32m      5\u001B[0m \u001B[1;32mfor\u001B[0m \u001B[0mx\u001B[0m \u001B[1;32min\u001B[0m \u001B[0musers\u001B[0m\u001B[1;33m:\u001B[0m\u001B[1;33m\u001B[0m\u001B[1;33m\u001B[0m\u001B[0m\n\u001B[1;32m----> 6\u001B[1;33m     \u001B[0mprint\u001B[0m\u001B[1;33m(\u001B[0m\u001B[1;34m'cluster '\u001B[0m \u001B[1;33m+\u001B[0m \u001B[0mstr\u001B[0m\u001B[1;33m(\u001B[0m\u001B[0mi\u001B[0m\u001B[1;33m)\u001B[0m \u001B[1;33m+\u001B[0m \u001B[0mstr\u001B[0m\u001B[1;33m(\u001B[0m\u001B[0mpdp_recommender\u001B[0m\u001B[1;33m(\u001B[0m\u001B[0mx\u001B[0m\u001B[1;33m,\u001B[0m\u001B[1;36m39055\u001B[0m\u001B[1;33m,\u001B[0m\u001B[1;36m1\u001B[0m\u001B[1;33m,\u001B[0m\u001B[1;36m5\u001B[0m\u001B[1;33m)\u001B[0m\u001B[1;33m)\u001B[0m\u001B[1;33m)\u001B[0m\u001B[1;33m\u001B[0m\u001B[1;33m\u001B[0m\u001B[0m\n\u001B[0m\u001B[0;32m      7\u001B[0m     \u001B[0mi\u001B[0m \u001B[1;33m=\u001B[0m \u001B[0mi\u001B[0m \u001B[1;33m+\u001B[0m \u001B[1;36m1\u001B[0m\u001B[1;33m\u001B[0m\u001B[1;33m\u001B[0m\u001B[0m\n",
      "\u001B[1;32mC:\\Users\\AKSHAY~1\\AppData\\Local\\Temp/ipykernel_31004/2116017620.py\u001B[0m in \u001B[0;36mpdp_recommender\u001B[1;34m(user_id, product_id, item_lift, num_products)\u001B[0m\n\u001B[0;32m      6\u001B[0m     \u001B[0mcluster\u001B[0m \u001B[1;33m=\u001B[0m \u001B[0mcluster_df\u001B[0m\u001B[1;33m.\u001B[0m\u001B[0mat\u001B[0m\u001B[1;33m[\u001B[0m\u001B[0muser_id\u001B[0m\u001B[1;33m,\u001B[0m \u001B[1;34m'cluster'\u001B[0m\u001B[1;33m]\u001B[0m\u001B[1;33m\u001B[0m\u001B[1;33m\u001B[0m\u001B[0m\n\u001B[0;32m      7\u001B[0m     \u001B[0mprint\u001B[0m\u001B[1;33m(\u001B[0m\u001B[0mcluster\u001B[0m\u001B[1;33m)\u001B[0m\u001B[1;33m\u001B[0m\u001B[1;33m\u001B[0m\u001B[0m\n\u001B[1;32m----> 8\u001B[1;33m     return product_to_product(cluster = cluster, product_id = product_id, item_lift = item_lift, \n\u001B[0m\u001B[0;32m      9\u001B[0m                               product_name = product_name, num_products = num_products)\n",
      "\u001B[1;32mC:\\Users\\AKSHAY~1\\AppData\\Local\\Temp/ipykernel_31004/394581969.py\u001B[0m in \u001B[0;36mproduct_to_product\u001B[1;34m(cluster, product_id, item_lift, product_name, num_products)\u001B[0m\n\u001B[0;32m      2\u001B[0m \u001B[1;33m\u001B[0m\u001B[0m\n\u001B[0;32m      3\u001B[0m \u001B[1;32mdef\u001B[0m \u001B[0mproduct_to_product\u001B[0m\u001B[1;33m(\u001B[0m\u001B[0mcluster\u001B[0m\u001B[1;33m,\u001B[0m \u001B[0mproduct_id\u001B[0m\u001B[1;33m,\u001B[0m \u001B[0mitem_lift\u001B[0m\u001B[1;33m,\u001B[0m \u001B[0mproduct_name\u001B[0m\u001B[1;33m,\u001B[0m \u001B[0mnum_products\u001B[0m\u001B[1;33m)\u001B[0m\u001B[1;33m:\u001B[0m\u001B[1;33m\u001B[0m\u001B[1;33m\u001B[0m\u001B[0m\n\u001B[1;32m----> 4\u001B[1;33m     \u001B[0mdf\u001B[0m \u001B[1;33m=\u001B[0m \u001B[0mcluster_item_rules_dic\u001B[0m\u001B[1;33m[\u001B[0m\u001B[0mcluster\u001B[0m\u001B[1;33m]\u001B[0m\u001B[1;33m\u001B[0m\u001B[1;33m\u001B[0m\u001B[0m\n\u001B[0m\u001B[0;32m      5\u001B[0m     \u001B[0mdf\u001B[0m \u001B[1;33m=\u001B[0m \u001B[0mdf\u001B[0m\u001B[1;33m[\u001B[0m\u001B[1;33m(\u001B[0m\u001B[0mdf\u001B[0m\u001B[1;33m[\u001B[0m\u001B[1;34m'item_A'\u001B[0m\u001B[1;33m]\u001B[0m \u001B[1;33m==\u001B[0m \u001B[0mproduct_id\u001B[0m\u001B[1;33m)\u001B[0m \u001B[1;33m|\u001B[0m \u001B[1;33m(\u001B[0m\u001B[0mdf\u001B[0m\u001B[1;33m[\u001B[0m\u001B[1;34m'item_B'\u001B[0m\u001B[1;33m]\u001B[0m \u001B[1;33m==\u001B[0m \u001B[0mproduct_id\u001B[0m\u001B[1;33m)\u001B[0m\u001B[1;33m]\u001B[0m\u001B[1;33m[\u001B[0m\u001B[1;33m[\u001B[0m\u001B[1;34m'product_name_A'\u001B[0m\u001B[1;33m,\u001B[0m\u001B[1;34m'item_A'\u001B[0m\u001B[1;33m,\u001B[0m\u001B[1;34m'product_name_B'\u001B[0m\u001B[1;33m,\u001B[0m\u001B[1;34m'item_B'\u001B[0m\u001B[1;33m,\u001B[0m\u001B[1;34m'confidenceAtoB'\u001B[0m\u001B[1;33m,\u001B[0m\u001B[1;34m'lift'\u001B[0m\u001B[1;33m]\u001B[0m\u001B[1;33m]\u001B[0m\u001B[1;33m.\u001B[0m\u001B[0msort_values\u001B[0m\u001B[1;33m(\u001B[0m\u001B[1;34m'lift'\u001B[0m\u001B[1;33m,\u001B[0m \u001B[0mascending\u001B[0m \u001B[1;33m=\u001B[0m \u001B[1;32mFalse\u001B[0m\u001B[1;33m)\u001B[0m\u001B[1;33m\u001B[0m\u001B[1;33m\u001B[0m\u001B[0m\n\u001B[0;32m      6\u001B[0m     \u001B[0mdf\u001B[0m \u001B[1;33m=\u001B[0m \u001B[0mdf\u001B[0m\u001B[1;33m[\u001B[0m\u001B[0mdf\u001B[0m\u001B[1;33m[\u001B[0m\u001B[1;34m'lift'\u001B[0m\u001B[1;33m]\u001B[0m \u001B[1;33m>\u001B[0m \u001B[0mitem_lift\u001B[0m\u001B[1;33m]\u001B[0m\u001B[1;33m\u001B[0m\u001B[1;33m\u001B[0m\u001B[0m\n",
      "\u001B[1;31mKeyError\u001B[0m: 9"
     ]
    }
   ],
   "source": [
    "# results for users in the 6 different clusters\n",
    "\n",
    "users = [6,26,1,81,4,7,]\n",
    "i = 0\n",
    "for x in users:\n",
    "    print('cluster ' + str(i) + str(pdp_recommender(x,39055,1,5)))\n",
    "    i = i + 1"
   ]
  },
  {
   "cell_type": "code",
   "execution_count": 13,
   "outputs": [],
   "source": [
    "# Recommending products without cluster, i.e. considering that all users have similar in taste"
   ],
   "metadata": {
    "collapsed": false,
    "pycharm": {
     "name": "#%%\n"
    }
   }
  },
  {
   "cell_type": "code",
   "execution_count": null,
   "outputs": [],
   "source": [
    "# returns recommended products given inputs\n",
    "def pdp_recommender(user_id, product_id, item_lift, num_products):\n",
    "    product_name = products.at[product_id,'product_name']\n",
    "    aisle_id = products.at[product_id,'aisle_id']\n",
    "    aisle_name = aisles.at[aisle_id,'aisle']\n",
    "    cluster = cluster_df.at[user_id, 'cluster']\n",
    "    print(cluster)\n",
    "    return product_to_product(cluster = cluster, product_id = product_id, item_lift = item_lift,\n",
    "                              product_name = product_name, num_products = num_products)"
   ],
   "metadata": {
    "collapsed": false,
    "pycharm": {
     "name": "#%%\n"
    }
   }
  },
  {
   "cell_type": "code",
   "execution_count": 16,
   "outputs": [],
   "source": [
    "# returns top x items associated based on lift\n",
    "\n",
    "def product_to_product(product_id, item_lift, num_products):\n",
    "    df = all_aisle_rules\n",
    "    product_name = products.at[product_id,'product_name']\n",
    "    df = df[(df['item_A'] == product_id) | (df['item_B'] == product_id)][['product_name_A','item_A','product_name_B','item_B','confidenceAtoB','lift']].sort_values('lift', ascending = False)\n",
    "    df = df[df['lift'] > item_lift]\n",
    "    df = df.sort_values('lift', ascending = False)\n",
    "    df = df.head(n = num_products)\n",
    "    product_to_product_associations = df['product_name_A'].values.tolist()\n",
    "    for x in df['product_name_B'].values.tolist():\n",
    "        product_to_product_associations.append(x)\n",
    "    product_to_product_associations = [x for x in product_to_product_associations if x != product_name]\n",
    "    return product_to_product_associations"
   ],
   "metadata": {
    "collapsed": false,
    "pycharm": {
     "name": "#%%\n"
    }
   }
  },
  {
   "cell_type": "code",
   "execution_count": 17,
   "outputs": [],
   "source": [
    "list_recommend = product_to_product(39055, 1, 10)"
   ],
   "metadata": {
    "collapsed": false,
    "pycharm": {
     "name": "#%%\n"
    }
   }
  },
  {
   "cell_type": "code",
   "execution_count": 18,
   "outputs": [
    {
     "data": {
      "text/plain": "['Thin & Light Tortilla Chips',\n 'Organic Large Brown Grade AA Cage Free Eggs',\n 'Organic Reduced Fat 2% Milk',\n 'Original Hummus',\n 'Half & Half',\n 'Organic Raspberries',\n 'Organic Lemon',\n 'Limes',\n 'Thick & Crispy Tortilla Chips',\n 'Organic Hass Avocado']"
     },
     "execution_count": 18,
     "metadata": {},
     "output_type": "execute_result"
    }
   ],
   "source": [
    "list_recommend"
   ],
   "metadata": {
    "collapsed": false,
    "pycharm": {
     "name": "#%%\n"
    }
   }
  },
  {
   "cell_type": "code",
   "execution_count": null,
   "outputs": [],
   "source": [],
   "metadata": {
    "collapsed": false,
    "pycharm": {
     "name": "#%%\n"
    }
   }
  }
 ],
 "metadata": {
  "kernelspec": {
   "display_name": "Python 3",
   "language": "python",
   "name": "python3"
  },
  "language_info": {
   "codemirror_mode": {
    "name": "ipython",
    "version": 3
   },
   "file_extension": ".py",
   "mimetype": "text/x-python",
   "name": "python",
   "nbconvert_exporter": "python",
   "pygments_lexer": "ipython3",
   "version": "3.7.3"
  }
 },
 "nbformat": 4,
 "nbformat_minor": 4
}