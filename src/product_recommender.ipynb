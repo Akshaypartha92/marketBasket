{
 "cells": [
  {
   "cell_type": "code",
   "execution_count": 1,
   "metadata": {},
   "outputs": [],
   "source": [
    "import pandas as pd"
   ]
  },
  {
   "cell_type": "code",
   "execution_count": 2,
   "metadata": {},
   "outputs": [],
   "source": [
    "cluster0_item_rules = pd.read_csv('../input/associationRule/group0_item_rules.csv', index_col = 0)\n",
    "cluster1_item_rules = pd.read_csv('../input/associationRule/group1_item_rules.csv', index_col = 0)\n",
    "cluster2_item_rules = pd.read_csv('../input/associationRule/group2_item_rules.csv', index_col = 0)\n",
    "cluster3_item_rules = pd.read_csv('../input/associationRule/group3_item_rules.csv', index_col = 0)\n",
    "cluster4_item_rules = pd.read_csv('../input/associationRule/group4_item_rules.csv', index_col = 0)\n",
    "cluster5_item_rules = pd.read_csv('../input/associationRule/group5_item_rules.csv', index_col = 0)\n",
    "cluster0_aisle_rules = pd.read_csv('../input/associationRule/group0_aisle_rules.csv', index_col = 0)\n",
    "cluster1_aisle_rules = pd.read_csv('../input/associationRule/group1_aisle_rules.csv', index_col = 0)\n",
    "cluster2_aisle_rules = pd.read_csv('../input/associationRule/group2_aisle_rules.csv', index_col = 0)\n",
    "cluster3_aisle_rules = pd.read_csv('../input/associationRule/group3_aisle_rules.csv', index_col = 0)\n",
    "cluster4_aisle_rules = pd.read_csv('../input/associationRule/group4_aisle_rules.csv', index_col = 0)\n",
    "cluster5_aisle_rules = pd.read_csv('../input/associationRule/group5_aisle_rules.csv', index_col = 0)"
   ]
  },
  {
   "cell_type": "code",
   "execution_count": 3,
   "metadata": {},
   "outputs": [],
   "source": [
    "cluster_df = pd.read_csv('../input/cluster_df', index_col = 0)\n",
    "products = pd.read_csv('../input/products.csv', index_col = 0)\n",
    "aisles = pd.read_csv('../input/aisles.csv', index_col = 0)\n"
   ]
  },
  {
   "cell_type": "code",
   "execution_count": 4,
   "metadata": {},
   "outputs": [
    {
     "data": {
      "text/plain": "                0         1         2         3         4         5  cluster\nuser_id                                                                     \n1       -0.103161  0.048617 -0.031839 -0.005641 -0.053010 -0.055237        2\n2       -0.077766  0.077983 -0.076148 -0.101672  0.081783 -0.040413        2\n3        0.057496  0.085719  0.001778 -0.013192 -0.028501  0.113069        1\n4       -0.055343  0.134731 -0.002393 -0.037707 -0.087802 -0.027370        0\n5        0.133936 -0.019591 -0.020960 -0.003732  0.057738  0.138888        1\n...           ...       ...       ...       ...       ...       ...      ...\n206205  -0.021674  0.081783 -0.073480 -0.088441  0.155972 -0.022705        1\n206206  -0.040316 -0.036658 -0.024048  0.010055 -0.050993  0.000816        2\n206207  -0.022110 -0.032613 -0.009467 -0.015800  0.021494  0.020461        1\n206208  -0.002217 -0.010633 -0.037621 -0.007753  0.028741  0.044834        1\n206209  -0.072488  0.017515 -0.043591 -0.003223 -0.010484  0.027638        2\n\n[206209 rows x 7 columns]",
      "text/html": "<div>\n<style scoped>\n    .dataframe tbody tr th:only-of-type {\n        vertical-align: middle;\n    }\n\n    .dataframe tbody tr th {\n        vertical-align: top;\n    }\n\n    .dataframe thead th {\n        text-align: right;\n    }\n</style>\n<table border=\"1\" class=\"dataframe\">\n  <thead>\n    <tr style=\"text-align: right;\">\n      <th></th>\n      <th>0</th>\n      <th>1</th>\n      <th>2</th>\n      <th>3</th>\n      <th>4</th>\n      <th>5</th>\n      <th>cluster</th>\n    </tr>\n    <tr>\n      <th>user_id</th>\n      <th></th>\n      <th></th>\n      <th></th>\n      <th></th>\n      <th></th>\n      <th></th>\n      <th></th>\n    </tr>\n  </thead>\n  <tbody>\n    <tr>\n      <th>1</th>\n      <td>-0.103161</td>\n      <td>0.048617</td>\n      <td>-0.031839</td>\n      <td>-0.005641</td>\n      <td>-0.053010</td>\n      <td>-0.055237</td>\n      <td>2</td>\n    </tr>\n    <tr>\n      <th>2</th>\n      <td>-0.077766</td>\n      <td>0.077983</td>\n      <td>-0.076148</td>\n      <td>-0.101672</td>\n      <td>0.081783</td>\n      <td>-0.040413</td>\n      <td>2</td>\n    </tr>\n    <tr>\n      <th>3</th>\n      <td>0.057496</td>\n      <td>0.085719</td>\n      <td>0.001778</td>\n      <td>-0.013192</td>\n      <td>-0.028501</td>\n      <td>0.113069</td>\n      <td>1</td>\n    </tr>\n    <tr>\n      <th>4</th>\n      <td>-0.055343</td>\n      <td>0.134731</td>\n      <td>-0.002393</td>\n      <td>-0.037707</td>\n      <td>-0.087802</td>\n      <td>-0.027370</td>\n      <td>0</td>\n    </tr>\n    <tr>\n      <th>5</th>\n      <td>0.133936</td>\n      <td>-0.019591</td>\n      <td>-0.020960</td>\n      <td>-0.003732</td>\n      <td>0.057738</td>\n      <td>0.138888</td>\n      <td>1</td>\n    </tr>\n    <tr>\n      <th>...</th>\n      <td>...</td>\n      <td>...</td>\n      <td>...</td>\n      <td>...</td>\n      <td>...</td>\n      <td>...</td>\n      <td>...</td>\n    </tr>\n    <tr>\n      <th>206205</th>\n      <td>-0.021674</td>\n      <td>0.081783</td>\n      <td>-0.073480</td>\n      <td>-0.088441</td>\n      <td>0.155972</td>\n      <td>-0.022705</td>\n      <td>1</td>\n    </tr>\n    <tr>\n      <th>206206</th>\n      <td>-0.040316</td>\n      <td>-0.036658</td>\n      <td>-0.024048</td>\n      <td>0.010055</td>\n      <td>-0.050993</td>\n      <td>0.000816</td>\n      <td>2</td>\n    </tr>\n    <tr>\n      <th>206207</th>\n      <td>-0.022110</td>\n      <td>-0.032613</td>\n      <td>-0.009467</td>\n      <td>-0.015800</td>\n      <td>0.021494</td>\n      <td>0.020461</td>\n      <td>1</td>\n    </tr>\n    <tr>\n      <th>206208</th>\n      <td>-0.002217</td>\n      <td>-0.010633</td>\n      <td>-0.037621</td>\n      <td>-0.007753</td>\n      <td>0.028741</td>\n      <td>0.044834</td>\n      <td>1</td>\n    </tr>\n    <tr>\n      <th>206209</th>\n      <td>-0.072488</td>\n      <td>0.017515</td>\n      <td>-0.043591</td>\n      <td>-0.003223</td>\n      <td>-0.010484</td>\n      <td>0.027638</td>\n      <td>2</td>\n    </tr>\n  </tbody>\n</table>\n<p>206209 rows × 7 columns</p>\n</div>"
     },
     "execution_count": 4,
     "metadata": {},
     "output_type": "execute_result"
    }
   ],
   "source": [
    "cluster_df = cluster_df.set_index('user_id')\n",
    "cluster_df"
   ]
  },
  {
   "cell_type": "code",
   "execution_count": 5,
   "metadata": {},
   "outputs": [],
   "source": [
    "cluster_item_rules_dic = {}\n",
    "cluster_item_rules_dic[0] = cluster0_item_rules\n",
    "cluster_item_rules_dic[1] = cluster1_item_rules\n",
    "cluster_item_rules_dic[2] = cluster2_item_rules\n",
    "cluster_item_rules_dic[3] = cluster3_item_rules\n",
    "cluster_item_rules_dic[4] = cluster4_item_rules\n",
    "cluster_item_rules_dic[5] = cluster5_item_rules"
   ]
  },
  {
   "cell_type": "code",
   "execution_count": 6,
   "metadata": {},
   "outputs": [],
   "source": [
    "cluster_aisle_rules_dic = {}\n",
    "cluster_aisle_rules_dic[0] = cluster0_aisle_rules\n",
    "cluster_aisle_rules_dic[1] = cluster1_aisle_rules\n",
    "cluster_aisle_rules_dic[2] = cluster2_aisle_rules\n",
    "cluster_aisle_rules_dic[3] = cluster3_aisle_rules\n",
    "cluster_aisle_rules_dic[4] = cluster4_aisle_rules\n",
    "cluster_aisle_rules_dic[5] = cluster5_aisle_rules"
   ]
  },
  {
   "cell_type": "code",
   "execution_count": 7,
   "metadata": {},
   "outputs": [],
   "source": [
    "# returns top x items associated based on lift\n",
    "\n",
    "def product_to_product(cluster, product_id, item_lift, product_name, num_products):\n",
    "    df = cluster_item_rules_dic[cluster]\n",
    "    df = df[(df['item_A'] == product_id) | (df['item_B'] == product_id)][['product_name_A','item_A','product_name_B','item_B','confidenceAtoB','lift']].sort_values('lift', ascending = False)\n",
    "    df = df[df['lift'] > item_lift]\n",
    "    df = df.sort_values('lift', ascending = False)\n",
    "    df = df.head(n = num_products)\n",
    "    product_to_product_associations = df['product_name_A'].values.tolist()\n",
    "    for x in df['product_name_B'].values.tolist():\n",
    "        product_to_product_associations.append(x)\n",
    "    product_to_product_associations = [x for x in product_to_product_associations if x != product_name]\n",
    "    return product_to_product_associations"
   ]
  },
  {
   "cell_type": "code",
   "execution_count": 8,
   "metadata": {},
   "outputs": [],
   "source": [
    "# returns recommended products given inputs\n",
    "\n",
    "def pdp_recommender(user_id, product_id, item_lift, num_products):\n",
    "    product_name = products.at[product_id,'product_name']\n",
    "    aisle_id = products.at[product_id,'aisle_id']\n",
    "    aisle_name = aisles.at[aisle_id,'aisle']\n",
    "    cluster = cluster_df.at[user_id, 'cluster']\n",
    "    print(cluster)\n",
    "    return product_to_product(cluster = cluster, product_id = product_id, item_lift = item_lift, \n",
    "                              product_name = product_name, num_products = num_products)"
   ]
  },
  {
   "cell_type": "code",
   "execution_count": 9,
   "metadata": {},
   "outputs": [
    {
     "name": "stdout",
     "output_type": "stream",
     "text": [
      "3\n",
      "cluster 0['Thin & Light Tortilla Chips', 'Red Peppers', 'Organic Lemon', 'Organic Cucumber', 'Organic Grape Tomatoes']\n",
      "5\n",
      "cluster 1[]\n",
      "2\n",
      "cluster 2['Real Guacamole', 'Thin & Light Tortilla Chips', 'Original Hummus', 'Organic Reduced Fat 2% Milk', 'Thick & Crispy Tortilla Chips']\n",
      "4\n",
      "cluster 3[]\n",
      "0\n",
      "cluster 4['Thin & Light Tortilla Chips', 'Organic Raspberries', 'Banana', 'Organic Strawberries', 'Organic Hass Avocado']\n",
      "1\n",
      "cluster 5['Thin & Light Tortilla Chips', 'Organic Large Brown Grade AA Cage Free Eggs', 'Organic Reduced Fat 2% Milk', 'Organic Large Grade AA Brown Eggs', 'Thick & Crispy Tortilla Chips']\n"
     ]
    }
   ],
   "source": [
    "# results for users in the 6 different clusters\n",
    "\n",
    "users = [6,26,1,81,4,7]\n",
    "i = 0\n",
    "for x in users:\n",
    "    print('cluster ' + str(i) + str(pdp_recommender(x,39055,1,5)))\n",
    "    i = i + 1"
   ]
  },
  {
   "cell_type": "code",
   "execution_count": null,
   "outputs": [],
   "source": [],
   "metadata": {
    "collapsed": false,
    "pycharm": {
     "name": "#%%\n"
    }
   }
  }
 ],
 "metadata": {
  "kernelspec": {
   "display_name": "Python 3",
   "language": "python",
   "name": "python3"
  },
  "language_info": {
   "codemirror_mode": {
    "name": "ipython",
    "version": 3
   },
   "file_extension": ".py",
   "mimetype": "text/x-python",
   "name": "python",
   "nbconvert_exporter": "python",
   "pygments_lexer": "ipython3",
   "version": "3.7.3"
  }
 },
 "nbformat": 4,
 "nbformat_minor": 4
}