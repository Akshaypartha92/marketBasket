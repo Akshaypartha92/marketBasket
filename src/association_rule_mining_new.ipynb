{
 "cells": [
  {
   "cell_type": "code",
   "execution_count": 1,
   "metadata": {
    "collapsed": true
   },
   "outputs": [],
   "source": [
    "import pandas as pd\n",
    "from pathlib import Path\n",
    "from apriori_algo import AprioriAlgo\n",
    "apriori = AprioriAlgo()"
   ]
  },
  {
   "cell_type": "code",
   "execution_count": 2,
   "outputs": [
    {
     "name": "stderr",
     "output_type": "stream",
     "text": [
      "c:\\users\\akshaysharma\\hvacproakshay\\lib\\site-packages\\numpy\\lib\\arraysetops.py:583: FutureWarning: elementwise comparison failed; returning scalar instead, but in the future will perform elementwise comparison\n",
      "  mask |= (ar1 == a)\n"
     ]
    }
   ],
   "source": [
    "orders = pd.read_csv('../input/all_orders.csv', index_col = 0)\n",
    "cluster_df = pd.read_csv('../input/cluster_df')\n",
    "products = pd.read_csv('../input/products.csv')\n",
    "aisles = pd.read_csv('../input/aisles.csv')\n",
    "departments = pd.read_csv('../input/departments.csv')"
   ],
   "metadata": {
    "collapsed": false,
    "pycharm": {
     "name": "#%%\n"
    }
   }
  },
  {
   "cell_type": "code",
   "execution_count": 3,
   "outputs": [
    {
     "data": {
      "text/plain": "          order_id  product_id  add_to_cart_order  reordered  aisle_id  \\\n30264547         1       10246                  3          0        83   \n30264545         1       11109                  2          1       108   \n30264548         1       13176                  6          0        24   \n30264544         1       22035                  8          1        21   \n30264550         1       43633                  5          1        95   \n...            ...         ...                ...        ...       ...   \n23108244   3421083       21162                  3          0        92   \n23108238   3421083       24852                  9          1        24   \n23108247   3421083       35211                  5          0        92   \n23108242   3421083       39678                  6          1        74   \n23108246   3421083       45309                  2          0        92   \n\n          department_id                 aisle    department  user_id  cluster  \n30264547              4      fresh vegetables       produce   112108        1  \n30264545             16  other creams cheeses    dairy eggs   112108        1  \n30264548              4          fresh fruits       produce   112108        1  \n30264544             16       packaged cheese    dairy eggs   112108        1  \n30264550             15   canned meat seafood  canned goods   112108        1  \n...                 ...                   ...           ...      ...      ...  \n23108244             18     baby food formula        babies    25247        7  \n23108238              4          fresh fruits       produce    25247        7  \n23108247             18     baby food formula        babies    25247        7  \n23108242             17       dish detergents     household    25247        7  \n23108246             18     baby food formula        babies    25247        7  \n\n[33819106 rows x 10 columns]",
      "text/html": "<div>\n<style scoped>\n    .dataframe tbody tr th:only-of-type {\n        vertical-align: middle;\n    }\n\n    .dataframe tbody tr th {\n        vertical-align: top;\n    }\n\n    .dataframe thead th {\n        text-align: right;\n    }\n</style>\n<table border=\"1\" class=\"dataframe\">\n  <thead>\n    <tr style=\"text-align: right;\">\n      <th></th>\n      <th>order_id</th>\n      <th>product_id</th>\n      <th>add_to_cart_order</th>\n      <th>reordered</th>\n      <th>aisle_id</th>\n      <th>department_id</th>\n      <th>aisle</th>\n      <th>department</th>\n      <th>user_id</th>\n      <th>cluster</th>\n    </tr>\n  </thead>\n  <tbody>\n    <tr>\n      <th>30264547</th>\n      <td>1</td>\n      <td>10246</td>\n      <td>3</td>\n      <td>0</td>\n      <td>83</td>\n      <td>4</td>\n      <td>fresh vegetables</td>\n      <td>produce</td>\n      <td>112108</td>\n      <td>1</td>\n    </tr>\n    <tr>\n      <th>30264545</th>\n      <td>1</td>\n      <td>11109</td>\n      <td>2</td>\n      <td>1</td>\n      <td>108</td>\n      <td>16</td>\n      <td>other creams cheeses</td>\n      <td>dairy eggs</td>\n      <td>112108</td>\n      <td>1</td>\n    </tr>\n    <tr>\n      <th>30264548</th>\n      <td>1</td>\n      <td>13176</td>\n      <td>6</td>\n      <td>0</td>\n      <td>24</td>\n      <td>4</td>\n      <td>fresh fruits</td>\n      <td>produce</td>\n      <td>112108</td>\n      <td>1</td>\n    </tr>\n    <tr>\n      <th>30264544</th>\n      <td>1</td>\n      <td>22035</td>\n      <td>8</td>\n      <td>1</td>\n      <td>21</td>\n      <td>16</td>\n      <td>packaged cheese</td>\n      <td>dairy eggs</td>\n      <td>112108</td>\n      <td>1</td>\n    </tr>\n    <tr>\n      <th>30264550</th>\n      <td>1</td>\n      <td>43633</td>\n      <td>5</td>\n      <td>1</td>\n      <td>95</td>\n      <td>15</td>\n      <td>canned meat seafood</td>\n      <td>canned goods</td>\n      <td>112108</td>\n      <td>1</td>\n    </tr>\n    <tr>\n      <th>...</th>\n      <td>...</td>\n      <td>...</td>\n      <td>...</td>\n      <td>...</td>\n      <td>...</td>\n      <td>...</td>\n      <td>...</td>\n      <td>...</td>\n      <td>...</td>\n      <td>...</td>\n    </tr>\n    <tr>\n      <th>23108244</th>\n      <td>3421083</td>\n      <td>21162</td>\n      <td>3</td>\n      <td>0</td>\n      <td>92</td>\n      <td>18</td>\n      <td>baby food formula</td>\n      <td>babies</td>\n      <td>25247</td>\n      <td>7</td>\n    </tr>\n    <tr>\n      <th>23108238</th>\n      <td>3421083</td>\n      <td>24852</td>\n      <td>9</td>\n      <td>1</td>\n      <td>24</td>\n      <td>4</td>\n      <td>fresh fruits</td>\n      <td>produce</td>\n      <td>25247</td>\n      <td>7</td>\n    </tr>\n    <tr>\n      <th>23108247</th>\n      <td>3421083</td>\n      <td>35211</td>\n      <td>5</td>\n      <td>0</td>\n      <td>92</td>\n      <td>18</td>\n      <td>baby food formula</td>\n      <td>babies</td>\n      <td>25247</td>\n      <td>7</td>\n    </tr>\n    <tr>\n      <th>23108242</th>\n      <td>3421083</td>\n      <td>39678</td>\n      <td>6</td>\n      <td>1</td>\n      <td>74</td>\n      <td>17</td>\n      <td>dish detergents</td>\n      <td>household</td>\n      <td>25247</td>\n      <td>7</td>\n    </tr>\n    <tr>\n      <th>23108246</th>\n      <td>3421083</td>\n      <td>45309</td>\n      <td>2</td>\n      <td>0</td>\n      <td>92</td>\n      <td>18</td>\n      <td>baby food formula</td>\n      <td>babies</td>\n      <td>25247</td>\n      <td>7</td>\n    </tr>\n  </tbody>\n</table>\n<p>33819106 rows × 10 columns</p>\n</div>"
     },
     "execution_count": 3,
     "metadata": {},
     "output_type": "execute_result"
    }
   ],
   "source": [
    "orders = orders.sort_values(['order_id','product_id'])\n",
    "orders"
   ],
   "metadata": {
    "collapsed": false,
    "pycharm": {
     "name": "#%%\n"
    }
   }
  },
  {
   "cell_type": "code",
   "execution_count": 4,
   "outputs": [],
   "source": [
    "# separate order data by cluster and transform into expected format of group association function\n",
    "\n",
    "cluster_orders = {}\n",
    "for x in range(0,9):\n",
    "    i = orders[orders['cluster'] == x]\n",
    "    i = i.set_index('order_id')['product_id'].rename('item_id')\n",
    "    cluster_orders[x] = i"
   ],
   "metadata": {
    "collapsed": false,
    "pycharm": {
     "name": "#%%\n"
    }
   }
  },
  {
   "cell_type": "code",
   "execution_count": 5,
   "outputs": [
    {
     "data": {
      "text/plain": "order_id\n4          10054\n4          17616\n4          21351\n4          22598\n4          25146\n           ...  \n3421078    37646\n3421078    38656\n3421078    40396\n3421078    41844\n3421078    48577\nName: item_id, Length: 1637817, dtype: int64"
     },
     "execution_count": 5,
     "metadata": {},
     "output_type": "execute_result"
    }
   ],
   "source": [
    "cluster_orders[0]"
   ],
   "metadata": {
    "collapsed": false,
    "pycharm": {
     "name": "#%%\n"
    }
   }
  },
  {
   "cell_type": "code",
   "execution_count": 6,
   "outputs": [
    {
     "name": "stdout",
     "output_type": "stream",
     "text": [
      "Starting order_item:                1637817\n",
      "Items with support >= 0.0001:            9939\n",
      "Remaining order_item:               1532104\n",
      "Remaining orders with 2+ items:      155466\n",
      "Remaining order_item:               1523912\n",
      "Item pairs:                         3177970\n",
      "Item pairs with support >= 0.0001:      83094\n",
      "\n",
      "Starting order_item:               11069477\n",
      "Items with support >= 0.0001:           10734\n",
      "Remaining order_item:              10422194\n",
      "Remaining orders with 2+ items:      889529\n",
      "Remaining order_item:              10395976\n",
      "Item pairs:                        12408004\n",
      "Item pairs with support >= 0.0001:     102257\n",
      "\n",
      "Starting order_item:                 521280\n",
      "Items with support >= 0.0001:            1053\n",
      "Remaining order_item:                518290\n",
      "Remaining orders with 2+ items:       96448\n",
      "Remaining order_item:                501680\n",
      "Item pairs:                          147596\n",
      "Item pairs with support >= 0.0001:      25595\n",
      "\n",
      "Starting order_item:                8952464\n",
      "Items with support >= 0.0001:           14088\n",
      "Remaining order_item:               8157327\n",
      "Remaining orders with 2+ items:      833621\n",
      "Remaining order_item:               8101341\n",
      "Item pairs:                        16152863\n",
      "Item pairs with support >= 0.0001:      30648\n",
      "\n",
      "Starting order_item:                 124738\n",
      "Items with support >= 0.0001:            3792\n",
      "Remaining order_item:                114636\n",
      "Remaining orders with 2+ items:       24459\n",
      "Remaining order_item:                107666\n",
      "Item pairs:                          112766\n",
      "Item pairs with support >= 0.0001:      22851\n",
      "\n",
      "Starting order_item:                  41267\n",
      "Items with support >= 0.0001:            1961\n",
      "Remaining order_item:                 39405\n",
      "Remaining orders with 2+ items:        7673\n",
      "Remaining order_item:                 34746\n",
      "Item pairs:                           26470\n",
      "Item pairs with support >= 0.0001:      26470\n",
      "\n",
      "Starting order_item:                4332001\n",
      "Items with support >= 0.0001:            7073\n",
      "Remaining order_item:               4129531\n",
      "Remaining orders with 2+ items:      398906\n",
      "Remaining order_item:               4114648\n",
      "Item pairs:                         3957025\n",
      "Item pairs with support >= 0.0001:      91294\n",
      "\n",
      "Starting order_item:                6103898\n",
      "Items with support >= 0.0001:            8455\n",
      "Remaining order_item:               5751523\n",
      "Remaining orders with 2+ items:      580019\n",
      "Remaining order_item:               5724602\n",
      "Item pairs:                         6206166\n",
      "Item pairs with support >= 0.0001:      75092\n",
      "\n",
      "Starting order_item:                 343350\n",
      "Items with support >= 0.0001:            3347\n",
      "Remaining order_item:                325164\n",
      "Remaining orders with 2+ items:       60671\n",
      "Remaining order_item:                315418\n",
      "Item pairs:                          213724\n",
      "Item pairs with support >= 0.0001:      26205\n",
      "\n",
      "Writing cluster 0's item rules to csv...\n",
      "Writing cluster 1's item rules to csv...\n",
      "Writing cluster 2's item rules to csv...\n",
      "Writing cluster 3's item rules to csv...\n",
      "Writing cluster 4's item rules to csv...\n",
      "Writing cluster 5's item rules to csv...\n",
      "Writing cluster 6's item rules to csv...\n",
      "Writing cluster 7's item rules to csv...\n",
      "Writing cluster 8's item rules to csv...\n"
     ]
    }
   ],
   "source": [
    "# run each cluster series through association rule function and obtain association rules at item level\n",
    "REBUILD_TEST_DATA = False\n",
    "test_data_path = \"../input/associationRule/group0_item_rules.csv\"\n",
    "if REBUILD_TEST_DATA or not Path(test_data_path).exists():\n",
    "    group_association_rules_dic = {}\n",
    "    for x in range(0,9):\n",
    "        group_association_rules_dic[x] = apriori.association_rules(cluster_orders[x],.0001)\n",
    "    for x in group_association_rules_dic:\n",
    "        group_association_rules_dic[x] = group_association_rules_dic[x].merge(products[['product_id','product_name']]\n",
    "                   .rename(columns = {'product_id':'item_A','product_name':'product_name_A'}), on = 'item_A')\n",
    "        group_association_rules_dic[x] = group_association_rules_dic[x].merge(products[['product_id','product_name']]\n",
    "                   .rename(columns = {'product_id':'item_B','product_name':'product_name_B'}), on = 'item_B')\n",
    "        group_association_rules_dic[x] = group_association_rules_dic[x][['item_A','item_B','product_name_A',\n",
    "                                                                        'product_name_B','freqAB','supportAB','freqA',\n",
    "                                                                        'supportA','freqB','supportB','confidenceAtoB',\n",
    "                                                                        'confidenceBtoA','lift']]\n",
    "    for x in group_association_rules_dic:\n",
    "        print(\"Writing cluster \" + str(x) + \"'s item rules to csv...\")\n",
    "        group_association_rules_dic[x].to_csv('../input/associationRule/group'+str(x)+'_item_rules.csv')\n"
   ],
   "metadata": {
    "collapsed": false,
    "pycharm": {
     "name": "#%%\n"
    }
   }
  },
  {
   "cell_type": "code",
   "execution_count": 7,
   "outputs": [
    {
     "data": {
      "text/plain": "       item_A  item_B                                 product_name_A  \\\n0       16576   27380                             Chili Rice Scooter   \n1        7801   38520                     Multigrain Oat Manna Bread   \n2       11109   38520  Organic 4% Milk Fat Whole Milk Cottage Cheese   \n3       22224   38520                  Whole Milk Plain Greek Yogurt   \n4        7801   44517                     Multigrain Oat Manna Bread   \n...       ...     ...                                            ...   \n83089   24852   44912                                         Banana   \n83090   24852   34503                                         Banana   \n83091   24852   35855                                         Banana   \n83092   24852   36675                                         Banana   \n83093   24852   45368                                         Banana   \n\n                              product_name_B  freqAB  supportAB  freqA  \\\n0             Shiitake Mushroom Rice Scooter      19   0.000122     21   \n1                          Millet Rice Bread      19   0.000122     27   \n2                          Millet Rice Bread      19   0.000122    157   \n3                          Millet Rice Bread      16   0.000103    274   \n4                     Organic Calimyrna Figs      26   0.000167     27   \n...                                      ...     ...        ...    ...   \n83089                          Baking Powder      18   0.000116  29534   \n83090                      Grape-Nuts Cereal      24   0.000154  29534   \n83091           Unbleached All-Purpose Flour      25   0.000161  29534   \n83092  Kale Krunch, Organic, Southwest Ranch      16   0.000103  29534   \n83093               Roman Raspberry Sorbetto      17   0.000109  29534   \n\n       supportA  freqB  supportB  confidenceAtoB  confidenceBtoA         lift  \n0      0.000135     22  0.000142        0.904762        0.863636  6393.623377  \n1      0.000174     19  0.000122        0.703704        1.000000  5758.000000  \n2      0.001010     19  0.000122        0.121019        1.000000   990.229299  \n3      0.001762     19  0.000122        0.058394        0.842105   477.805609  \n4      0.000174     66  0.000425        0.962963        0.393939  2268.303030  \n...         ...    ...       ...             ...             ...          ...  \n83089  0.189971    113  0.000727        0.000609        0.159292     0.838508  \n83090  0.189971    155  0.000997        0.000813        0.154839     0.815066  \n83091  0.189971    187  0.001203        0.000846        0.133690     0.703739  \n83092  0.189971    122  0.000785        0.000542        0.131148     0.690356  \n83093  0.189971    147  0.000946        0.000576        0.115646     0.608758  \n\n[83094 rows x 13 columns]",
      "text/html": "<div>\n<style scoped>\n    .dataframe tbody tr th:only-of-type {\n        vertical-align: middle;\n    }\n\n    .dataframe tbody tr th {\n        vertical-align: top;\n    }\n\n    .dataframe thead th {\n        text-align: right;\n    }\n</style>\n<table border=\"1\" class=\"dataframe\">\n  <thead>\n    <tr style=\"text-align: right;\">\n      <th></th>\n      <th>item_A</th>\n      <th>item_B</th>\n      <th>product_name_A</th>\n      <th>product_name_B</th>\n      <th>freqAB</th>\n      <th>supportAB</th>\n      <th>freqA</th>\n      <th>supportA</th>\n      <th>freqB</th>\n      <th>supportB</th>\n      <th>confidenceAtoB</th>\n      <th>confidenceBtoA</th>\n      <th>lift</th>\n    </tr>\n  </thead>\n  <tbody>\n    <tr>\n      <th>0</th>\n      <td>16576</td>\n      <td>27380</td>\n      <td>Chili Rice Scooter</td>\n      <td>Shiitake Mushroom Rice Scooter</td>\n      <td>19</td>\n      <td>0.000122</td>\n      <td>21</td>\n      <td>0.000135</td>\n      <td>22</td>\n      <td>0.000142</td>\n      <td>0.904762</td>\n      <td>0.863636</td>\n      <td>6393.623377</td>\n    </tr>\n    <tr>\n      <th>1</th>\n      <td>7801</td>\n      <td>38520</td>\n      <td>Multigrain Oat Manna Bread</td>\n      <td>Millet Rice Bread</td>\n      <td>19</td>\n      <td>0.000122</td>\n      <td>27</td>\n      <td>0.000174</td>\n      <td>19</td>\n      <td>0.000122</td>\n      <td>0.703704</td>\n      <td>1.000000</td>\n      <td>5758.000000</td>\n    </tr>\n    <tr>\n      <th>2</th>\n      <td>11109</td>\n      <td>38520</td>\n      <td>Organic 4% Milk Fat Whole Milk Cottage Cheese</td>\n      <td>Millet Rice Bread</td>\n      <td>19</td>\n      <td>0.000122</td>\n      <td>157</td>\n      <td>0.001010</td>\n      <td>19</td>\n      <td>0.000122</td>\n      <td>0.121019</td>\n      <td>1.000000</td>\n      <td>990.229299</td>\n    </tr>\n    <tr>\n      <th>3</th>\n      <td>22224</td>\n      <td>38520</td>\n      <td>Whole Milk Plain Greek Yogurt</td>\n      <td>Millet Rice Bread</td>\n      <td>16</td>\n      <td>0.000103</td>\n      <td>274</td>\n      <td>0.001762</td>\n      <td>19</td>\n      <td>0.000122</td>\n      <td>0.058394</td>\n      <td>0.842105</td>\n      <td>477.805609</td>\n    </tr>\n    <tr>\n      <th>4</th>\n      <td>7801</td>\n      <td>44517</td>\n      <td>Multigrain Oat Manna Bread</td>\n      <td>Organic Calimyrna Figs</td>\n      <td>26</td>\n      <td>0.000167</td>\n      <td>27</td>\n      <td>0.000174</td>\n      <td>66</td>\n      <td>0.000425</td>\n      <td>0.962963</td>\n      <td>0.393939</td>\n      <td>2268.303030</td>\n    </tr>\n    <tr>\n      <th>...</th>\n      <td>...</td>\n      <td>...</td>\n      <td>...</td>\n      <td>...</td>\n      <td>...</td>\n      <td>...</td>\n      <td>...</td>\n      <td>...</td>\n      <td>...</td>\n      <td>...</td>\n      <td>...</td>\n      <td>...</td>\n      <td>...</td>\n    </tr>\n    <tr>\n      <th>83089</th>\n      <td>24852</td>\n      <td>44912</td>\n      <td>Banana</td>\n      <td>Baking Powder</td>\n      <td>18</td>\n      <td>0.000116</td>\n      <td>29534</td>\n      <td>0.189971</td>\n      <td>113</td>\n      <td>0.000727</td>\n      <td>0.000609</td>\n      <td>0.159292</td>\n      <td>0.838508</td>\n    </tr>\n    <tr>\n      <th>83090</th>\n      <td>24852</td>\n      <td>34503</td>\n      <td>Banana</td>\n      <td>Grape-Nuts Cereal</td>\n      <td>24</td>\n      <td>0.000154</td>\n      <td>29534</td>\n      <td>0.189971</td>\n      <td>155</td>\n      <td>0.000997</td>\n      <td>0.000813</td>\n      <td>0.154839</td>\n      <td>0.815066</td>\n    </tr>\n    <tr>\n      <th>83091</th>\n      <td>24852</td>\n      <td>35855</td>\n      <td>Banana</td>\n      <td>Unbleached All-Purpose Flour</td>\n      <td>25</td>\n      <td>0.000161</td>\n      <td>29534</td>\n      <td>0.189971</td>\n      <td>187</td>\n      <td>0.001203</td>\n      <td>0.000846</td>\n      <td>0.133690</td>\n      <td>0.703739</td>\n    </tr>\n    <tr>\n      <th>83092</th>\n      <td>24852</td>\n      <td>36675</td>\n      <td>Banana</td>\n      <td>Kale Krunch, Organic, Southwest Ranch</td>\n      <td>16</td>\n      <td>0.000103</td>\n      <td>29534</td>\n      <td>0.189971</td>\n      <td>122</td>\n      <td>0.000785</td>\n      <td>0.000542</td>\n      <td>0.131148</td>\n      <td>0.690356</td>\n    </tr>\n    <tr>\n      <th>83093</th>\n      <td>24852</td>\n      <td>45368</td>\n      <td>Banana</td>\n      <td>Roman Raspberry Sorbetto</td>\n      <td>17</td>\n      <td>0.000109</td>\n      <td>29534</td>\n      <td>0.189971</td>\n      <td>147</td>\n      <td>0.000946</td>\n      <td>0.000576</td>\n      <td>0.115646</td>\n      <td>0.608758</td>\n    </tr>\n  </tbody>\n</table>\n<p>83094 rows × 13 columns</p>\n</div>"
     },
     "execution_count": 7,
     "metadata": {},
     "output_type": "execute_result"
    }
   ],
   "source": [
    "group_association_rules_dic[0]"
   ],
   "metadata": {
    "collapsed": false,
    "pycharm": {
     "name": "#%%\n"
    }
   }
  },
  {
   "cell_type": "code",
   "execution_count": 8,
   "outputs": [],
   "source": [
    "i1 = orders.set_index('order_id')['product_id'].rename('item_id')"
   ],
   "metadata": {
    "collapsed": false,
    "pycharm": {
     "name": "#%%\n"
    }
   }
  },
  {
   "cell_type": "code",
   "execution_count": 9,
   "outputs": [
    {
     "data": {
      "text/plain": "order_id\n1    10246\n1    11109\n1    13176\n1    22035\n1    43633\nName: item_id, dtype: int64"
     },
     "execution_count": 9,
     "metadata": {},
     "output_type": "execute_result"
    }
   ],
   "source": [
    "i1.head()"
   ],
   "metadata": {
    "collapsed": false,
    "pycharm": {
     "name": "#%%\n"
    }
   }
  },
  {
   "cell_type": "code",
   "execution_count": 10,
   "outputs": [
    {
     "name": "stdout",
     "output_type": "stream",
     "text": [
      "Starting order_item:               33819106\n",
      "Items with support >= 0.0001:           10949\n",
      "Remaining order_item:              31116451\n",
      "Remaining orders with 2+ items:     3136021\n",
      "Remaining order_item:              30928016\n",
      "Item pairs:                        21061284\n",
      "Item pairs with support >= 0.0001:      61832\n",
      "\n"
     ]
    }
   ],
   "source": [
    "association_rule_no_clustering = apriori.association_rules(i1,.0001)"
   ],
   "metadata": {
    "collapsed": false,
    "pycharm": {
     "name": "#%%\n"
    }
   }
  },
  {
   "cell_type": "code",
   "execution_count": 11,
   "outputs": [
    {
     "data": {
      "text/plain": "       item_A  item_B  freqAB  supportAB   freqA  supportA   freqB  supportB  \\\n59856   41349   49570     317   0.000101     656  0.000209     602  0.000192   \n46905   19244   26488     326   0.000104     658  0.000210     731  0.000233   \n54852   11224   39739     416   0.000133     687  0.000219     987  0.000315   \n58537    7657   19513     338   0.000108     714  0.000228     924  0.000295   \n53784   29126   36361     539   0.000172    1215  0.000387     878  0.000280   \n...       ...     ...     ...        ...     ...       ...     ...       ...   \n28189    5450   47209     423   0.000135   51986  0.016577  220055  0.070170   \n12466    6184   24852     549   0.000175   31103  0.009918  488729  0.155844   \n45806   16797   21137    1415   0.000451  148254  0.047275  274267  0.087457   \n9752    47209   47766     941   0.000300  220055  0.070170  183626  0.058554   \n28980   13176   24852    1204   0.000384  391725  0.124911  488729  0.155844   \n\n       confidenceAtoB  confidenceBtoA         lift  \n59856        0.483232        0.526578  2517.316914  \n46905        0.495441        0.445964  2125.461740  \n54852        0.605531        0.421479  1923.970475  \n58537        0.473389        0.365801  1606.665542  \n53784        0.443621        0.613895  1584.517111  \n...               ...             ...          ...  \n28189        0.008137        0.001922     0.115958  \n12466        0.017651        0.001123     0.113261  \n45806        0.009544        0.005159     0.109133  \n9752         0.004276        0.005125     0.073030  \n28980        0.003074        0.002464     0.019722  \n\n[61832 rows x 11 columns]",
      "text/html": "<div>\n<style scoped>\n    .dataframe tbody tr th:only-of-type {\n        vertical-align: middle;\n    }\n\n    .dataframe tbody tr th {\n        vertical-align: top;\n    }\n\n    .dataframe thead th {\n        text-align: right;\n    }\n</style>\n<table border=\"1\" class=\"dataframe\">\n  <thead>\n    <tr style=\"text-align: right;\">\n      <th></th>\n      <th>item_A</th>\n      <th>item_B</th>\n      <th>freqAB</th>\n      <th>supportAB</th>\n      <th>freqA</th>\n      <th>supportA</th>\n      <th>freqB</th>\n      <th>supportB</th>\n      <th>confidenceAtoB</th>\n      <th>confidenceBtoA</th>\n      <th>lift</th>\n    </tr>\n  </thead>\n  <tbody>\n    <tr>\n      <th>59856</th>\n      <td>41349</td>\n      <td>49570</td>\n      <td>317</td>\n      <td>0.000101</td>\n      <td>656</td>\n      <td>0.000209</td>\n      <td>602</td>\n      <td>0.000192</td>\n      <td>0.483232</td>\n      <td>0.526578</td>\n      <td>2517.316914</td>\n    </tr>\n    <tr>\n      <th>46905</th>\n      <td>19244</td>\n      <td>26488</td>\n      <td>326</td>\n      <td>0.000104</td>\n      <td>658</td>\n      <td>0.000210</td>\n      <td>731</td>\n      <td>0.000233</td>\n      <td>0.495441</td>\n      <td>0.445964</td>\n      <td>2125.461740</td>\n    </tr>\n    <tr>\n      <th>54852</th>\n      <td>11224</td>\n      <td>39739</td>\n      <td>416</td>\n      <td>0.000133</td>\n      <td>687</td>\n      <td>0.000219</td>\n      <td>987</td>\n      <td>0.000315</td>\n      <td>0.605531</td>\n      <td>0.421479</td>\n      <td>1923.970475</td>\n    </tr>\n    <tr>\n      <th>58537</th>\n      <td>7657</td>\n      <td>19513</td>\n      <td>338</td>\n      <td>0.000108</td>\n      <td>714</td>\n      <td>0.000228</td>\n      <td>924</td>\n      <td>0.000295</td>\n      <td>0.473389</td>\n      <td>0.365801</td>\n      <td>1606.665542</td>\n    </tr>\n    <tr>\n      <th>53784</th>\n      <td>29126</td>\n      <td>36361</td>\n      <td>539</td>\n      <td>0.000172</td>\n      <td>1215</td>\n      <td>0.000387</td>\n      <td>878</td>\n      <td>0.000280</td>\n      <td>0.443621</td>\n      <td>0.613895</td>\n      <td>1584.517111</td>\n    </tr>\n    <tr>\n      <th>...</th>\n      <td>...</td>\n      <td>...</td>\n      <td>...</td>\n      <td>...</td>\n      <td>...</td>\n      <td>...</td>\n      <td>...</td>\n      <td>...</td>\n      <td>...</td>\n      <td>...</td>\n      <td>...</td>\n    </tr>\n    <tr>\n      <th>28189</th>\n      <td>5450</td>\n      <td>47209</td>\n      <td>423</td>\n      <td>0.000135</td>\n      <td>51986</td>\n      <td>0.016577</td>\n      <td>220055</td>\n      <td>0.070170</td>\n      <td>0.008137</td>\n      <td>0.001922</td>\n      <td>0.115958</td>\n    </tr>\n    <tr>\n      <th>12466</th>\n      <td>6184</td>\n      <td>24852</td>\n      <td>549</td>\n      <td>0.000175</td>\n      <td>31103</td>\n      <td>0.009918</td>\n      <td>488729</td>\n      <td>0.155844</td>\n      <td>0.017651</td>\n      <td>0.001123</td>\n      <td>0.113261</td>\n    </tr>\n    <tr>\n      <th>45806</th>\n      <td>16797</td>\n      <td>21137</td>\n      <td>1415</td>\n      <td>0.000451</td>\n      <td>148254</td>\n      <td>0.047275</td>\n      <td>274267</td>\n      <td>0.087457</td>\n      <td>0.009544</td>\n      <td>0.005159</td>\n      <td>0.109133</td>\n    </tr>\n    <tr>\n      <th>9752</th>\n      <td>47209</td>\n      <td>47766</td>\n      <td>941</td>\n      <td>0.000300</td>\n      <td>220055</td>\n      <td>0.070170</td>\n      <td>183626</td>\n      <td>0.058554</td>\n      <td>0.004276</td>\n      <td>0.005125</td>\n      <td>0.073030</td>\n    </tr>\n    <tr>\n      <th>28980</th>\n      <td>13176</td>\n      <td>24852</td>\n      <td>1204</td>\n      <td>0.000384</td>\n      <td>391725</td>\n      <td>0.124911</td>\n      <td>488729</td>\n      <td>0.155844</td>\n      <td>0.003074</td>\n      <td>0.002464</td>\n      <td>0.019722</td>\n    </tr>\n  </tbody>\n</table>\n<p>61832 rows × 11 columns</p>\n</div>"
     },
     "execution_count": 11,
     "metadata": {},
     "output_type": "execute_result"
    }
   ],
   "source": [
    "association_rule_no_clustering"
   ],
   "metadata": {
    "collapsed": false,
    "pycharm": {
     "name": "#%%\n"
    }
   }
  },
  {
   "cell_type": "code",
   "execution_count": 12,
   "outputs": [
    {
     "name": "stdout",
     "output_type": "stream",
     "text": [
      "Writing clusters aisle rules to csv...\n"
     ]
    }
   ],
   "source": [
    "association_rule_no_clustering = association_rule_no_clustering.merge(aisles[['aisle_id','aisle']]\n",
    "                   .rename(columns = {'aisle_id':'item_A','aisle':'aisle_name_A'}), on = 'item_A')\n",
    "association_rule_no_clustering = association_rule_no_clustering.merge(aisles[['aisle_id','aisle']]\n",
    "                   .rename(columns = {'aisle_id':'item_B','aisle':'aisle_name_B'}), on = 'item_B')\n",
    "association_rule_no_clustering = association_rule_no_clustering[['item_A','item_B','aisle_name_A',\n",
    "                                                                        'aisle_name_B','freqAB','supportAB','freqA',\n",
    "                                                                        'supportA','freqB','supportB','confidenceAtoB',\n",
    "                                                                        'confidenceBtoA','lift']]\n",
    "print(\"Writing clusters aisle rules to csv...\")\n",
    "association_rule_no_clustering.to_csv('../input/associationRule_no_cluster/all_aisle_rules.csv')"
   ],
   "metadata": {
    "collapsed": false,
    "pycharm": {
     "name": "#%%\n"
    }
   }
  },
  {
   "cell_type": "code",
   "execution_count": 13,
   "outputs": [],
   "source": [
    "# separate order data by cluster and transform into expected format of group association function at aisle level\n",
    "\n",
    "cluster_aisle_orders = {}\n",
    "for i in range(0,9):\n",
    "    x = orders[orders['cluster'] == i]\n",
    "    x = x.groupby(['order_id','aisle_id'])['product_id'].count().reset_index().set_index('order_id')['aisle_id'].rename('item_id')\n",
    "    cluster_aisle_orders[i] = x"
   ],
   "metadata": {
    "collapsed": false,
    "pycharm": {
     "name": "#%%\n"
    }
   }
  },
  {
   "cell_type": "code",
   "execution_count": 14,
   "outputs": [
    {
     "name": "stdout",
     "output_type": "stream",
     "text": [
      "Starting order_item:                1068058\n",
      "Items with support >= 0.0001:             134\n",
      "Remaining order_item:               1068058\n",
      "Remaining orders with 2+ items:      154657\n",
      "Remaining order_item:               1058033\n",
      "Item pairs:                            8756\n",
      "Item pairs with support >= 0.0001:       6961\n",
      "\n",
      "Starting order_item:                7978050\n",
      "Items with support >= 0.0001:             134\n",
      "Remaining order_item:               7978050\n",
      "Remaining orders with 2+ items:      892495\n",
      "Remaining order_item:               7951516\n",
      "Item pairs:                            8905\n",
      "Item pairs with support >= 0.0001:       7664\n",
      "\n",
      "Starting order_item:                 401306\n",
      "Items with support >= 0.0001:             118\n",
      "Remaining order_item:                401265\n",
      "Remaining orders with 2+ items:       94134\n",
      "Remaining order_item:                382173\n",
      "Item pairs:                            5692\n",
      "Item pairs with support >= 0.0001:       3318\n",
      "\n",
      "Starting order_item:                6889543\n",
      "Items with support >= 0.0001:             134\n",
      "Remaining order_item:               6889543\n",
      "Remaining orders with 2+ items:      833981\n",
      "Remaining order_item:               6827419\n",
      "Item pairs:                            8908\n",
      "Item pairs with support >= 0.0001:       8309\n",
      "\n",
      "Starting order_item:                  94730\n",
      "Items with support >= 0.0001:             132\n",
      "Remaining order_item:                 94728\n",
      "Remaining orders with 2+ items:       23379\n",
      "Remaining order_item:                 86351\n",
      "Item pairs:                            6148\n",
      "Item pairs with support >= 0.0001:       4196\n",
      "\n",
      "Starting order_item:                  22924\n",
      "Items with support >= 0.0001:             124\n",
      "Remaining order_item:                 22917\n",
      "Remaining orders with 2+ items:        5644\n",
      "Remaining order_item:                 16140\n",
      "Item pairs:                            2347\n",
      "Item pairs with support >= 0.0001:       2347\n",
      "\n",
      "Starting order_item:                2781233\n",
      "Items with support >= 0.0001:             134\n",
      "Remaining order_item:               2781233\n",
      "Remaining orders with 2+ items:      398893\n",
      "Remaining order_item:               2764693\n",
      "Item pairs:                            8737\n",
      "Item pairs with support >= 0.0001:       5956\n",
      "\n",
      "Starting order_item:                4376579\n",
      "Items with support >= 0.0001:             134\n",
      "Remaining order_item:               4376579\n",
      "Remaining orders with 2+ items:      581429\n",
      "Remaining order_item:               4348054\n",
      "Item pairs:                            8874\n",
      "Item pairs with support >= 0.0001:       6750\n",
      "\n",
      "Starting order_item:                 218169\n",
      "Items with support >= 0.0001:             133\n",
      "Remaining order_item:                218162\n",
      "Remaining orders with 2+ items:       55555\n",
      "Remaining order_item:                202708\n",
      "Item pairs:                            6179\n",
      "Item pairs with support >= 0.0001:       3333\n",
      "\n",
      "Writing cluster 0's aisle rules to csv...\n",
      "Writing cluster 1's aisle rules to csv...\n",
      "Writing cluster 2's aisle rules to csv...\n",
      "Writing cluster 3's aisle rules to csv...\n",
      "Writing cluster 4's aisle rules to csv...\n",
      "Writing cluster 5's aisle rules to csv...\n",
      "Writing cluster 6's aisle rules to csv...\n",
      "Writing cluster 7's aisle rules to csv...\n",
      "Writing cluster 8's aisle rules to csv...\n"
     ]
    }
   ],
   "source": [
    "# format item association rule dataframes and merge product names\n",
    "REBUILD_TEST_DATA = False\n",
    "test_data_path = \"../input/associationRule/group0_aisle_rules.csv\"\n",
    "if REBUILD_TEST_DATA or not Path(test_data_path).exists():\n",
    "    group_aisle_association_rules_dic = {}\n",
    "    for x in range(0,9):\n",
    "        group_aisle_association_rules_dic[x] = apriori.association_rules(cluster_aisle_orders[x],.0001)\n",
    "    for x in group_aisle_association_rules_dic:\n",
    "        group_aisle_association_rules_dic[x] = group_aisle_association_rules_dic[x].merge(aisles[['aisle_id','aisle']]\n",
    "                   .rename(columns = {'aisle_id':'item_A','aisle':'aisle_name_A'}), on = 'item_A')\n",
    "        group_aisle_association_rules_dic[x] = group_aisle_association_rules_dic[x].merge(aisles[['aisle_id','aisle']]\n",
    "                   .rename(columns = {'aisle_id':'item_B','aisle':'aisle_name_B'}), on = 'item_B')\n",
    "        group_aisle_association_rules_dic[x] = group_aisle_association_rules_dic[x][['item_A','item_B','aisle_name_A',\n",
    "                                                                        'aisle_name_B','freqAB','supportAB','freqA',\n",
    "                                                                        'supportA','freqB','supportB','confidenceAtoB',\n",
    "                                                                        'confidenceBtoA','lift']]\n",
    "    group_aisle_association_rules_dic[x] = group_aisle_association_rules_dic[x].rename(columns = {'item_A':'aisle_A','item_B':'aisle_B'})\n",
    "    for x in group_aisle_association_rules_dic:\n",
    "        print(\"Writing cluster \" + str(x) + \"'s aisle rules to csv...\")\n",
    "        group_aisle_association_rules_dic[x].to_csv('../input/associationRule/group'+str(x)+'_aisle_rules.csv')"
   ],
   "metadata": {
    "collapsed": false,
    "pycharm": {
     "name": "#%%\n"
    }
   }
  },
  {
   "cell_type": "code",
   "execution_count": null,
   "outputs": [],
   "source": [],
   "metadata": {
    "collapsed": false,
    "pycharm": {
     "name": "#%%\n"
    }
   }
  }
 ],
 "metadata": {
  "kernelspec": {
   "display_name": "Python 3",
   "language": "python",
   "name": "python3"
  },
  "language_info": {
   "codemirror_mode": {
    "name": "ipython",
    "version": 2
   },
   "file_extension": ".py",
   "mimetype": "text/x-python",
   "name": "python",
   "nbconvert_exporter": "python",
   "pygments_lexer": "ipython2",
   "version": "2.7.6"
  }
 },
 "nbformat": 4,
 "nbformat_minor": 0
}