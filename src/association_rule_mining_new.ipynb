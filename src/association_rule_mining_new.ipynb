{
 "cells": [
  {
   "cell_type": "code",
   "execution_count": 6,
   "metadata": {
    "collapsed": true
   },
   "outputs": [],
   "source": [
    "import pandas as pd\n",
    "import numpy as np\n",
    "import seaborn as sns\n",
    "import numpy as np\n",
    "from itertools import combinations, groupby\n",
    "from collections import Counter\n",
    "from pathlib import Path\n",
    "from apriori_algo import AprioriAlgo\n",
    "apriori = AprioriAlgo()"
   ]
  },
  {
   "cell_type": "code",
   "execution_count": 2,
   "outputs": [
    {
     "name": "stderr",
     "output_type": "stream",
     "text": [
      "c:\\users\\akshaysharma\\hvacproakshay\\lib\\site-packages\\numpy\\lib\\arraysetops.py:583: FutureWarning: elementwise comparison failed; returning scalar instead, but in the future will perform elementwise comparison\n",
      "  mask |= (ar1 == a)\n"
     ]
    }
   ],
   "source": [
    "orders = pd.read_csv('../input/all_orders.csv', index_col = 0)\n",
    "cluster_df = pd.read_csv('../input/cluster_df')\n",
    "products = pd.read_csv('../input/products.csv')\n",
    "aisles = pd.read_csv('../input/aisles.csv')\n",
    "departments = pd.read_csv('../input/departments.csv')"
   ],
   "metadata": {
    "collapsed": false,
    "pycharm": {
     "name": "#%%\n"
    }
   }
  },
  {
   "cell_type": "code",
   "execution_count": 3,
   "outputs": [
    {
     "data": {
      "text/plain": "          order_id  product_id  add_to_cart_order  reordered  aisle_id  \\\n30264547         1       10246                  3          0        83   \n30264545         1       11109                  2          1       108   \n30264548         1       13176                  6          0        24   \n30264544         1       22035                  8          1        21   \n30264550         1       43633                  5          1        95   \n...            ...         ...                ...        ...       ...   \n23108244   3421083       21162                  3          0        92   \n23108238   3421083       24852                  9          1        24   \n23108247   3421083       35211                  5          0        92   \n23108242   3421083       39678                  6          1        74   \n23108246   3421083       45309                  2          0        92   \n\n          department_id                 aisle    department  user_id  cluster  \n30264547              4      fresh vegetables       produce   112108        1  \n30264545             16  other creams cheeses    dairy eggs   112108        1  \n30264548              4          fresh fruits       produce   112108        1  \n30264544             16       packaged cheese    dairy eggs   112108        1  \n30264550             15   canned meat seafood  canned goods   112108        1  \n...                 ...                   ...           ...      ...      ...  \n23108244             18     baby food formula        babies    25247        1  \n23108238              4          fresh fruits       produce    25247        1  \n23108247             18     baby food formula        babies    25247        1  \n23108242             17       dish detergents     household    25247        1  \n23108246             18     baby food formula        babies    25247        1  \n\n[33819106 rows x 10 columns]",
      "text/html": "<div>\n<style scoped>\n    .dataframe tbody tr th:only-of-type {\n        vertical-align: middle;\n    }\n\n    .dataframe tbody tr th {\n        vertical-align: top;\n    }\n\n    .dataframe thead th {\n        text-align: right;\n    }\n</style>\n<table border=\"1\" class=\"dataframe\">\n  <thead>\n    <tr style=\"text-align: right;\">\n      <th></th>\n      <th>order_id</th>\n      <th>product_id</th>\n      <th>add_to_cart_order</th>\n      <th>reordered</th>\n      <th>aisle_id</th>\n      <th>department_id</th>\n      <th>aisle</th>\n      <th>department</th>\n      <th>user_id</th>\n      <th>cluster</th>\n    </tr>\n  </thead>\n  <tbody>\n    <tr>\n      <th>30264547</th>\n      <td>1</td>\n      <td>10246</td>\n      <td>3</td>\n      <td>0</td>\n      <td>83</td>\n      <td>4</td>\n      <td>fresh vegetables</td>\n      <td>produce</td>\n      <td>112108</td>\n      <td>1</td>\n    </tr>\n    <tr>\n      <th>30264545</th>\n      <td>1</td>\n      <td>11109</td>\n      <td>2</td>\n      <td>1</td>\n      <td>108</td>\n      <td>16</td>\n      <td>other creams cheeses</td>\n      <td>dairy eggs</td>\n      <td>112108</td>\n      <td>1</td>\n    </tr>\n    <tr>\n      <th>30264548</th>\n      <td>1</td>\n      <td>13176</td>\n      <td>6</td>\n      <td>0</td>\n      <td>24</td>\n      <td>4</td>\n      <td>fresh fruits</td>\n      <td>produce</td>\n      <td>112108</td>\n      <td>1</td>\n    </tr>\n    <tr>\n      <th>30264544</th>\n      <td>1</td>\n      <td>22035</td>\n      <td>8</td>\n      <td>1</td>\n      <td>21</td>\n      <td>16</td>\n      <td>packaged cheese</td>\n      <td>dairy eggs</td>\n      <td>112108</td>\n      <td>1</td>\n    </tr>\n    <tr>\n      <th>30264550</th>\n      <td>1</td>\n      <td>43633</td>\n      <td>5</td>\n      <td>1</td>\n      <td>95</td>\n      <td>15</td>\n      <td>canned meat seafood</td>\n      <td>canned goods</td>\n      <td>112108</td>\n      <td>1</td>\n    </tr>\n    <tr>\n      <th>...</th>\n      <td>...</td>\n      <td>...</td>\n      <td>...</td>\n      <td>...</td>\n      <td>...</td>\n      <td>...</td>\n      <td>...</td>\n      <td>...</td>\n      <td>...</td>\n      <td>...</td>\n    </tr>\n    <tr>\n      <th>23108244</th>\n      <td>3421083</td>\n      <td>21162</td>\n      <td>3</td>\n      <td>0</td>\n      <td>92</td>\n      <td>18</td>\n      <td>baby food formula</td>\n      <td>babies</td>\n      <td>25247</td>\n      <td>1</td>\n    </tr>\n    <tr>\n      <th>23108238</th>\n      <td>3421083</td>\n      <td>24852</td>\n      <td>9</td>\n      <td>1</td>\n      <td>24</td>\n      <td>4</td>\n      <td>fresh fruits</td>\n      <td>produce</td>\n      <td>25247</td>\n      <td>1</td>\n    </tr>\n    <tr>\n      <th>23108247</th>\n      <td>3421083</td>\n      <td>35211</td>\n      <td>5</td>\n      <td>0</td>\n      <td>92</td>\n      <td>18</td>\n      <td>baby food formula</td>\n      <td>babies</td>\n      <td>25247</td>\n      <td>1</td>\n    </tr>\n    <tr>\n      <th>23108242</th>\n      <td>3421083</td>\n      <td>39678</td>\n      <td>6</td>\n      <td>1</td>\n      <td>74</td>\n      <td>17</td>\n      <td>dish detergents</td>\n      <td>household</td>\n      <td>25247</td>\n      <td>1</td>\n    </tr>\n    <tr>\n      <th>23108246</th>\n      <td>3421083</td>\n      <td>45309</td>\n      <td>2</td>\n      <td>0</td>\n      <td>92</td>\n      <td>18</td>\n      <td>baby food formula</td>\n      <td>babies</td>\n      <td>25247</td>\n      <td>1</td>\n    </tr>\n  </tbody>\n</table>\n<p>33819106 rows × 10 columns</p>\n</div>"
     },
     "execution_count": 3,
     "metadata": {},
     "output_type": "execute_result"
    }
   ],
   "source": [
    "orders = orders.sort_values(['order_id','product_id'])\n",
    "orders"
   ],
   "metadata": {
    "collapsed": false,
    "pycharm": {
     "name": "#%%\n"
    }
   }
  },
  {
   "cell_type": "code",
   "execution_count": 4,
   "outputs": [],
   "source": [
    "# separate order data by cluster and transform into expected format of group association function\n",
    "\n",
    "cluster_orders = {}\n",
    "for x in range(0,6):\n",
    "    i = orders[orders['cluster'] == x]\n",
    "    i = i.set_index('order_id')['product_id'].rename('item_id')\n",
    "    cluster_orders[x] = i"
   ],
   "metadata": {
    "collapsed": false,
    "pycharm": {
     "name": "#%%\n"
    }
   }
  },
  {
   "cell_type": "code",
   "execution_count": 11,
   "outputs": [],
   "source": [
    "# run each cluster series through association rule function and obtain association rules at item level\n",
    "REBUILD_TEST_DATA = False\n",
    "test_data_path = \"../input/associationRule/group0_aisle_rules.csv\"\n",
    "if REBUILD_TEST_DATA or not Path(test_data_path).exists():\n",
    "    group_association_rules_dic = {}\n",
    "    for x in range(0,6):\n",
    "        group_association_rules_dic[x] = apriori.association_rules(cluster_orders[x],.0001)"
   ],
   "metadata": {
    "collapsed": false,
    "pycharm": {
     "name": "#%%\n"
    }
   }
  },
  {
   "cell_type": "code",
   "execution_count": 9,
   "outputs": [],
   "source": [],
   "metadata": {
    "collapsed": false,
    "pycharm": {
     "name": "#%%\n"
    }
   }
  },
  {
   "cell_type": "code",
   "execution_count": 10,
   "outputs": [
    {
     "data": {
      "text/plain": "True"
     },
     "execution_count": 10,
     "metadata": {},
     "output_type": "execute_result"
    }
   ],
   "source": [],
   "metadata": {
    "collapsed": false,
    "pycharm": {
     "name": "#%%\n"
    }
   }
  },
  {
   "cell_type": "code",
   "execution_count": null,
   "outputs": [],
   "source": [],
   "metadata": {
    "collapsed": false,
    "pycharm": {
     "name": "#%%\n"
    }
   }
  },
  {
   "cell_type": "code",
   "execution_count": null,
   "outputs": [],
   "source": [],
   "metadata": {
    "collapsed": false,
    "pycharm": {
     "name": "#%%\n"
    }
   }
  },
  {
   "cell_type": "code",
   "execution_count": null,
   "outputs": [],
   "source": [],
   "metadata": {
    "collapsed": false,
    "pycharm": {
     "name": "#%%\n"
    }
   }
  },
  {
   "cell_type": "code",
   "execution_count": null,
   "outputs": [],
   "source": [],
   "metadata": {
    "collapsed": false,
    "pycharm": {
     "name": "#%%\n"
    }
   }
  }
 ],
 "metadata": {
  "kernelspec": {
   "display_name": "Python 3",
   "language": "python",
   "name": "python3"
  },
  "language_info": {
   "codemirror_mode": {
    "name": "ipython",
    "version": 2
   },
   "file_extension": ".py",
   "mimetype": "text/x-python",
   "name": "python",
   "nbconvert_exporter": "python",
   "pygments_lexer": "ipython2",
   "version": "2.7.6"
  }
 },
 "nbformat": 4,
 "nbformat_minor": 0
}