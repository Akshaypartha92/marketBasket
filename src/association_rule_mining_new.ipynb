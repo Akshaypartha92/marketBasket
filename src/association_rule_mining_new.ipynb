{
 "cells": [
  {
   "cell_type": "code",
   "execution_count": 2,
   "metadata": {
    "collapsed": true
   },
   "outputs": [],
   "source": [
    "import pandas as pd\n",
    "import numpy as np\n",
    "import seaborn as sns\n",
    "import numpy as np\n",
    "from itertools import combinations, groupby\n",
    "from collections import Counter\n",
    "from pathlib import Path\n",
    "from apriori_algo import AprioriAlgo\n",
    "apriori = AprioriAlgo()"
   ]
  },
  {
   "cell_type": "code",
   "execution_count": 3,
   "outputs": [
    {
     "name": "stderr",
     "output_type": "stream",
     "text": [
      "c:\\users\\akshaysharma\\hvacproakshay\\lib\\site-packages\\numpy\\lib\\arraysetops.py:583: FutureWarning: elementwise comparison failed; returning scalar instead, but in the future will perform elementwise comparison\n",
      "  mask |= (ar1 == a)\n"
     ]
    }
   ],
   "source": [
    "orders = pd.read_csv('../input/all_orders.csv', index_col = 0)\n",
    "cluster_df = pd.read_csv('../input/cluster_df')\n",
    "products = pd.read_csv('../input/products.csv')\n",
    "aisles = pd.read_csv('../input/aisles.csv')\n",
    "departments = pd.read_csv('../input/departments.csv')"
   ],
   "metadata": {
    "collapsed": false,
    "pycharm": {
     "name": "#%%\n"
    }
   }
  },
  {
   "cell_type": "code",
   "execution_count": 4,
   "outputs": [
    {
     "data": {
      "text/plain": "          order_id  product_id  add_to_cart_order  reordered  aisle_id  \\\n30264547         1       10246                  3          0        83   \n30264545         1       11109                  2          1       108   \n30264548         1       13176                  6          0        24   \n30264544         1       22035                  8          1        21   \n30264550         1       43633                  5          1        95   \n...            ...         ...                ...        ...       ...   \n23108244   3421083       21162                  3          0        92   \n23108238   3421083       24852                  9          1        24   \n23108247   3421083       35211                  5          0        92   \n23108242   3421083       39678                  6          1        74   \n23108246   3421083       45309                  2          0        92   \n\n          department_id                 aisle    department  user_id  cluster  \n30264547              4      fresh vegetables       produce   112108        1  \n30264545             16  other creams cheeses    dairy eggs   112108        1  \n30264548              4          fresh fruits       produce   112108        1  \n30264544             16       packaged cheese    dairy eggs   112108        1  \n30264550             15   canned meat seafood  canned goods   112108        1  \n...                 ...                   ...           ...      ...      ...  \n23108244             18     baby food formula        babies    25247        1  \n23108238              4          fresh fruits       produce    25247        1  \n23108247             18     baby food formula        babies    25247        1  \n23108242             17       dish detergents     household    25247        1  \n23108246             18     baby food formula        babies    25247        1  \n\n[33819106 rows x 10 columns]",
      "text/html": "<div>\n<style scoped>\n    .dataframe tbody tr th:only-of-type {\n        vertical-align: middle;\n    }\n\n    .dataframe tbody tr th {\n        vertical-align: top;\n    }\n\n    .dataframe thead th {\n        text-align: right;\n    }\n</style>\n<table border=\"1\" class=\"dataframe\">\n  <thead>\n    <tr style=\"text-align: right;\">\n      <th></th>\n      <th>order_id</th>\n      <th>product_id</th>\n      <th>add_to_cart_order</th>\n      <th>reordered</th>\n      <th>aisle_id</th>\n      <th>department_id</th>\n      <th>aisle</th>\n      <th>department</th>\n      <th>user_id</th>\n      <th>cluster</th>\n    </tr>\n  </thead>\n  <tbody>\n    <tr>\n      <th>30264547</th>\n      <td>1</td>\n      <td>10246</td>\n      <td>3</td>\n      <td>0</td>\n      <td>83</td>\n      <td>4</td>\n      <td>fresh vegetables</td>\n      <td>produce</td>\n      <td>112108</td>\n      <td>1</td>\n    </tr>\n    <tr>\n      <th>30264545</th>\n      <td>1</td>\n      <td>11109</td>\n      <td>2</td>\n      <td>1</td>\n      <td>108</td>\n      <td>16</td>\n      <td>other creams cheeses</td>\n      <td>dairy eggs</td>\n      <td>112108</td>\n      <td>1</td>\n    </tr>\n    <tr>\n      <th>30264548</th>\n      <td>1</td>\n      <td>13176</td>\n      <td>6</td>\n      <td>0</td>\n      <td>24</td>\n      <td>4</td>\n      <td>fresh fruits</td>\n      <td>produce</td>\n      <td>112108</td>\n      <td>1</td>\n    </tr>\n    <tr>\n      <th>30264544</th>\n      <td>1</td>\n      <td>22035</td>\n      <td>8</td>\n      <td>1</td>\n      <td>21</td>\n      <td>16</td>\n      <td>packaged cheese</td>\n      <td>dairy eggs</td>\n      <td>112108</td>\n      <td>1</td>\n    </tr>\n    <tr>\n      <th>30264550</th>\n      <td>1</td>\n      <td>43633</td>\n      <td>5</td>\n      <td>1</td>\n      <td>95</td>\n      <td>15</td>\n      <td>canned meat seafood</td>\n      <td>canned goods</td>\n      <td>112108</td>\n      <td>1</td>\n    </tr>\n    <tr>\n      <th>...</th>\n      <td>...</td>\n      <td>...</td>\n      <td>...</td>\n      <td>...</td>\n      <td>...</td>\n      <td>...</td>\n      <td>...</td>\n      <td>...</td>\n      <td>...</td>\n      <td>...</td>\n    </tr>\n    <tr>\n      <th>23108244</th>\n      <td>3421083</td>\n      <td>21162</td>\n      <td>3</td>\n      <td>0</td>\n      <td>92</td>\n      <td>18</td>\n      <td>baby food formula</td>\n      <td>babies</td>\n      <td>25247</td>\n      <td>1</td>\n    </tr>\n    <tr>\n      <th>23108238</th>\n      <td>3421083</td>\n      <td>24852</td>\n      <td>9</td>\n      <td>1</td>\n      <td>24</td>\n      <td>4</td>\n      <td>fresh fruits</td>\n      <td>produce</td>\n      <td>25247</td>\n      <td>1</td>\n    </tr>\n    <tr>\n      <th>23108247</th>\n      <td>3421083</td>\n      <td>35211</td>\n      <td>5</td>\n      <td>0</td>\n      <td>92</td>\n      <td>18</td>\n      <td>baby food formula</td>\n      <td>babies</td>\n      <td>25247</td>\n      <td>1</td>\n    </tr>\n    <tr>\n      <th>23108242</th>\n      <td>3421083</td>\n      <td>39678</td>\n      <td>6</td>\n      <td>1</td>\n      <td>74</td>\n      <td>17</td>\n      <td>dish detergents</td>\n      <td>household</td>\n      <td>25247</td>\n      <td>1</td>\n    </tr>\n    <tr>\n      <th>23108246</th>\n      <td>3421083</td>\n      <td>45309</td>\n      <td>2</td>\n      <td>0</td>\n      <td>92</td>\n      <td>18</td>\n      <td>baby food formula</td>\n      <td>babies</td>\n      <td>25247</td>\n      <td>1</td>\n    </tr>\n  </tbody>\n</table>\n<p>33819106 rows × 10 columns</p>\n</div>"
     },
     "execution_count": 4,
     "metadata": {},
     "output_type": "execute_result"
    }
   ],
   "source": [
    "orders = orders.sort_values(['order_id','product_id'])\n",
    "orders"
   ],
   "metadata": {
    "collapsed": false,
    "pycharm": {
     "name": "#%%\n"
    }
   }
  },
  {
   "cell_type": "code",
   "execution_count": 13,
   "outputs": [],
   "source": [
    "# separate order data by cluster and transform into expected format of group association function\n",
    "\n",
    "cluster_orders = {}\n",
    "for x in range(0,6):\n",
    "    i = orders[orders['cluster'] == x]\n",
    "    i = i.set_index('order_id')['product_id'].rename('item_id')\n",
    "    cluster_orders[x] = i"
   ],
   "metadata": {
    "collapsed": false,
    "pycharm": {
     "name": "#%%\n"
    }
   }
  },
  {
   "cell_type": "code",
   "execution_count": 19,
   "outputs": [
    {
     "data": {
      "text/plain": "order_id\n13           196\n13          3800\n13         17330\n13         23020\n13         25783\n           ...  \n3421078    37646\n3421078    38656\n3421078    40396\n3421078    41844\n3421078    48577\nName: item_id, Length: 1740670, dtype: int64"
     },
     "execution_count": 19,
     "metadata": {},
     "output_type": "execute_result"
    }
   ],
   "source": [
    "cluster_orders[0]"
   ],
   "metadata": {
    "collapsed": false,
    "pycharm": {
     "name": "#%%\n"
    }
   }
  },
  {
   "cell_type": "code",
   "execution_count": 15,
   "outputs": [
    {
     "name": "stdout",
     "output_type": "stream",
     "text": [
      "Starting order_item:                1740670\n",
      "Items with support >= 0.0001:            6216\n",
      "Remaining order_item:               1631820\n",
      "Remaining orders with 2+ items:      225372\n",
      "Remaining order_item:               1609574\n",
      "Item pairs:                         1643666\n",
      "Item pairs with support >= 0.0001:      45408\n",
      "\n",
      "Starting order_item:               15524044\n",
      "Items with support >= 0.0001:           10316\n",
      "Remaining order_item:              14600167\n",
      "Remaining orders with 2+ items:     1276870\n",
      "Remaining order_item:              14560949\n",
      "Item pairs:                        14030084\n",
      "Item pairs with support >= 0.0001:      95546\n",
      "\n",
      "Starting order_item:               10153348\n",
      "Items with support >= 0.0001:           13288\n",
      "Remaining order_item:               9206509\n",
      "Remaining orders with 2+ items:      992409\n",
      "Remaining order_item:               9130882\n",
      "Item pairs:                        15999908\n",
      "Item pairs with support >= 0.0001:      28714\n",
      "\n",
      "Starting order_item:                5642242\n",
      "Items with support >= 0.0001:            7483\n",
      "Remaining order_item:               5362684\n",
      "Remaining orders with 2+ items:      511880\n",
      "Remaining order_item:               5343998\n",
      "Item pairs:                         5010118\n",
      "Item pairs with support >= 0.0001:      90662\n",
      "\n",
      "Starting order_item:                 541171\n",
      "Items with support >= 0.0001:            1063\n",
      "Remaining order_item:                538080\n",
      "Remaining orders with 2+ items:      100206\n",
      "Remaining order_item:                520611\n",
      "Item pairs:                          151541\n",
      "Item pairs with support >= 0.0001:      24498\n",
      "\n",
      "Starting order_item:                 217631\n",
      "Items with support >= 0.0001:            4752\n",
      "Remaining order_item:                202343\n",
      "Remaining orders with 2+ items:       37170\n",
      "Remaining order_item:                191170\n",
      "Item pairs:                          217437\n",
      "Item pairs with support >= 0.0001:      35364\n",
      "\n",
      "Writing cluster 0's item rules to csv...\n",
      "Writing cluster 1's item rules to csv...\n",
      "Writing cluster 2's item rules to csv...\n",
      "Writing cluster 3's item rules to csv...\n",
      "Writing cluster 4's item rules to csv...\n",
      "Writing cluster 5's item rules to csv...\n"
     ]
    }
   ],
   "source": [
    "# run each cluster series through association rule function and obtain association rules at item level\n",
    "REBUILD_TEST_DATA = False\n",
    "test_data_path = \"../input/associationRule/group0_item_rules.csv\"\n",
    "if REBUILD_TEST_DATA or not Path(test_data_path).exists():\n",
    "    group_association_rules_dic = {}\n",
    "    for x in range(0,6):\n",
    "        group_association_rules_dic[x] = apriori.association_rules(cluster_orders[x],.0001)\n",
    "    for x in group_association_rules_dic:\n",
    "        group_association_rules_dic[x] = group_association_rules_dic[x].merge(products[['product_id','product_name']]\n",
    "                   .rename(columns = {'product_id':'item_A','product_name':'product_name_A'}), on = 'item_A')\n",
    "        group_association_rules_dic[x] = group_association_rules_dic[x].merge(products[['product_id','product_name']]\n",
    "                   .rename(columns = {'product_id':'item_B','product_name':'product_name_B'}), on = 'item_B')\n",
    "        group_association_rules_dic[x] = group_association_rules_dic[x][['item_A','item_B','product_name_A',\n",
    "                                                                        'product_name_B','freqAB','supportAB','freqA',\n",
    "                                                                        'supportA','freqB','supportB','confidenceAtoB',\n",
    "                                                                        'confidenceBtoA','lift']]\n",
    "    for x in group_association_rules_dic:\n",
    "        print(\"Writing cluster \" + str(x) + \"'s item rules to csv...\")\n",
    "        group_association_rules_dic[x].to_csv('../input/associationRule/group'+str(x)+'_item_rules.csv')\n"
   ],
   "metadata": {
    "collapsed": false,
    "pycharm": {
     "name": "#%%\n"
    }
   }
  },
  {
   "cell_type": "code",
   "execution_count": 20,
   "outputs": [
    {
     "data": {
      "text/plain": "       item_A  item_B                          product_name_A  \\\n0        4985   36278        Homestyle Some Pulp Orange Juice   \n1        4985   48927        Homestyle Some Pulp Orange Juice   \n2       36278   48927  Chocolate Breakfast Biscuits Chocolate   \n3       24852   48927                                  Banana   \n4       38259   38576           Blueberry Greek Yogurt + Chia   \n...       ...     ...                                     ...   \n45403   21137   45374                    Organic Strawberries   \n45404   21137   34282                    Organic Strawberries   \n45405   21137   37774                    Organic Strawberries   \n45406   21137   49174                    Organic Strawberries   \n45407   21137   40712                    Organic Strawberries   \n\n                                         product_name_B  freqAB  supportAB  \\\n0                Chocolate Breakfast Biscuits Chocolate      27   0.000120   \n1                                Fat Free Plain Yoghurt      24   0.000106   \n2                                Fat Free Plain Yoghurt      25   0.000111   \n3                                Fat Free Plain Yoghurt      32   0.000142   \n4          The Epic Seed Greek Yogurt Strawberry & Chia      23   0.000102   \n...                                                 ...     ...        ...   \n45403         Newman O's Creme Filled Chocolate Cookies      30   0.000133   \n45404                           Original Sandwich Bread      23   0.000102   \n45405                          Artesian Sparkling Water      24   0.000106   \n45406  Raincoast Crisps Cranberry And Hazelnut Crackers      27   0.000120   \n45407                                        Black Figs      23   0.000102   \n\n       freqA  supportA  freqB  supportB  confidenceAtoB  confidenceBtoA  \\\n0         30  0.000133     32  0.000142        0.900000        0.843750   \n1         30  0.000133     62  0.000275        0.800000        0.387097   \n2         32  0.000142     62  0.000275        0.781250        0.403226   \n3      51126  0.226852     62  0.000275        0.000626        0.516129   \n4         33  0.000146     25  0.000111        0.696970        0.920000   \n...      ...       ...    ...       ...             ...             ...   \n45403  31351  0.139108    106  0.000470        0.000957        0.283019   \n45404  31351  0.139108     84  0.000373        0.000734        0.273810   \n45405  31351  0.139108     90  0.000399        0.000766        0.266667   \n45406  31351  0.139108    106  0.000470        0.000861        0.254717   \n45407  31351  0.139108    128  0.000568        0.000734        0.179688   \n\n              lift  \n0      6338.587500  \n1      2908.025806  \n2      2839.868952  \n3         2.275184  \n4      6283.098182  \n...            ...  \n45403     2.034529  \n45404     1.968326  \n45405     1.916979  \n45406     1.831076  \n45407     1.291714  \n\n[45408 rows x 13 columns]",
      "text/html": "<div>\n<style scoped>\n    .dataframe tbody tr th:only-of-type {\n        vertical-align: middle;\n    }\n\n    .dataframe tbody tr th {\n        vertical-align: top;\n    }\n\n    .dataframe thead th {\n        text-align: right;\n    }\n</style>\n<table border=\"1\" class=\"dataframe\">\n  <thead>\n    <tr style=\"text-align: right;\">\n      <th></th>\n      <th>item_A</th>\n      <th>item_B</th>\n      <th>product_name_A</th>\n      <th>product_name_B</th>\n      <th>freqAB</th>\n      <th>supportAB</th>\n      <th>freqA</th>\n      <th>supportA</th>\n      <th>freqB</th>\n      <th>supportB</th>\n      <th>confidenceAtoB</th>\n      <th>confidenceBtoA</th>\n      <th>lift</th>\n    </tr>\n  </thead>\n  <tbody>\n    <tr>\n      <th>0</th>\n      <td>4985</td>\n      <td>36278</td>\n      <td>Homestyle Some Pulp Orange Juice</td>\n      <td>Chocolate Breakfast Biscuits Chocolate</td>\n      <td>27</td>\n      <td>0.000120</td>\n      <td>30</td>\n      <td>0.000133</td>\n      <td>32</td>\n      <td>0.000142</td>\n      <td>0.900000</td>\n      <td>0.843750</td>\n      <td>6338.587500</td>\n    </tr>\n    <tr>\n      <th>1</th>\n      <td>4985</td>\n      <td>48927</td>\n      <td>Homestyle Some Pulp Orange Juice</td>\n      <td>Fat Free Plain Yoghurt</td>\n      <td>24</td>\n      <td>0.000106</td>\n      <td>30</td>\n      <td>0.000133</td>\n      <td>62</td>\n      <td>0.000275</td>\n      <td>0.800000</td>\n      <td>0.387097</td>\n      <td>2908.025806</td>\n    </tr>\n    <tr>\n      <th>2</th>\n      <td>36278</td>\n      <td>48927</td>\n      <td>Chocolate Breakfast Biscuits Chocolate</td>\n      <td>Fat Free Plain Yoghurt</td>\n      <td>25</td>\n      <td>0.000111</td>\n      <td>32</td>\n      <td>0.000142</td>\n      <td>62</td>\n      <td>0.000275</td>\n      <td>0.781250</td>\n      <td>0.403226</td>\n      <td>2839.868952</td>\n    </tr>\n    <tr>\n      <th>3</th>\n      <td>24852</td>\n      <td>48927</td>\n      <td>Banana</td>\n      <td>Fat Free Plain Yoghurt</td>\n      <td>32</td>\n      <td>0.000142</td>\n      <td>51126</td>\n      <td>0.226852</td>\n      <td>62</td>\n      <td>0.000275</td>\n      <td>0.000626</td>\n      <td>0.516129</td>\n      <td>2.275184</td>\n    </tr>\n    <tr>\n      <th>4</th>\n      <td>38259</td>\n      <td>38576</td>\n      <td>Blueberry Greek Yogurt + Chia</td>\n      <td>The Epic Seed Greek Yogurt Strawberry &amp; Chia</td>\n      <td>23</td>\n      <td>0.000102</td>\n      <td>33</td>\n      <td>0.000146</td>\n      <td>25</td>\n      <td>0.000111</td>\n      <td>0.696970</td>\n      <td>0.920000</td>\n      <td>6283.098182</td>\n    </tr>\n    <tr>\n      <th>...</th>\n      <td>...</td>\n      <td>...</td>\n      <td>...</td>\n      <td>...</td>\n      <td>...</td>\n      <td>...</td>\n      <td>...</td>\n      <td>...</td>\n      <td>...</td>\n      <td>...</td>\n      <td>...</td>\n      <td>...</td>\n      <td>...</td>\n    </tr>\n    <tr>\n      <th>45403</th>\n      <td>21137</td>\n      <td>45374</td>\n      <td>Organic Strawberries</td>\n      <td>Newman O's Creme Filled Chocolate Cookies</td>\n      <td>30</td>\n      <td>0.000133</td>\n      <td>31351</td>\n      <td>0.139108</td>\n      <td>106</td>\n      <td>0.000470</td>\n      <td>0.000957</td>\n      <td>0.283019</td>\n      <td>2.034529</td>\n    </tr>\n    <tr>\n      <th>45404</th>\n      <td>21137</td>\n      <td>34282</td>\n      <td>Organic Strawberries</td>\n      <td>Original Sandwich Bread</td>\n      <td>23</td>\n      <td>0.000102</td>\n      <td>31351</td>\n      <td>0.139108</td>\n      <td>84</td>\n      <td>0.000373</td>\n      <td>0.000734</td>\n      <td>0.273810</td>\n      <td>1.968326</td>\n    </tr>\n    <tr>\n      <th>45405</th>\n      <td>21137</td>\n      <td>37774</td>\n      <td>Organic Strawberries</td>\n      <td>Artesian Sparkling Water</td>\n      <td>24</td>\n      <td>0.000106</td>\n      <td>31351</td>\n      <td>0.139108</td>\n      <td>90</td>\n      <td>0.000399</td>\n      <td>0.000766</td>\n      <td>0.266667</td>\n      <td>1.916979</td>\n    </tr>\n    <tr>\n      <th>45406</th>\n      <td>21137</td>\n      <td>49174</td>\n      <td>Organic Strawberries</td>\n      <td>Raincoast Crisps Cranberry And Hazelnut Crackers</td>\n      <td>27</td>\n      <td>0.000120</td>\n      <td>31351</td>\n      <td>0.139108</td>\n      <td>106</td>\n      <td>0.000470</td>\n      <td>0.000861</td>\n      <td>0.254717</td>\n      <td>1.831076</td>\n    </tr>\n    <tr>\n      <th>45407</th>\n      <td>21137</td>\n      <td>40712</td>\n      <td>Organic Strawberries</td>\n      <td>Black Figs</td>\n      <td>23</td>\n      <td>0.000102</td>\n      <td>31351</td>\n      <td>0.139108</td>\n      <td>128</td>\n      <td>0.000568</td>\n      <td>0.000734</td>\n      <td>0.179688</td>\n      <td>1.291714</td>\n    </tr>\n  </tbody>\n</table>\n<p>45408 rows × 13 columns</p>\n</div>"
     },
     "execution_count": 20,
     "metadata": {},
     "output_type": "execute_result"
    }
   ],
   "source": [
    "group_association_rules_dic[0]"
   ],
   "metadata": {
    "collapsed": false,
    "pycharm": {
     "name": "#%%\n"
    }
   }
  },
  {
   "cell_type": "code",
   "execution_count": null,
   "outputs": [],
   "source": [],
   "metadata": {
    "collapsed": false,
    "pycharm": {
     "name": "#%%\n"
    }
   }
  },
  {
   "cell_type": "code",
   "execution_count": null,
   "outputs": [],
   "source": [],
   "metadata": {
    "collapsed": false,
    "pycharm": {
     "name": "#%%\n"
    }
   }
  },
  {
   "cell_type": "code",
   "execution_count": 7,
   "outputs": [],
   "source": [
    "i1 = orders.set_index('order_id')['product_id'].rename('item_id')"
   ],
   "metadata": {
    "collapsed": false,
    "pycharm": {
     "name": "#%%\n"
    }
   }
  },
  {
   "cell_type": "code",
   "execution_count": 8,
   "outputs": [
    {
     "data": {
      "text/plain": "order_id\n1    10246\n1    11109\n1    13176\n1    22035\n1    43633\nName: item_id, dtype: int64"
     },
     "execution_count": 8,
     "metadata": {},
     "output_type": "execute_result"
    }
   ],
   "source": [
    "i1.head()"
   ],
   "metadata": {
    "collapsed": false,
    "pycharm": {
     "name": "#%%\n"
    }
   }
  },
  {
   "cell_type": "code",
   "execution_count": 9,
   "outputs": [
    {
     "name": "stdout",
     "output_type": "stream",
     "text": [
      "Starting order_item:               33819106\n",
      "Items with support >= 0.0001:           10949\n",
      "Remaining order_item:              31116451\n",
      "Remaining orders with 2+ items:     3136021\n",
      "Remaining order_item:              30928016\n",
      "Item pairs:                        21061284\n",
      "Item pairs with support >= 0.0001:      61832\n",
      "\n"
     ]
    }
   ],
   "source": [
    "association_rule_no_clustering = apriori.association_rules(i1,.0001)"
   ],
   "metadata": {
    "collapsed": false,
    "pycharm": {
     "name": "#%%\n"
    }
   }
  },
  {
   "cell_type": "code",
   "execution_count": 11,
   "outputs": [
    {
     "data": {
      "text/plain": "Empty DataFrame\nColumns: [item_A, item_B, aisle_name_A, aisle_name_B, freqAB, supportAB, freqA, supportA, freqB, supportB, confidenceAtoB, confidenceBtoA, lift]\nIndex: []",
      "text/html": "<div>\n<style scoped>\n    .dataframe tbody tr th:only-of-type {\n        vertical-align: middle;\n    }\n\n    .dataframe tbody tr th {\n        vertical-align: top;\n    }\n\n    .dataframe thead th {\n        text-align: right;\n    }\n</style>\n<table border=\"1\" class=\"dataframe\">\n  <thead>\n    <tr style=\"text-align: right;\">\n      <th></th>\n      <th>item_A</th>\n      <th>item_B</th>\n      <th>aisle_name_A</th>\n      <th>aisle_name_B</th>\n      <th>freqAB</th>\n      <th>supportAB</th>\n      <th>freqA</th>\n      <th>supportA</th>\n      <th>freqB</th>\n      <th>supportB</th>\n      <th>confidenceAtoB</th>\n      <th>confidenceBtoA</th>\n      <th>lift</th>\n    </tr>\n  </thead>\n  <tbody>\n  </tbody>\n</table>\n</div>"
     },
     "execution_count": 11,
     "metadata": {},
     "output_type": "execute_result"
    }
   ],
   "source": [
    "association_rule_no_clustering"
   ],
   "metadata": {
    "collapsed": false,
    "pycharm": {
     "name": "#%%\n"
    }
   }
  },
  {
   "cell_type": "code",
   "execution_count": 10,
   "outputs": [
    {
     "name": "stdout",
     "output_type": "stream",
     "text": [
      "Writing clusters aisle rules to csv...\n"
     ]
    }
   ],
   "source": [
    "association_rule_no_clustering = association_rule_no_clustering.merge(aisles[['aisle_id','aisle']]\n",
    "                   .rename(columns = {'aisle_id':'item_A','aisle':'aisle_name_A'}), on = 'item_A')\n",
    "association_rule_no_clustering = association_rule_no_clustering.merge(aisles[['aisle_id','aisle']]\n",
    "                   .rename(columns = {'aisle_id':'item_B','aisle':'aisle_name_B'}), on = 'item_B')\n",
    "association_rule_no_clustering = association_rule_no_clustering[['item_A','item_B','aisle_name_A',\n",
    "                                                                        'aisle_name_B','freqAB','supportAB','freqA',\n",
    "                                                                        'supportA','freqB','supportB','confidenceAtoB',\n",
    "                                                                        'confidenceBtoA','lift']]\n",
    "print(\"Writing clusters aisle rules to csv...\")\n",
    "association_rule_no_clustering.to_csv('../input/associationRule_no_cluster/all_aisle_rules.csv')"
   ],
   "metadata": {
    "collapsed": false,
    "pycharm": {
     "name": "#%%\n"
    }
   }
  },
  {
   "cell_type": "code",
   "execution_count": 17,
   "outputs": [],
   "source": [
    "# separate order data by cluster and transform into expected format of group association function at aisle level\n",
    "\n",
    "cluster_aisle_orders = {}\n",
    "for i in range(0,6):\n",
    "    x = orders[orders['cluster'] == i]\n",
    "    x = x.groupby(['order_id','aisle_id'])['product_id'].count().reset_index().set_index('order_id')['aisle_id'].rename('item_id')\n",
    "    cluster_aisle_orders[i] = x"
   ],
   "metadata": {
    "collapsed": false,
    "pycharm": {
     "name": "#%%\n"
    }
   }
  },
  {
   "cell_type": "code",
   "execution_count": 18,
   "outputs": [
    {
     "name": "stdout",
     "output_type": "stream",
     "text": [
      "Starting order_item:                1184688\n",
      "Items with support >= 0.0001:             134\n",
      "Remaining order_item:               1184688\n",
      "Remaining orders with 2+ items:      219857\n",
      "Remaining order_item:               1155194\n",
      "Item pairs:                            8554\n",
      "Item pairs with support >= 0.0001:       5396\n",
      "\n",
      "Starting order_item:               11211683\n",
      "Items with support >= 0.0001:             134\n",
      "Remaining order_item:              11211683\n",
      "Remaining orders with 2+ items:     1281160\n",
      "Remaining order_item:              11171978\n",
      "Item pairs:                            8906\n",
      "Item pairs with support >= 0.0001:       7573\n",
      "\n",
      "Starting order_item:                7680091\n",
      "Items with support >= 0.0001:             134\n",
      "Remaining order_item:               7680091\n",
      "Remaining orders with 2+ items:      991382\n",
      "Remaining order_item:               7595005\n",
      "Item pairs:                            8908\n",
      "Item pairs with support >= 0.0001:       8202\n",
      "\n",
      "Starting order_item:                3694150\n",
      "Items with support >= 0.0001:             134\n",
      "Remaining order_item:               3694150\n",
      "Remaining orders with 2+ items:      512454\n",
      "Remaining order_item:               3673846\n",
      "Item pairs:                            8838\n",
      "Item pairs with support >= 0.0001:       6222\n",
      "\n",
      "Starting order_item:                 417344\n",
      "Items with support >= 0.0001:             118\n",
      "Remaining order_item:                417302\n",
      "Remaining orders with 2+ items:       97797\n",
      "Remaining order_item:                397257\n",
      "Item pairs:                            5722\n",
      "Item pairs with support >= 0.0001:       3383\n",
      "\n",
      "Starting order_item:                 141266\n",
      "Items with support >= 0.0001:             134\n",
      "Remaining order_item:                141266\n",
      "Remaining orders with 2+ items:       34085\n",
      "Remaining order_item:                126557\n",
      "Item pairs:                            6625\n",
      "Item pairs with support >= 0.0001:       4144\n",
      "\n",
      "Writing cluster 0's aisle rules to csv...\n",
      "Writing cluster 1's aisle rules to csv...\n",
      "Writing cluster 2's aisle rules to csv...\n",
      "Writing cluster 3's aisle rules to csv...\n",
      "Writing cluster 4's aisle rules to csv...\n",
      "Writing cluster 5's aisle rules to csv...\n"
     ]
    }
   ],
   "source": [
    "# format item association rule dataframes and merge product names\n",
    "REBUILD_TEST_DATA = False\n",
    "test_data_path = \"../input/associationRule/group0_aisle_rules.csv\"\n",
    "if REBUILD_TEST_DATA or not Path(test_data_path).exists():\n",
    "    group_aisle_association_rules_dic = {}\n",
    "    for x in range(0,6):\n",
    "        group_aisle_association_rules_dic[x] = apriori.association_rules(cluster_aisle_orders[x],.0001)\n",
    "    for x in group_aisle_association_rules_dic:\n",
    "        group_aisle_association_rules_dic[x] = group_aisle_association_rules_dic[x].merge(aisles[['aisle_id','aisle']]\n",
    "                   .rename(columns = {'aisle_id':'item_A','aisle':'aisle_name_A'}), on = 'item_A')\n",
    "        group_aisle_association_rules_dic[x] = group_aisle_association_rules_dic[x].merge(aisles[['aisle_id','aisle']]\n",
    "                   .rename(columns = {'aisle_id':'item_B','aisle':'aisle_name_B'}), on = 'item_B')\n",
    "        group_aisle_association_rules_dic[x] = group_aisle_association_rules_dic[x][['item_A','item_B','aisle_name_A',\n",
    "                                                                        'aisle_name_B','freqAB','supportAB','freqA',\n",
    "                                                                        'supportA','freqB','supportB','confidenceAtoB',\n",
    "                                                                        'confidenceBtoA','lift']]\n",
    "    group_aisle_association_rules_dic[x] = group_aisle_association_rules_dic[x].rename(columns = {'item_A':'aisle_A','item_B':'aisle_B'})\n",
    "    for x in group_aisle_association_rules_dic:\n",
    "        print(\"Writing cluster \" + str(x) + \"'s aisle rules to csv...\")\n",
    "        group_aisle_association_rules_dic[x].to_csv('../input/associationRule/group'+str(x)+'_aisle_rules.csv')"
   ],
   "metadata": {
    "collapsed": false,
    "pycharm": {
     "name": "#%%\n"
    }
   }
  },
  {
   "cell_type": "code",
   "execution_count": 10,
   "outputs": [
    {
     "data": {
      "text/plain": "True"
     },
     "execution_count": 10,
     "metadata": {},
     "output_type": "execute_result"
    }
   ],
   "source": [],
   "metadata": {
    "collapsed": false,
    "pycharm": {
     "name": "#%%\n"
    }
   }
  },
  {
   "cell_type": "code",
   "execution_count": null,
   "outputs": [],
   "source": [],
   "metadata": {
    "collapsed": false,
    "pycharm": {
     "name": "#%%\n"
    }
   }
  },
  {
   "cell_type": "code",
   "execution_count": null,
   "outputs": [],
   "source": [],
   "metadata": {
    "collapsed": false,
    "pycharm": {
     "name": "#%%\n"
    }
   }
  },
  {
   "cell_type": "code",
   "execution_count": null,
   "outputs": [],
   "source": [],
   "metadata": {
    "collapsed": false,
    "pycharm": {
     "name": "#%%\n"
    }
   }
  },
  {
   "cell_type": "code",
   "execution_count": null,
   "outputs": [],
   "source": [],
   "metadata": {
    "collapsed": false,
    "pycharm": {
     "name": "#%%\n"
    }
   }
  }
 ],
 "metadata": {
  "kernelspec": {
   "display_name": "Python 3",
   "language": "python",
   "name": "python3"
  },
  "language_info": {
   "codemirror_mode": {
    "name": "ipython",
    "version": 2
   },
   "file_extension": ".py",
   "mimetype": "text/x-python",
   "name": "python",
   "nbconvert_exporter": "python",
   "pygments_lexer": "ipython2",
   "version": "2.7.6"
  }
 },
 "nbformat": 4,
 "nbformat_minor": 0
}