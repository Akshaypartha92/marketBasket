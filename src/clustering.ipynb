{
 "cells": [
  {
   "cell_type": "code",
   "execution_count": 1,
   "metadata": {
    "collapsed": true
   },
   "outputs": [],
   "source": [
    "import pandas as pd\n",
    "import numpy as np\n",
    "import matplotlib.pyplot as plt\n",
    "import seaborn as sns\n",
    "import itertools\n",
    "import time\n",
    "from datetime import datetime\n",
    "import pickle\n",
    "import warnings\n",
    "warnings.filterwarnings('ignore')"
   ]
  },
  {
   "cell_type": "code",
   "execution_count": 2,
   "outputs": [],
   "source": [
    "aisles = pd.read_csv('../input/aisles.csv')\n",
    "departments = pd.read_csv('../input/departments.csv')\n",
    "prior_orders = pd.read_csv('../input/order_products__prior.csv')\n",
    "train_orders = pd.read_csv('../input/order_products__train.csv')\n",
    "orders = pd.read_csv('../input/orders.csv')\n",
    "products = pd.read_csv('../input/products.csv')"
   ],
   "metadata": {
    "collapsed": false,
    "pycharm": {
     "name": "#%%\n"
    }
   }
  },
  {
   "cell_type": "code",
   "execution_count": 2,
   "outputs": [],
   "source": [],
   "metadata": {
    "collapsed": false,
    "pycharm": {
     "name": "#%%\n"
    }
   }
  },
  {
   "cell_type": "code",
   "execution_count": 3,
   "outputs": [
    {
     "data": {
      "text/plain": "   order_id  product_id  add_to_cart_order  reordered\n0         1       49302                  1          1\n1         1       11109                  2          1\n2         1       10246                  3          0\n3         1       49683                  4          0\n4         1       43633                  5          1",
      "text/html": "<div>\n<style scoped>\n    .dataframe tbody tr th:only-of-type {\n        vertical-align: middle;\n    }\n\n    .dataframe tbody tr th {\n        vertical-align: top;\n    }\n\n    .dataframe thead th {\n        text-align: right;\n    }\n</style>\n<table border=\"1\" class=\"dataframe\">\n  <thead>\n    <tr style=\"text-align: right;\">\n      <th></th>\n      <th>order_id</th>\n      <th>product_id</th>\n      <th>add_to_cart_order</th>\n      <th>reordered</th>\n    </tr>\n  </thead>\n  <tbody>\n    <tr>\n      <th>0</th>\n      <td>1</td>\n      <td>49302</td>\n      <td>1</td>\n      <td>1</td>\n    </tr>\n    <tr>\n      <th>1</th>\n      <td>1</td>\n      <td>11109</td>\n      <td>2</td>\n      <td>1</td>\n    </tr>\n    <tr>\n      <th>2</th>\n      <td>1</td>\n      <td>10246</td>\n      <td>3</td>\n      <td>0</td>\n    </tr>\n    <tr>\n      <th>3</th>\n      <td>1</td>\n      <td>49683</td>\n      <td>4</td>\n      <td>0</td>\n    </tr>\n    <tr>\n      <th>4</th>\n      <td>1</td>\n      <td>43633</td>\n      <td>5</td>\n      <td>1</td>\n    </tr>\n  </tbody>\n</table>\n</div>"
     },
     "execution_count": 3,
     "metadata": {},
     "output_type": "execute_result"
    }
   ],
   "source": [
    "# Joining Train & prior orders together\n",
    "merged_order_products = pd.merge(train_orders, prior_orders, how = 'outer')\n",
    "merged_order_products.head()"
   ],
   "metadata": {
    "collapsed": false,
    "pycharm": {
     "name": "#%%\n"
    }
   }
  },
  {
   "cell_type": "code",
   "execution_count": 4,
   "outputs": [
    {
     "data": {
      "text/plain": "   product_id                                       product_name  aisle_id  \\\n0           1                         Chocolate Sandwich Cookies        61   \n1           2                                   All-Seasons Salt       104   \n2           3               Robust Golden Unsweetened Oolong Tea        94   \n3           4  Smart Ones Classic Favorites Mini Rigatoni Wit...        38   \n4           5                          Green Chile Anytime Sauce         5   \n\n   department_id                       aisle department  \n0             19               cookies cakes     snacks  \n1             13           spices seasonings     pantry  \n2              7                         tea  beverages  \n3              1                frozen meals     frozen  \n4             13  marinades meat preparation     pantry  ",
      "text/html": "<div>\n<style scoped>\n    .dataframe tbody tr th:only-of-type {\n        vertical-align: middle;\n    }\n\n    .dataframe tbody tr th {\n        vertical-align: top;\n    }\n\n    .dataframe thead th {\n        text-align: right;\n    }\n</style>\n<table border=\"1\" class=\"dataframe\">\n  <thead>\n    <tr style=\"text-align: right;\">\n      <th></th>\n      <th>product_id</th>\n      <th>product_name</th>\n      <th>aisle_id</th>\n      <th>department_id</th>\n      <th>aisle</th>\n      <th>department</th>\n    </tr>\n  </thead>\n  <tbody>\n    <tr>\n      <th>0</th>\n      <td>1</td>\n      <td>Chocolate Sandwich Cookies</td>\n      <td>61</td>\n      <td>19</td>\n      <td>cookies cakes</td>\n      <td>snacks</td>\n    </tr>\n    <tr>\n      <th>1</th>\n      <td>2</td>\n      <td>All-Seasons Salt</td>\n      <td>104</td>\n      <td>13</td>\n      <td>spices seasonings</td>\n      <td>pantry</td>\n    </tr>\n    <tr>\n      <th>2</th>\n      <td>3</td>\n      <td>Robust Golden Unsweetened Oolong Tea</td>\n      <td>94</td>\n      <td>7</td>\n      <td>tea</td>\n      <td>beverages</td>\n    </tr>\n    <tr>\n      <th>3</th>\n      <td>4</td>\n      <td>Smart Ones Classic Favorites Mini Rigatoni Wit...</td>\n      <td>38</td>\n      <td>1</td>\n      <td>frozen meals</td>\n      <td>frozen</td>\n    </tr>\n    <tr>\n      <th>4</th>\n      <td>5</td>\n      <td>Green Chile Anytime Sauce</td>\n      <td>5</td>\n      <td>13</td>\n      <td>marinades meat preparation</td>\n      <td>pantry</td>\n    </tr>\n  </tbody>\n</table>\n</div>"
     },
     "execution_count": 4,
     "metadata": {},
     "output_type": "execute_result"
    }
   ],
   "source": [
    "# How many products in each department and aisle?\n",
    "# I guess these would be better/more informative with aisle and dept names\n",
    "products_aisles = pd.merge(products, aisles, on = 'aisle_id', how = 'left')\n",
    "products_detail = pd.merge(products_aisles, departments, on = 'department_id', how = 'left')\n",
    "products_detail.head()"
   ],
   "metadata": {
    "collapsed": false,
    "pycharm": {
     "name": "#%%\n"
    }
   }
  },
  {
   "cell_type": "code",
   "execution_count": 5,
   "outputs": [
    {
     "data": {
      "text/plain": "   order_id  product_id  add_to_cart_order  reordered      product_name  \\\n0         1       49302                  1          1  Bulgarian Yogurt   \n1    816049       49302                  7          1  Bulgarian Yogurt   \n2   1242203       49302                  1          1  Bulgarian Yogurt   \n3   1383349       49302                 11          1  Bulgarian Yogurt   \n4   1787378       49302                  8          0  Bulgarian Yogurt   \n\n   aisle_id  department_id   aisle  department  \n0       120             16  yogurt  dairy eggs  \n1       120             16  yogurt  dairy eggs  \n2       120             16  yogurt  dairy eggs  \n3       120             16  yogurt  dairy eggs  \n4       120             16  yogurt  dairy eggs  ",
      "text/html": "<div>\n<style scoped>\n    .dataframe tbody tr th:only-of-type {\n        vertical-align: middle;\n    }\n\n    .dataframe tbody tr th {\n        vertical-align: top;\n    }\n\n    .dataframe thead th {\n        text-align: right;\n    }\n</style>\n<table border=\"1\" class=\"dataframe\">\n  <thead>\n    <tr style=\"text-align: right;\">\n      <th></th>\n      <th>order_id</th>\n      <th>product_id</th>\n      <th>add_to_cart_order</th>\n      <th>reordered</th>\n      <th>product_name</th>\n      <th>aisle_id</th>\n      <th>department_id</th>\n      <th>aisle</th>\n      <th>department</th>\n    </tr>\n  </thead>\n  <tbody>\n    <tr>\n      <th>0</th>\n      <td>1</td>\n      <td>49302</td>\n      <td>1</td>\n      <td>1</td>\n      <td>Bulgarian Yogurt</td>\n      <td>120</td>\n      <td>16</td>\n      <td>yogurt</td>\n      <td>dairy eggs</td>\n    </tr>\n    <tr>\n      <th>1</th>\n      <td>816049</td>\n      <td>49302</td>\n      <td>7</td>\n      <td>1</td>\n      <td>Bulgarian Yogurt</td>\n      <td>120</td>\n      <td>16</td>\n      <td>yogurt</td>\n      <td>dairy eggs</td>\n    </tr>\n    <tr>\n      <th>2</th>\n      <td>1242203</td>\n      <td>49302</td>\n      <td>1</td>\n      <td>1</td>\n      <td>Bulgarian Yogurt</td>\n      <td>120</td>\n      <td>16</td>\n      <td>yogurt</td>\n      <td>dairy eggs</td>\n    </tr>\n    <tr>\n      <th>3</th>\n      <td>1383349</td>\n      <td>49302</td>\n      <td>11</td>\n      <td>1</td>\n      <td>Bulgarian Yogurt</td>\n      <td>120</td>\n      <td>16</td>\n      <td>yogurt</td>\n      <td>dairy eggs</td>\n    </tr>\n    <tr>\n      <th>4</th>\n      <td>1787378</td>\n      <td>49302</td>\n      <td>8</td>\n      <td>0</td>\n      <td>Bulgarian Yogurt</td>\n      <td>120</td>\n      <td>16</td>\n      <td>yogurt</td>\n      <td>dairy eggs</td>\n    </tr>\n  </tbody>\n</table>\n</div>"
     },
     "execution_count": 5,
     "metadata": {},
     "output_type": "execute_result"
    }
   ],
   "source": [
    "# This has an entry for each ordered product.  If we combine it with aisle and department we can see which products are ordered the most.\n",
    "order_products_desc = pd.merge(merged_order_products, products_detail, on = 'product_id')\n",
    "order_products_desc.head()"
   ],
   "metadata": {
    "collapsed": false,
    "pycharm": {
     "name": "#%%\n"
    }
   }
  },
  {
   "cell_type": "code",
   "execution_count": 6,
   "outputs": [
    {
     "data": {
      "text/plain": "   order_id  user_id eval_set  order_number  order_dow  order_hour_of_day  \\\n0   2539329        1    prior             1          2                  8   \n1   2539329        1    prior             1          2                  8   \n2   2539329        1    prior             1          2                  8   \n3   2539329        1    prior             1          2                  8   \n4   2539329        1    prior             1          2                  8   \n\n   days_since_prior_order  product_id  add_to_cart_order  reordered  \\\n0                     NaN         196                  1          0   \n1                     NaN       26088                  4          0   \n2                     NaN       14084                  2          0   \n3                     NaN       26405                  5          0   \n4                     NaN       12427                  3          0   \n\n                              product_name  aisle_id  department_id  \\\n0                                     Soda        77              7   \n1               Aged White Cheddar Popcorn        23             19   \n2  Organic Unsweetened Vanilla Almond Milk        91             16   \n3         XL Pick-A-Size Paper Towel Rolls        54             17   \n4                      Original Beef Jerky        23             19   \n\n             aisle  department  \n0      soft drinks   beverages  \n1    popcorn jerky      snacks  \n2  soy lactosefree  dairy eggs  \n3      paper goods   household  \n4    popcorn jerky      snacks  ",
      "text/html": "<div>\n<style scoped>\n    .dataframe tbody tr th:only-of-type {\n        vertical-align: middle;\n    }\n\n    .dataframe tbody tr th {\n        vertical-align: top;\n    }\n\n    .dataframe thead th {\n        text-align: right;\n    }\n</style>\n<table border=\"1\" class=\"dataframe\">\n  <thead>\n    <tr style=\"text-align: right;\">\n      <th></th>\n      <th>order_id</th>\n      <th>user_id</th>\n      <th>eval_set</th>\n      <th>order_number</th>\n      <th>order_dow</th>\n      <th>order_hour_of_day</th>\n      <th>days_since_prior_order</th>\n      <th>product_id</th>\n      <th>add_to_cart_order</th>\n      <th>reordered</th>\n      <th>product_name</th>\n      <th>aisle_id</th>\n      <th>department_id</th>\n      <th>aisle</th>\n      <th>department</th>\n    </tr>\n  </thead>\n  <tbody>\n    <tr>\n      <th>0</th>\n      <td>2539329</td>\n      <td>1</td>\n      <td>prior</td>\n      <td>1</td>\n      <td>2</td>\n      <td>8</td>\n      <td>NaN</td>\n      <td>196</td>\n      <td>1</td>\n      <td>0</td>\n      <td>Soda</td>\n      <td>77</td>\n      <td>7</td>\n      <td>soft drinks</td>\n      <td>beverages</td>\n    </tr>\n    <tr>\n      <th>1</th>\n      <td>2539329</td>\n      <td>1</td>\n      <td>prior</td>\n      <td>1</td>\n      <td>2</td>\n      <td>8</td>\n      <td>NaN</td>\n      <td>26088</td>\n      <td>4</td>\n      <td>0</td>\n      <td>Aged White Cheddar Popcorn</td>\n      <td>23</td>\n      <td>19</td>\n      <td>popcorn jerky</td>\n      <td>snacks</td>\n    </tr>\n    <tr>\n      <th>2</th>\n      <td>2539329</td>\n      <td>1</td>\n      <td>prior</td>\n      <td>1</td>\n      <td>2</td>\n      <td>8</td>\n      <td>NaN</td>\n      <td>14084</td>\n      <td>2</td>\n      <td>0</td>\n      <td>Organic Unsweetened Vanilla Almond Milk</td>\n      <td>91</td>\n      <td>16</td>\n      <td>soy lactosefree</td>\n      <td>dairy eggs</td>\n    </tr>\n    <tr>\n      <th>3</th>\n      <td>2539329</td>\n      <td>1</td>\n      <td>prior</td>\n      <td>1</td>\n      <td>2</td>\n      <td>8</td>\n      <td>NaN</td>\n      <td>26405</td>\n      <td>5</td>\n      <td>0</td>\n      <td>XL Pick-A-Size Paper Towel Rolls</td>\n      <td>54</td>\n      <td>17</td>\n      <td>paper goods</td>\n      <td>household</td>\n    </tr>\n    <tr>\n      <th>4</th>\n      <td>2539329</td>\n      <td>1</td>\n      <td>prior</td>\n      <td>1</td>\n      <td>2</td>\n      <td>8</td>\n      <td>NaN</td>\n      <td>12427</td>\n      <td>3</td>\n      <td>0</td>\n      <td>Original Beef Jerky</td>\n      <td>23</td>\n      <td>19</td>\n      <td>popcorn jerky</td>\n      <td>snacks</td>\n    </tr>\n  </tbody>\n</table>\n</div>"
     },
     "execution_count": 6,
     "metadata": {},
     "output_type": "execute_result"
    }
   ],
   "source": [
    "# Now merge the orders with the ordered products, combining on order_id, so we will have product descriptions alongside with order\n",
    "merged_orders = pd.merge(orders, order_products_desc, on = 'order_id')\n",
    "merged_orders.head()"
   ],
   "metadata": {
    "collapsed": false,
    "pycharm": {
     "name": "#%%\n"
    }
   }
  },
  {
   "cell_type": "code",
   "execution_count": 7,
   "outputs": [],
   "source": [
    "# Aisle is easier than product as product details are too much information for the model\n",
    "user_info = merged_orders[['user_id', 'order_number', 'order_dow', 'order_hour_of_day',\n",
    "                           'days_since_prior_order', 'aisle']]"
   ],
   "metadata": {
    "collapsed": false,
    "pycharm": {
     "name": "#%%\n"
    }
   }
  },
  {
   "cell_type": "code",
   "execution_count": 8,
   "outputs": [],
   "source": [
    "user_details = pd.get_dummies(user_info, prefix=None, columns=['aisle'])"
   ],
   "metadata": {
    "collapsed": false,
    "pycharm": {
     "name": "#%%\n"
    }
   }
  },
  {
   "cell_type": "code",
   "execution_count": 9,
   "outputs": [],
   "source": [
    "# Couldn't use group on the user info as it is really big dataset & there are issues with memory allocation. we can try seggeregating  the data & then trying\n",
    "#to group by user id.\n",
    "#grouped_user = user_data.groupby('user_id').sum()"
   ],
   "metadata": {
    "collapsed": false,
    "pycharm": {
     "name": "#%%\n"
    }
   }
  },
  {
   "cell_type": "code",
   "execution_count": 22,
   "outputs": [],
   "source": [
    "# Dividing the data into 3 parts to group by user_ID\n",
    "user_data1 = user_details[user_details['user_id'] <= 70000]\n",
    "user_data2 = user_details[(user_details['user_id'] <= 150000) & (user_details['user_id'] > 70000)]\n",
    "user_data3 = user_details[user_details['user_id'] > 150000]"
   ],
   "metadata": {
    "collapsed": false,
    "pycharm": {
     "name": "#%%\n"
    }
   }
  },
  {
   "cell_type": "code",
   "execution_count": 23,
   "outputs": [],
   "source": [
    "grouped_user1 = user_data1.groupby('user_id').sum()\n",
    "grouped_user2 = user_data2.groupby('user_id').sum()\n",
    "grouped_user3 = user_data3.groupby('user_id').sum()"
   ],
   "metadata": {
    "collapsed": false,
    "pycharm": {
     "name": "#%%\n"
    }
   }
  },
  {
   "cell_type": "code",
   "execution_count": 24,
   "outputs": [],
   "source": [
    "# Go back to user_data and drop the aisle info before I group the other variables in different ways\n",
    "user_data1_exclude_aisles = user_data1.iloc[:,:5]\n",
    "user_data2_exclude_aisles = user_data2.iloc[:,:5]\n",
    "user_data3_exclude_aisles = user_data3.iloc[:,:5]"
   ],
   "metadata": {
    "collapsed": false,
    "pycharm": {
     "name": "#%%\n"
    }
   }
  },
  {
   "cell_type": "code",
   "execution_count": 25,
   "outputs": [
    {
     "data": {
      "text/plain": "   user_id  order_number  order_dow  order_hour_of_day  days_since_prior_order\n0        1             1          2                  8                     NaN\n1        1             1          2                  8                     NaN\n2        1             1          2                  8                     NaN\n3        1             1          2                  8                     NaN\n4        1             1          2                  8                     NaN",
      "text/html": "<div>\n<style scoped>\n    .dataframe tbody tr th:only-of-type {\n        vertical-align: middle;\n    }\n\n    .dataframe tbody tr th {\n        vertical-align: top;\n    }\n\n    .dataframe thead th {\n        text-align: right;\n    }\n</style>\n<table border=\"1\" class=\"dataframe\">\n  <thead>\n    <tr style=\"text-align: right;\">\n      <th></th>\n      <th>user_id</th>\n      <th>order_number</th>\n      <th>order_dow</th>\n      <th>order_hour_of_day</th>\n      <th>days_since_prior_order</th>\n    </tr>\n  </thead>\n  <tbody>\n    <tr>\n      <th>0</th>\n      <td>1</td>\n      <td>1</td>\n      <td>2</td>\n      <td>8</td>\n      <td>NaN</td>\n    </tr>\n    <tr>\n      <th>1</th>\n      <td>1</td>\n      <td>1</td>\n      <td>2</td>\n      <td>8</td>\n      <td>NaN</td>\n    </tr>\n    <tr>\n      <th>2</th>\n      <td>1</td>\n      <td>1</td>\n      <td>2</td>\n      <td>8</td>\n      <td>NaN</td>\n    </tr>\n    <tr>\n      <th>3</th>\n      <td>1</td>\n      <td>1</td>\n      <td>2</td>\n      <td>8</td>\n      <td>NaN</td>\n    </tr>\n    <tr>\n      <th>4</th>\n      <td>1</td>\n      <td>1</td>\n      <td>2</td>\n      <td>8</td>\n      <td>NaN</td>\n    </tr>\n  </tbody>\n</table>\n</div>"
     },
     "execution_count": 25,
     "metadata": {},
     "output_type": "execute_result"
    }
   ],
   "source": [
    "user_data1_exclude_aisles.head()"
   ],
   "metadata": {
    "collapsed": false,
    "pycharm": {
     "name": "#%%\n"
    }
   }
  },
  {
   "cell_type": "code",
   "execution_count": 26,
   "outputs": [],
   "source": [
    "grouped_by_user_data1 = user_data1_exclude_aisles.groupby('user_id').agg({'order_number': 'max', 'order_dow': lambda x:x.value_counts().index[0],\n",
    "                                            'order_hour_of_day': 'median', 'days_since_prior_order': 'mean'})\n",
    "grouped_by_user_data2 = user_data2_exclude_aisles.groupby('user_id').agg({'order_number': 'max', 'order_dow': lambda x:x.value_counts().index[0],\n",
    "                                            'order_hour_of_day': 'median', 'days_since_prior_order': 'mean'})\n",
    "grouped_by_user_data3 = user_data3_exclude_aisles.groupby('user_id').agg({'order_number': 'max', 'order_dow': lambda x:x.value_counts().index[0],\n",
    "                                            'order_hour_of_day': 'median', 'days_since_prior_order': 'mean'})"
   ],
   "metadata": {
    "collapsed": false,
    "pycharm": {
     "name": "#%%\n"
    }
   }
  },
  {
   "cell_type": "code",
   "execution_count": 27,
   "outputs": [],
   "source": [
    "# get number of orders for each user and add to grouped_user dfs\n",
    "grouped_user1.insert(1, 'num_orders', grouped_by_user_data1.order_number)"
   ],
   "metadata": {
    "collapsed": false,
    "pycharm": {
     "name": "#%%\n"
    }
   }
  },
  {
   "cell_type": "code",
   "execution_count": 29,
   "outputs": [],
   "source": [
    "grouped_user1.insert(2, 'mean_days_since', grouped_by_user_data1.days_since_prior_order)\n",
    "grouped_user1.insert(3, 'mode_order_dow', grouped_by_user_data1.order_dow)\n",
    "grouped_user1.insert(4, 'median_order_hour', grouped_by_user_data1.order_hour_of_day)"
   ],
   "metadata": {
    "collapsed": false,
    "pycharm": {
     "name": "#%%\n"
    }
   }
  },
  {
   "cell_type": "code",
   "execution_count": 32,
   "outputs": [
    {
     "ename": "ValueError",
     "evalue": "cannot insert num_orders, already exists",
     "output_type": "error",
     "traceback": [
      "\u001B[1;31m---------------------------------------------------------------------------\u001B[0m",
      "\u001B[1;31mValueError\u001B[0m                                Traceback (most recent call last)",
      "\u001B[1;32mC:\\Users\\AKSHAY~1\\AppData\\Local\\Temp/ipykernel_33992/2190802443.py\u001B[0m in \u001B[0;36m<module>\u001B[1;34m\u001B[0m\n\u001B[0;32m      1\u001B[0m \u001B[1;31m# get number of orders for each user and add to grouped_user dfs\u001B[0m\u001B[1;33m\u001B[0m\u001B[1;33m\u001B[0m\u001B[1;33m\u001B[0m\u001B[0m\n\u001B[1;32m----> 2\u001B[1;33m \u001B[0mgrouped_user2\u001B[0m\u001B[1;33m.\u001B[0m\u001B[0minsert\u001B[0m\u001B[1;33m(\u001B[0m\u001B[1;36m1\u001B[0m\u001B[1;33m,\u001B[0m \u001B[1;34m'num_orders'\u001B[0m\u001B[1;33m,\u001B[0m \u001B[0mgrouped_by_user_data2\u001B[0m\u001B[1;33m.\u001B[0m\u001B[0morder_number\u001B[0m\u001B[1;33m)\u001B[0m\u001B[1;33m\u001B[0m\u001B[1;33m\u001B[0m\u001B[0m\n\u001B[0m\u001B[0;32m      3\u001B[0m \u001B[0mgrouped_user2\u001B[0m\u001B[1;33m.\u001B[0m\u001B[0minsert\u001B[0m\u001B[1;33m(\u001B[0m\u001B[1;36m2\u001B[0m\u001B[1;33m,\u001B[0m \u001B[1;34m'mean_days_since'\u001B[0m\u001B[1;33m,\u001B[0m \u001B[0mgrouped_by_user_data2\u001B[0m\u001B[1;33m.\u001B[0m\u001B[0mdays_since_prior_order\u001B[0m\u001B[1;33m)\u001B[0m\u001B[1;33m\u001B[0m\u001B[1;33m\u001B[0m\u001B[0m\n\u001B[0;32m      4\u001B[0m \u001B[0mgrouped_user2\u001B[0m\u001B[1;33m.\u001B[0m\u001B[0minsert\u001B[0m\u001B[1;33m(\u001B[0m\u001B[1;36m3\u001B[0m\u001B[1;33m,\u001B[0m \u001B[1;34m'mode_order_dow'\u001B[0m\u001B[1;33m,\u001B[0m \u001B[0mgrouped_by_user_data2\u001B[0m\u001B[1;33m.\u001B[0m\u001B[0morder_dow\u001B[0m\u001B[1;33m)\u001B[0m\u001B[1;33m\u001B[0m\u001B[1;33m\u001B[0m\u001B[0m\n\u001B[0;32m      5\u001B[0m \u001B[0mgrouped_user2\u001B[0m\u001B[1;33m.\u001B[0m\u001B[0minsert\u001B[0m\u001B[1;33m(\u001B[0m\u001B[1;36m4\u001B[0m\u001B[1;33m,\u001B[0m \u001B[1;34m'median_order_hour'\u001B[0m\u001B[1;33m,\u001B[0m \u001B[0mgrouped_by_user_data2\u001B[0m\u001B[1;33m.\u001B[0m\u001B[0morder_hour_of_day\u001B[0m\u001B[1;33m)\u001B[0m\u001B[1;33m\u001B[0m\u001B[1;33m\u001B[0m\u001B[0m\n",
      "\u001B[1;32mc:\\users\\akshaysharma\\hvacproakshay\\lib\\site-packages\\pandas\\core\\frame.py\u001B[0m in \u001B[0;36minsert\u001B[1;34m(self, loc, column, value, allow_duplicates)\u001B[0m\n\u001B[0;32m   4412\u001B[0m         \u001B[1;32mif\u001B[0m \u001B[1;32mnot\u001B[0m \u001B[0mallow_duplicates\u001B[0m \u001B[1;32mand\u001B[0m \u001B[0mcolumn\u001B[0m \u001B[1;32min\u001B[0m \u001B[0mself\u001B[0m\u001B[1;33m.\u001B[0m\u001B[0mcolumns\u001B[0m\u001B[1;33m:\u001B[0m\u001B[1;33m\u001B[0m\u001B[1;33m\u001B[0m\u001B[0m\n\u001B[0;32m   4413\u001B[0m             \u001B[1;31m# Should this be a different kind of error??\u001B[0m\u001B[1;33m\u001B[0m\u001B[1;33m\u001B[0m\u001B[1;33m\u001B[0m\u001B[0m\n\u001B[1;32m-> 4414\u001B[1;33m             \u001B[1;32mraise\u001B[0m \u001B[0mValueError\u001B[0m\u001B[1;33m(\u001B[0m\u001B[1;34mf\"cannot insert {column}, already exists\"\u001B[0m\u001B[1;33m)\u001B[0m\u001B[1;33m\u001B[0m\u001B[1;33m\u001B[0m\u001B[0m\n\u001B[0m\u001B[0;32m   4415\u001B[0m         \u001B[1;32mif\u001B[0m \u001B[1;32mnot\u001B[0m \u001B[0misinstance\u001B[0m\u001B[1;33m(\u001B[0m\u001B[0mloc\u001B[0m\u001B[1;33m,\u001B[0m \u001B[0mint\u001B[0m\u001B[1;33m)\u001B[0m\u001B[1;33m:\u001B[0m\u001B[1;33m\u001B[0m\u001B[1;33m\u001B[0m\u001B[0m\n\u001B[0;32m   4416\u001B[0m             \u001B[1;32mraise\u001B[0m \u001B[0mTypeError\u001B[0m\u001B[1;33m(\u001B[0m\u001B[1;34m\"loc must be int\"\u001B[0m\u001B[1;33m)\u001B[0m\u001B[1;33m\u001B[0m\u001B[1;33m\u001B[0m\u001B[0m\n",
      "\u001B[1;31mValueError\u001B[0m: cannot insert num_orders, already exists"
     ]
    }
   ],
   "source": [
    "# get number of orders for each user and add to grouped_user dfs\n",
    "grouped_user2.insert(1, 'num_orders', grouped_by_user_data2.order_number)\n",
    "grouped_user2.insert(2, 'mean_days_since', grouped_by_user_data2.days_since_prior_order)\n",
    "grouped_user2.insert(3, 'mode_order_dow', grouped_by_user_data2.order_dow)\n",
    "grouped_user2.insert(4, 'median_order_hour', grouped_by_user_data2.order_hour_of_day)\n"
   ],
   "metadata": {
    "collapsed": false,
    "pycharm": {
     "name": "#%%\n"
    }
   }
  },
  {
   "cell_type": "code",
   "execution_count": 33,
   "outputs": [
    {
     "data": {
      "text/plain": "         order_number  num_orders  mean_days_since  mode_order_dow  \\\nuser_id                                                              \n70001           12916          40         9.254932               6   \n70002             151           5        26.000000               6   \n70003           13657          46         8.990654               1   \n70004              10           3        24.000000               0   \n70005             992          15        11.379310               0   \n\n         median_order_hour  order_dow  order_hour_of_day  \\\nuser_id                                                    \n70001                 15.0       2788               9831   \n70002                 12.0        134                590   \n70003                 15.0       1396               7324   \n70004                 16.0          4                 87   \n70005                  9.0        264               1351   \n\n         days_since_prior_order  aisle_air fresheners candles  \\\nuser_id                                                         \n70001                    6099.0                           0.0   \n70002                    1170.0                           0.0   \n70003                    4810.0                           0.0   \n70004                      72.0                           0.0   \n70005                    1320.0                           0.0   \n\n         aisle_asian foods  ...  aisle_spreads  aisle_tea  \\\nuser_id                     ...                             \n70001                  0.0  ...           10.0        1.0   \n70002                  0.0  ...            0.0        0.0   \n70003                  0.0  ...            0.0        1.0   \n70004                  0.0  ...            0.0        0.0   \n70005                  0.0  ...            2.0        0.0   \n\n         aisle_tofu meat alternatives  aisle_tortillas flat bread  \\\nuser_id                                                             \n70001                             0.0                         0.0   \n70002                             0.0                         0.0   \n70003                             0.0                         0.0   \n70004                             0.0                         0.0   \n70005                             0.0                         4.0   \n\n         aisle_trail mix snack mix  aisle_trash bags liners  \\\nuser_id                                                       \n70001                          0.0                      0.0   \n70002                          0.0                      0.0   \n70003                          0.0                      0.0   \n70004                          0.0                      0.0   \n70005                          0.0                      0.0   \n\n         aisle_vitamins supplements  aisle_water seltzer sparkling water  \\\nuser_id                                                                    \n70001                           1.0                                 16.0   \n70002                           1.0                                  2.0   \n70003                           0.0                                  9.0   \n70004                           0.0                                  0.0   \n70005                           0.0                                  0.0   \n\n         aisle_white wines  aisle_yogurt  \nuser_id                                   \n70001                  0.0           8.0  \n70002                  0.0           0.0  \n70003                  0.0           2.0  \n70004                  0.0           0.0  \n70005                  0.0           0.0  \n\n[5 rows x 142 columns]",
      "text/html": "<div>\n<style scoped>\n    .dataframe tbody tr th:only-of-type {\n        vertical-align: middle;\n    }\n\n    .dataframe tbody tr th {\n        vertical-align: top;\n    }\n\n    .dataframe thead th {\n        text-align: right;\n    }\n</style>\n<table border=\"1\" class=\"dataframe\">\n  <thead>\n    <tr style=\"text-align: right;\">\n      <th></th>\n      <th>order_number</th>\n      <th>num_orders</th>\n      <th>mean_days_since</th>\n      <th>mode_order_dow</th>\n      <th>median_order_hour</th>\n      <th>order_dow</th>\n      <th>order_hour_of_day</th>\n      <th>days_since_prior_order</th>\n      <th>aisle_air fresheners candles</th>\n      <th>aisle_asian foods</th>\n      <th>...</th>\n      <th>aisle_spreads</th>\n      <th>aisle_tea</th>\n      <th>aisle_tofu meat alternatives</th>\n      <th>aisle_tortillas flat bread</th>\n      <th>aisle_trail mix snack mix</th>\n      <th>aisle_trash bags liners</th>\n      <th>aisle_vitamins supplements</th>\n      <th>aisle_water seltzer sparkling water</th>\n      <th>aisle_white wines</th>\n      <th>aisle_yogurt</th>\n    </tr>\n    <tr>\n      <th>user_id</th>\n      <th></th>\n      <th></th>\n      <th></th>\n      <th></th>\n      <th></th>\n      <th></th>\n      <th></th>\n      <th></th>\n      <th></th>\n      <th></th>\n      <th></th>\n      <th></th>\n      <th></th>\n      <th></th>\n      <th></th>\n      <th></th>\n      <th></th>\n      <th></th>\n      <th></th>\n      <th></th>\n      <th></th>\n    </tr>\n  </thead>\n  <tbody>\n    <tr>\n      <th>70001</th>\n      <td>12916</td>\n      <td>40</td>\n      <td>9.254932</td>\n      <td>6</td>\n      <td>15.0</td>\n      <td>2788</td>\n      <td>9831</td>\n      <td>6099.0</td>\n      <td>0.0</td>\n      <td>0.0</td>\n      <td>...</td>\n      <td>10.0</td>\n      <td>1.0</td>\n      <td>0.0</td>\n      <td>0.0</td>\n      <td>0.0</td>\n      <td>0.0</td>\n      <td>1.0</td>\n      <td>16.0</td>\n      <td>0.0</td>\n      <td>8.0</td>\n    </tr>\n    <tr>\n      <th>70002</th>\n      <td>151</td>\n      <td>5</td>\n      <td>26.000000</td>\n      <td>6</td>\n      <td>12.0</td>\n      <td>134</td>\n      <td>590</td>\n      <td>1170.0</td>\n      <td>0.0</td>\n      <td>0.0</td>\n      <td>...</td>\n      <td>0.0</td>\n      <td>0.0</td>\n      <td>0.0</td>\n      <td>0.0</td>\n      <td>0.0</td>\n      <td>0.0</td>\n      <td>1.0</td>\n      <td>2.0</td>\n      <td>0.0</td>\n      <td>0.0</td>\n    </tr>\n    <tr>\n      <th>70003</th>\n      <td>13657</td>\n      <td>46</td>\n      <td>8.990654</td>\n      <td>1</td>\n      <td>15.0</td>\n      <td>1396</td>\n      <td>7324</td>\n      <td>4810.0</td>\n      <td>0.0</td>\n      <td>0.0</td>\n      <td>...</td>\n      <td>0.0</td>\n      <td>1.0</td>\n      <td>0.0</td>\n      <td>0.0</td>\n      <td>0.0</td>\n      <td>0.0</td>\n      <td>0.0</td>\n      <td>9.0</td>\n      <td>0.0</td>\n      <td>2.0</td>\n    </tr>\n    <tr>\n      <th>70004</th>\n      <td>10</td>\n      <td>3</td>\n      <td>24.000000</td>\n      <td>0</td>\n      <td>16.0</td>\n      <td>4</td>\n      <td>87</td>\n      <td>72.0</td>\n      <td>0.0</td>\n      <td>0.0</td>\n      <td>...</td>\n      <td>0.0</td>\n      <td>0.0</td>\n      <td>0.0</td>\n      <td>0.0</td>\n      <td>0.0</td>\n      <td>0.0</td>\n      <td>0.0</td>\n      <td>0.0</td>\n      <td>0.0</td>\n      <td>0.0</td>\n    </tr>\n    <tr>\n      <th>70005</th>\n      <td>992</td>\n      <td>15</td>\n      <td>11.379310</td>\n      <td>0</td>\n      <td>9.0</td>\n      <td>264</td>\n      <td>1351</td>\n      <td>1320.0</td>\n      <td>0.0</td>\n      <td>0.0</td>\n      <td>...</td>\n      <td>2.0</td>\n      <td>0.0</td>\n      <td>0.0</td>\n      <td>4.0</td>\n      <td>0.0</td>\n      <td>0.0</td>\n      <td>0.0</td>\n      <td>0.0</td>\n      <td>0.0</td>\n      <td>0.0</td>\n    </tr>\n  </tbody>\n</table>\n<p>5 rows × 142 columns</p>\n</div>"
     },
     "execution_count": 33,
     "metadata": {},
     "output_type": "execute_result"
    }
   ],
   "source": [
    "grouped_user2.head()"
   ],
   "metadata": {
    "collapsed": false,
    "pycharm": {
     "name": "#%%\n"
    }
   }
  },
  {
   "cell_type": "code",
   "execution_count": 34,
   "outputs": [],
   "source": [
    "# get number of orders for each user and add to grouped_user dfs\n",
    "grouped_user3.insert(1, 'num_orders', grouped_by_user_data3.order_number)\n",
    "grouped_user3.insert(2, 'mean_days_since', grouped_by_user_data3.days_since_prior_order)\n",
    "grouped_user3.insert(3, 'mode_order_dow', grouped_by_user_data3.order_dow)\n",
    "grouped_user3.insert(4, 'median_order_hour', grouped_by_user_data3.order_hour_of_day)"
   ],
   "metadata": {
    "collapsed": false,
    "pycharm": {
     "name": "#%%\n"
    }
   }
  },
  {
   "cell_type": "code",
   "execution_count": 30,
   "outputs": [
    {
     "data": {
      "text/plain": "         order_number  num_orders  mean_days_since  mode_order_dow  \\\nuser_id                                                              \n1                 464          11        19.200000               4   \n2                2032          15        18.009390               1   \n3                 528          12        11.487179               0   \n4                  52           5        15.357143               4   \n5                 137           5        12.314286               0   \n\n         median_order_hour  order_dow  order_hour_of_day  \\\nuser_id                                                    \n1                      8.0        200                710   \n2                     10.0        422               2377   \n3                     16.0         89               1439   \n4                     13.0         85                236   \n5                     16.0         60                681   \n\n         days_since_prior_order  aisle_air fresheners candles  \\\nuser_id                                                         \n1                        1248.0                           0.0   \n2                        3836.0                           0.0   \n3                         896.0                           0.0   \n4                         215.0                           0.0   \n5                         431.0                           1.0   \n\n         aisle_asian foods  ...  aisle_spreads  aisle_tea  \\\nuser_id                     ...                             \n1                      0.0  ...            1.0        0.0   \n2                      3.0  ...            3.0        1.0   \n3                      0.0  ...            4.0        1.0   \n4                      0.0  ...            0.0        0.0   \n5                      4.0  ...            0.0        0.0   \n\n         aisle_tofu meat alternatives  aisle_tortillas flat bread  \\\nuser_id                                                             \n1                                 0.0                         0.0   \n2                                 1.0                         0.0   \n3                                 0.0                         0.0   \n4                                 0.0                         1.0   \n5                                 0.0                         0.0   \n\n         aisle_trail mix snack mix  aisle_trash bags liners  \\\nuser_id                                                       \n1                              0.0                      0.0   \n2                              0.0                      0.0   \n3                              0.0                      0.0   \n4                              0.0                      0.0   \n5                              0.0                      0.0   \n\n         aisle_vitamins supplements  aisle_water seltzer sparkling water  \\\nuser_id                                                                    \n1                               0.0                                  0.0   \n2                               0.0                                  2.0   \n3                               0.0                                  2.0   \n4                               0.0                                  1.0   \n5                               0.0                                  0.0   \n\n         aisle_white wines  aisle_yogurt  \nuser_id                                   \n1                      0.0           2.0  \n2                      0.0          42.0  \n3                      0.0           0.0  \n4                      0.0           0.0  \n5                      0.0           3.0  \n\n[5 rows x 142 columns]",
      "text/html": "<div>\n<style scoped>\n    .dataframe tbody tr th:only-of-type {\n        vertical-align: middle;\n    }\n\n    .dataframe tbody tr th {\n        vertical-align: top;\n    }\n\n    .dataframe thead th {\n        text-align: right;\n    }\n</style>\n<table border=\"1\" class=\"dataframe\">\n  <thead>\n    <tr style=\"text-align: right;\">\n      <th></th>\n      <th>order_number</th>\n      <th>num_orders</th>\n      <th>mean_days_since</th>\n      <th>mode_order_dow</th>\n      <th>median_order_hour</th>\n      <th>order_dow</th>\n      <th>order_hour_of_day</th>\n      <th>days_since_prior_order</th>\n      <th>aisle_air fresheners candles</th>\n      <th>aisle_asian foods</th>\n      <th>...</th>\n      <th>aisle_spreads</th>\n      <th>aisle_tea</th>\n      <th>aisle_tofu meat alternatives</th>\n      <th>aisle_tortillas flat bread</th>\n      <th>aisle_trail mix snack mix</th>\n      <th>aisle_trash bags liners</th>\n      <th>aisle_vitamins supplements</th>\n      <th>aisle_water seltzer sparkling water</th>\n      <th>aisle_white wines</th>\n      <th>aisle_yogurt</th>\n    </tr>\n    <tr>\n      <th>user_id</th>\n      <th></th>\n      <th></th>\n      <th></th>\n      <th></th>\n      <th></th>\n      <th></th>\n      <th></th>\n      <th></th>\n      <th></th>\n      <th></th>\n      <th></th>\n      <th></th>\n      <th></th>\n      <th></th>\n      <th></th>\n      <th></th>\n      <th></th>\n      <th></th>\n      <th></th>\n      <th></th>\n      <th></th>\n    </tr>\n  </thead>\n  <tbody>\n    <tr>\n      <th>1</th>\n      <td>464</td>\n      <td>11</td>\n      <td>19.200000</td>\n      <td>4</td>\n      <td>8.0</td>\n      <td>200</td>\n      <td>710</td>\n      <td>1248.0</td>\n      <td>0.0</td>\n      <td>0.0</td>\n      <td>...</td>\n      <td>1.0</td>\n      <td>0.0</td>\n      <td>0.0</td>\n      <td>0.0</td>\n      <td>0.0</td>\n      <td>0.0</td>\n      <td>0.0</td>\n      <td>0.0</td>\n      <td>0.0</td>\n      <td>2.0</td>\n    </tr>\n    <tr>\n      <th>2</th>\n      <td>2032</td>\n      <td>15</td>\n      <td>18.009390</td>\n      <td>1</td>\n      <td>10.0</td>\n      <td>422</td>\n      <td>2377</td>\n      <td>3836.0</td>\n      <td>0.0</td>\n      <td>3.0</td>\n      <td>...</td>\n      <td>3.0</td>\n      <td>1.0</td>\n      <td>1.0</td>\n      <td>0.0</td>\n      <td>0.0</td>\n      <td>0.0</td>\n      <td>0.0</td>\n      <td>2.0</td>\n      <td>0.0</td>\n      <td>42.0</td>\n    </tr>\n    <tr>\n      <th>3</th>\n      <td>528</td>\n      <td>12</td>\n      <td>11.487179</td>\n      <td>0</td>\n      <td>16.0</td>\n      <td>89</td>\n      <td>1439</td>\n      <td>896.0</td>\n      <td>0.0</td>\n      <td>0.0</td>\n      <td>...</td>\n      <td>4.0</td>\n      <td>1.0</td>\n      <td>0.0</td>\n      <td>0.0</td>\n      <td>0.0</td>\n      <td>0.0</td>\n      <td>0.0</td>\n      <td>2.0</td>\n      <td>0.0</td>\n      <td>0.0</td>\n    </tr>\n    <tr>\n      <th>4</th>\n      <td>52</td>\n      <td>5</td>\n      <td>15.357143</td>\n      <td>4</td>\n      <td>13.0</td>\n      <td>85</td>\n      <td>236</td>\n      <td>215.0</td>\n      <td>0.0</td>\n      <td>0.0</td>\n      <td>...</td>\n      <td>0.0</td>\n      <td>0.0</td>\n      <td>0.0</td>\n      <td>1.0</td>\n      <td>0.0</td>\n      <td>0.0</td>\n      <td>0.0</td>\n      <td>1.0</td>\n      <td>0.0</td>\n      <td>0.0</td>\n    </tr>\n    <tr>\n      <th>5</th>\n      <td>137</td>\n      <td>5</td>\n      <td>12.314286</td>\n      <td>0</td>\n      <td>16.0</td>\n      <td>60</td>\n      <td>681</td>\n      <td>431.0</td>\n      <td>1.0</td>\n      <td>4.0</td>\n      <td>...</td>\n      <td>0.0</td>\n      <td>0.0</td>\n      <td>0.0</td>\n      <td>0.0</td>\n      <td>0.0</td>\n      <td>0.0</td>\n      <td>0.0</td>\n      <td>0.0</td>\n      <td>0.0</td>\n      <td>3.0</td>\n    </tr>\n  </tbody>\n</table>\n<p>5 rows × 142 columns</p>\n</div>"
     },
     "execution_count": 30,
     "metadata": {},
     "output_type": "execute_result"
    }
   ],
   "source": [
    "grouped_user1.head()"
   ],
   "metadata": {
    "collapsed": false,
    "pycharm": {
     "name": "#%%\n"
    }
   }
  },
  {
   "cell_type": "code",
   "execution_count": 35,
   "outputs": [],
   "source": [
    "grouped_user1.drop(columns=['order_number', 'order_dow', 'order_hour_of_day', 'days_since_prior_order'], inplace=True)\n",
    "grouped_user2.drop(columns=['order_number', 'order_dow', 'order_hour_of_day', 'days_since_prior_order'], inplace=True)\n",
    "grouped_user3.drop(columns=['order_number', 'order_dow', 'order_hour_of_day', 'days_since_prior_order'], inplace=True)"
   ],
   "metadata": {
    "collapsed": false,
    "pycharm": {
     "name": "#%%\n"
    }
   }
  },
  {
   "cell_type": "code",
   "execution_count": 36,
   "outputs": [],
   "source": [
    "grouped_users = pd.concat([grouped_user1, grouped_user2, grouped_user3], axis=0)"
   ],
   "metadata": {
    "collapsed": false,
    "pycharm": {
     "name": "#%%\n"
    }
   }
  },
  {
   "cell_type": "code",
   "execution_count": 37,
   "outputs": [
    {
     "data": {
      "text/plain": "         num_orders  mean_days_since  mode_order_dow  median_order_hour  \\\nuser_id                                                                   \n1                11        19.200000               4                8.0   \n2                15        18.009390               1               10.0   \n3                12        11.487179               0               16.0   \n4                 5        15.357143               4               13.0   \n5                 5        12.314286               0               16.0   \n\n         aisle_air fresheners candles  aisle_asian foods  \\\nuser_id                                                    \n1                                 0.0                0.0   \n2                                 0.0                3.0   \n3                                 0.0                0.0   \n4                                 0.0                0.0   \n5                                 1.0                4.0   \n\n         aisle_baby accessories  aisle_baby bath body care  \\\nuser_id                                                      \n1                           0.0                        0.0   \n2                           0.0                        0.0   \n3                           0.0                        0.0   \n4                           0.0                        0.0   \n5                           0.0                        0.0   \n\n         aisle_baby food formula  aisle_bakery desserts  ...  aisle_spreads  \\\nuser_id                                                  ...                  \n1                            0.0                    0.0  ...            1.0   \n2                            0.0                    0.0  ...            3.0   \n3                            0.0                    0.0  ...            4.0   \n4                            0.0                    0.0  ...            0.0   \n5                            0.0                    0.0  ...            0.0   \n\n         aisle_tea  aisle_tofu meat alternatives  aisle_tortillas flat bread  \\\nuser_id                                                                        \n1              0.0                           0.0                         0.0   \n2              1.0                           1.0                         0.0   \n3              1.0                           0.0                         0.0   \n4              0.0                           0.0                         1.0   \n5              0.0                           0.0                         0.0   \n\n         aisle_trail mix snack mix  aisle_trash bags liners  \\\nuser_id                                                       \n1                              0.0                      0.0   \n2                              0.0                      0.0   \n3                              0.0                      0.0   \n4                              0.0                      0.0   \n5                              0.0                      0.0   \n\n         aisle_vitamins supplements  aisle_water seltzer sparkling water  \\\nuser_id                                                                    \n1                               0.0                                  0.0   \n2                               0.0                                  2.0   \n3                               0.0                                  2.0   \n4                               0.0                                  1.0   \n5                               0.0                                  0.0   \n\n         aisle_white wines  aisle_yogurt  \nuser_id                                   \n1                      0.0           2.0  \n2                      0.0          42.0  \n3                      0.0           0.0  \n4                      0.0           0.0  \n5                      0.0           3.0  \n\n[5 rows x 138 columns]",
      "text/html": "<div>\n<style scoped>\n    .dataframe tbody tr th:only-of-type {\n        vertical-align: middle;\n    }\n\n    .dataframe tbody tr th {\n        vertical-align: top;\n    }\n\n    .dataframe thead th {\n        text-align: right;\n    }\n</style>\n<table border=\"1\" class=\"dataframe\">\n  <thead>\n    <tr style=\"text-align: right;\">\n      <th></th>\n      <th>num_orders</th>\n      <th>mean_days_since</th>\n      <th>mode_order_dow</th>\n      <th>median_order_hour</th>\n      <th>aisle_air fresheners candles</th>\n      <th>aisle_asian foods</th>\n      <th>aisle_baby accessories</th>\n      <th>aisle_baby bath body care</th>\n      <th>aisle_baby food formula</th>\n      <th>aisle_bakery desserts</th>\n      <th>...</th>\n      <th>aisle_spreads</th>\n      <th>aisle_tea</th>\n      <th>aisle_tofu meat alternatives</th>\n      <th>aisle_tortillas flat bread</th>\n      <th>aisle_trail mix snack mix</th>\n      <th>aisle_trash bags liners</th>\n      <th>aisle_vitamins supplements</th>\n      <th>aisle_water seltzer sparkling water</th>\n      <th>aisle_white wines</th>\n      <th>aisle_yogurt</th>\n    </tr>\n    <tr>\n      <th>user_id</th>\n      <th></th>\n      <th></th>\n      <th></th>\n      <th></th>\n      <th></th>\n      <th></th>\n      <th></th>\n      <th></th>\n      <th></th>\n      <th></th>\n      <th></th>\n      <th></th>\n      <th></th>\n      <th></th>\n      <th></th>\n      <th></th>\n      <th></th>\n      <th></th>\n      <th></th>\n      <th></th>\n      <th></th>\n    </tr>\n  </thead>\n  <tbody>\n    <tr>\n      <th>1</th>\n      <td>11</td>\n      <td>19.200000</td>\n      <td>4</td>\n      <td>8.0</td>\n      <td>0.0</td>\n      <td>0.0</td>\n      <td>0.0</td>\n      <td>0.0</td>\n      <td>0.0</td>\n      <td>0.0</td>\n      <td>...</td>\n      <td>1.0</td>\n      <td>0.0</td>\n      <td>0.0</td>\n      <td>0.0</td>\n      <td>0.0</td>\n      <td>0.0</td>\n      <td>0.0</td>\n      <td>0.0</td>\n      <td>0.0</td>\n      <td>2.0</td>\n    </tr>\n    <tr>\n      <th>2</th>\n      <td>15</td>\n      <td>18.009390</td>\n      <td>1</td>\n      <td>10.0</td>\n      <td>0.0</td>\n      <td>3.0</td>\n      <td>0.0</td>\n      <td>0.0</td>\n      <td>0.0</td>\n      <td>0.0</td>\n      <td>...</td>\n      <td>3.0</td>\n      <td>1.0</td>\n      <td>1.0</td>\n      <td>0.0</td>\n      <td>0.0</td>\n      <td>0.0</td>\n      <td>0.0</td>\n      <td>2.0</td>\n      <td>0.0</td>\n      <td>42.0</td>\n    </tr>\n    <tr>\n      <th>3</th>\n      <td>12</td>\n      <td>11.487179</td>\n      <td>0</td>\n      <td>16.0</td>\n      <td>0.0</td>\n      <td>0.0</td>\n      <td>0.0</td>\n      <td>0.0</td>\n      <td>0.0</td>\n      <td>0.0</td>\n      <td>...</td>\n      <td>4.0</td>\n      <td>1.0</td>\n      <td>0.0</td>\n      <td>0.0</td>\n      <td>0.0</td>\n      <td>0.0</td>\n      <td>0.0</td>\n      <td>2.0</td>\n      <td>0.0</td>\n      <td>0.0</td>\n    </tr>\n    <tr>\n      <th>4</th>\n      <td>5</td>\n      <td>15.357143</td>\n      <td>4</td>\n      <td>13.0</td>\n      <td>0.0</td>\n      <td>0.0</td>\n      <td>0.0</td>\n      <td>0.0</td>\n      <td>0.0</td>\n      <td>0.0</td>\n      <td>...</td>\n      <td>0.0</td>\n      <td>0.0</td>\n      <td>0.0</td>\n      <td>1.0</td>\n      <td>0.0</td>\n      <td>0.0</td>\n      <td>0.0</td>\n      <td>1.0</td>\n      <td>0.0</td>\n      <td>0.0</td>\n    </tr>\n    <tr>\n      <th>5</th>\n      <td>5</td>\n      <td>12.314286</td>\n      <td>0</td>\n      <td>16.0</td>\n      <td>1.0</td>\n      <td>4.0</td>\n      <td>0.0</td>\n      <td>0.0</td>\n      <td>0.0</td>\n      <td>0.0</td>\n      <td>...</td>\n      <td>0.0</td>\n      <td>0.0</td>\n      <td>0.0</td>\n      <td>0.0</td>\n      <td>0.0</td>\n      <td>0.0</td>\n      <td>0.0</td>\n      <td>0.0</td>\n      <td>0.0</td>\n      <td>3.0</td>\n    </tr>\n  </tbody>\n</table>\n<p>5 rows × 138 columns</p>\n</div>"
     },
     "execution_count": 37,
     "metadata": {},
     "output_type": "execute_result"
    }
   ],
   "source": [
    "grouped_users.head()"
   ],
   "metadata": {
    "collapsed": false,
    "pycharm": {
     "name": "#%%\n"
    }
   }
  },
  {
   "cell_type": "code",
   "execution_count": 38,
   "outputs": [],
   "source": [
    "from sklearn.preprocessing import StandardScaler\n",
    "scaler = StandardScaler()\n",
    "scaled_users = scaler.fit_transform(grouped_users)"
   ],
   "metadata": {
    "collapsed": false,
    "pycharm": {
     "name": "#%%\n"
    }
   }
  },
  {
   "cell_type": "code",
   "execution_count": 39,
   "outputs": [],
   "source": [
    "from sklearn.cluster import KMeans\n",
    "random_state = 12\n",
    "\n",
    "'''The classical EM-style algorithm is “full”. The “elkan” variation is more efficient on data with well-defined clusters,\n",
    "by using the triangle inequality. However it’s more memory intensive due to the allocation of an extra array of shape\n",
    "(n_samples, n_clusters).'''\n",
    "\n",
    "# Is having 20 separate market segments helpful?  Can I figure out what make them different and target that?\n",
    "\n",
    "k_means_13 = KMeans(n_clusters=13, random_state=random_state, algorithm='full').fit(scaled_users)\n",
    "k_means_14 = KMeans(n_clusters=14, random_state=random_state, algorithm='full').fit(scaled_users)\n",
    "k_means_15 = KMeans(n_clusters=15, random_state=random_state, algorithm='full').fit(scaled_users)\n",
    "k_means_16 = KMeans(n_clusters=16, random_state=random_state, algorithm='full').fit(scaled_users)\n",
    "k_means_17 = KMeans(n_clusters=17, random_state=random_state, algorithm='full').fit(scaled_users)\n",
    "k_means_18 = KMeans(n_clusters=18, random_state=random_state, algorithm='full').fit(scaled_users)\n",
    "k_means_19 = KMeans(n_clusters=19, random_state=random_state, algorithm='full').fit(scaled_users)\n",
    "k_means_10 = KMeans(n_clusters=10, random_state=random_state, algorithm='full').fit(scaled_users)\n",
    "k_means_11 = KMeans(n_clusters=11, random_state=random_state, algorithm='full').fit(scaled_users)\n",
    "k_means_12 = KMeans(n_clusters=12, random_state=random_state, algorithm='full').fit(scaled_users)\n",
    "k_means_20 = KMeans(n_clusters=20, random_state=random_state, algorithm='full').fit(scaled_users)"
   ],
   "metadata": {
    "collapsed": false,
    "pycharm": {
     "name": "#%%\n"
    }
   }
  },
  {
   "cell_type": "code",
   "execution_count": 40,
   "outputs": [],
   "source": [
    "from sklearn.metrics import calinski_harabasz_score\n",
    "\n",
    "k_list = [k_means_13, k_means_14, k_means_15, k_means_16,k_means_17, k_means_18, k_means_19, k_means_20]\n",
    "CH_score = []\n",
    "\n",
    "for model in k_list:\n",
    "    labels = model.labels_\n",
    "    CH_score.append(calinski_harabasz_score(grouped_users, labels))"
   ],
   "metadata": {
    "collapsed": false,
    "pycharm": {
     "name": "#%%\n"
    }
   }
  },
  {
   "cell_type": "code",
   "execution_count": 42,
   "outputs": [
    {
     "data": {
      "text/plain": "Text(0.5, 0, 'K=')"
     },
     "execution_count": 42,
     "metadata": {},
     "output_type": "execute_result"
    },
    {
     "data": {
      "text/plain": "<Figure size 432x288 with 1 Axes>",
      "image/png": "[encoded data removed]"
     },
     "metadata": {
      "needs_background": "light"
     },
     "output_type": "display_data"
    }
   ],
   "source": [
    "plt.plot([13, 14, 15, 16, 17, 18, 19, 20], CH_score)\n",
    "plt.xticks([13,14,15,16,17,18,19,20])\n",
    "plt.title('Calinski Harabasz Scores for Different Values of K')\n",
    "plt.ylabel('Variance Ratio')\n",
    "plt.xlabel('K=')"
   ],
   "metadata": {
    "collapsed": false,
    "pycharm": {
     "name": "#%%\n"
    }
   }
  },
  {
   "cell_type": "code",
   "execution_count": 43,
   "outputs": [],
   "source": [
    "# Looking at Within Cluster Sum of Squares\n",
    "\n",
    "wcss_score = []\n",
    "\n",
    "for model in k_list:\n",
    "    labels = model.labels_\n",
    "    wcss_score.append(model.inertia_)"
   ],
   "metadata": {
    "collapsed": false,
    "pycharm": {
     "name": "#%%\n"
    }
   }
  },
  {
   "cell_type": "code",
   "execution_count": 44,
   "outputs": [
    {
     "data": {
      "text/plain": "Text(0.5, 0, 'K=')"
     },
     "execution_count": 44,
     "metadata": {},
     "output_type": "execute_result"
    },
    {
     "data": {
      "text/plain": "<Figure size 432x288 with 1 Axes>",
      "image/png": "[encoded data removed]"
     },
     "metadata": {
      "needs_background": "light"
     },
     "output_type": "display_data"
    }
   ],
   "source": [
    "plt.plot([13, 14, 15, 16, 17, 18, 19, 20], wcss_score)\n",
    "plt.xticks([13,14,15,16,17,18,19,20])\n",
    "plt.title('Within Cluster Sum of Squares Scores for Different Values of K')\n",
    "plt.ylabel('WCSS')\n",
    "plt.xlabel('K=')"
   ],
   "metadata": {
    "collapsed": false,
    "pycharm": {
     "name": "#%%\n"
    }
   }
  },
  {
   "cell_type": "code",
   "execution_count": 45,
   "outputs": [],
   "source": [
    "# Add cluster assignment to the grouped_users dataframe\n",
    "grouped_users['cluster'] = k_means_20.labels_"
   ],
   "metadata": {
    "collapsed": false,
    "pycharm": {
     "name": "#%%\n"
    }
   }
  },
  {
   "cell_type": "code",
   "execution_count": 46,
   "outputs": [],
   "source": [
    "pickle.dump(grouped_users, open('../input/clustered_users.p', 'wb')) # creating grouped users with cluster info"
   ],
   "metadata": {
    "collapsed": false,
    "pycharm": {
     "name": "#%%\n"
    }
   }
  },
  {
   "cell_type": "code",
   "execution_count": 47,
   "outputs": [
    {
     "data": {
      "text/plain": "7     71180\n1     56887\n5     37100\n14    11516\n4      8535\n6      5131\n19     4809\n18     1885\n13     1758\n16     1370\n3       901\n17      885\n9       835\n2       827\n0       692\n15      569\n12      499\n10      468\n11      206\n8       156\nName: cluster, dtype: int64"
     },
     "execution_count": 47,
     "metadata": {},
     "output_type": "execute_result"
    }
   ],
   "source": [
    "grouped_users.cluster.value_counts()"
   ],
   "metadata": {
    "collapsed": false,
    "pycharm": {
     "name": "#%%\n"
    }
   }
  },
  {
   "cell_type": "code",
   "execution_count": 48,
   "outputs": [
    {
     "data": {
      "text/plain": "<Figure size 432x288 with 1 Axes>",
      "image/png": "[encoded data removed]"
     },
     "metadata": {
      "needs_background": "light"
     },
     "output_type": "display_data"
    }
   ],
   "source": [
    "from sklearn.decomposition import PCA\n",
    "import matplotlib.pyplot as plt\n",
    "pca = PCA(n_components = 30)\n",
    "principalComponents = pca.fit_transform(scaled_users)\n",
    "\n",
    "features = range(pca.n_components_)\n",
    "plt.bar(features, pca.explained_variance_ratio_, color = 'black')\n",
    "plt.xlabel('PCA features')\n",
    "plt.ylabel('variance %')\n",
    "plt.xticks(features)\n",
    "plt.xticks(rotation = 45)\n",
    "\n",
    "PCA_components = pd.DataFrame(principalComponents)"
   ],
   "metadata": {
    "collapsed": false,
    "pycharm": {
     "name": "#%%\n"
    }
   }
  },
  {
   "cell_type": "code",
   "execution_count": 49,
   "outputs": [
    {
     "data": {
      "text/plain": "<Figure size 432x288 with 1 Axes>",
      "image/png": "[encoded data removed]"
     },
     "metadata": {
      "needs_background": "light"
     },
     "output_type": "display_data"
    }
   ],
   "source": [
    "sse = {}\n",
    "labels = {}\n",
    "for k in range(2,23):\n",
    "    kmeans = KMeans(n_clusters = k).fit(PCA_components[[0,1,2,3,4,5,6,7,8,9]])\n",
    "    sse[k] = kmeans.inertia_\n",
    "    labels[k] = kmeans.labels_\n",
    "plt.figure()\n",
    "plt.plot(list(sse.keys()), list(sse.values()))\n",
    "plt.xlabel(\"Number of cluster\")\n",
    "plt.ylabel(\"SSE\")\n",
    "plt.show()"
   ],
   "metadata": {
    "collapsed": false,
    "pycharm": {
     "name": "#%%\n"
    }
   }
  },
  {
   "cell_type": "code",
   "execution_count": null,
   "outputs": [],
   "source": [],
   "metadata": {
    "collapsed": false,
    "pycharm": {
     "name": "#%%\n"
    }
   }
  }
 ],
 "metadata": {
  "kernelspec": {
   "display_name": "Python 3",
   "language": "python",
   "name": "python3"
  },
  "language_info": {
   "codemirror_mode": {
    "name": "ipython",
    "version": 2
   },
   "file_extension": ".py",
   "mimetype": "text/x-python",
   "name": "python",
   "nbconvert_exporter": "python",
   "pygments_lexer": "ipython2",
   "version": "2.7.6"
  }
 },
 "nbformat": 4,
 "nbformat_minor": 0
}