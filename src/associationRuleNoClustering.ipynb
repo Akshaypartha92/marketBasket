{
 "cells": [
  {
   "cell_type": "code",
   "execution_count": 1,
   "metadata": {
    "collapsed": true
   },
   "outputs": [],
   "source": [
    "import pandas as pd\n",
    "import numpy as np\n",
    "import seaborn as sns\n",
    "import numpy as np\n",
    "from itertools import combinations, groupby\n",
    "from collections import Counter\n",
    "from pathlib import Path\n",
    "from apriori_algo import AprioriAlgo\n",
    "apriori = AprioriAlgo()"
   ]
  },
  {
   "cell_type": "code",
   "execution_count": 2,
   "outputs": [
    {
     "name": "stderr",
     "output_type": "stream",
     "text": [
      "c:\\users\\akshaysharma\\hvacproakshay\\lib\\site-packages\\numpy\\lib\\arraysetops.py:583: FutureWarning: elementwise comparison failed; returning scalar instead, but in the future will perform elementwise comparison\n",
      "  mask |= (ar1 == a)\n"
     ]
    }
   ],
   "source": [
    "orders = pd.read_csv('../input/all_orders.csv', index_col = 0)\n",
    "cluster_df = pd.read_csv('../input/cluster_df')\n",
    "products = pd.read_csv('../input/products.csv')\n",
    "aisles = pd.read_csv('../input/aisles.csv')\n",
    "departments = pd.read_csv('../input/departments.csv')"
   ],
   "metadata": {
    "collapsed": false,
    "pycharm": {
     "name": "#%%\n"
    }
   }
  },
  {
   "cell_type": "code",
   "execution_count": 3,
   "outputs": [
    {
     "data": {
      "text/plain": "          order_id  product_id  add_to_cart_order  reordered  aisle_id  \\\n30264547         1       10246                  3          0        83   \n30264545         1       11109                  2          1       108   \n30264548         1       13176                  6          0        24   \n30264544         1       22035                  8          1        21   \n30264550         1       43633                  5          1        95   \n...            ...         ...                ...        ...       ...   \n23108244   3421083       21162                  3          0        92   \n23108238   3421083       24852                  9          1        24   \n23108247   3421083       35211                  5          0        92   \n23108242   3421083       39678                  6          1        74   \n23108246   3421083       45309                  2          0        92   \n\n          department_id                 aisle    department  user_id  cluster  \n30264547              4      fresh vegetables       produce   112108        1  \n30264545             16  other creams cheeses    dairy eggs   112108        1  \n30264548              4          fresh fruits       produce   112108        1  \n30264544             16       packaged cheese    dairy eggs   112108        1  \n30264550             15   canned meat seafood  canned goods   112108        1  \n...                 ...                   ...           ...      ...      ...  \n23108244             18     baby food formula        babies    25247        1  \n23108238              4          fresh fruits       produce    25247        1  \n23108247             18     baby food formula        babies    25247        1  \n23108242             17       dish detergents     household    25247        1  \n23108246             18     baby food formula        babies    25247        1  \n\n[33819106 rows x 10 columns]",
      "text/html": "<div>\n<style scoped>\n    .dataframe tbody tr th:only-of-type {\n        vertical-align: middle;\n    }\n\n    .dataframe tbody tr th {\n        vertical-align: top;\n    }\n\n    .dataframe thead th {\n        text-align: right;\n    }\n</style>\n<table border=\"1\" class=\"dataframe\">\n  <thead>\n    <tr style=\"text-align: right;\">\n      <th></th>\n      <th>order_id</th>\n      <th>product_id</th>\n      <th>add_to_cart_order</th>\n      <th>reordered</th>\n      <th>aisle_id</th>\n      <th>department_id</th>\n      <th>aisle</th>\n      <th>department</th>\n      <th>user_id</th>\n      <th>cluster</th>\n    </tr>\n  </thead>\n  <tbody>\n    <tr>\n      <th>30264547</th>\n      <td>1</td>\n      <td>10246</td>\n      <td>3</td>\n      <td>0</td>\n      <td>83</td>\n      <td>4</td>\n      <td>fresh vegetables</td>\n      <td>produce</td>\n      <td>112108</td>\n      <td>1</td>\n    </tr>\n    <tr>\n      <th>30264545</th>\n      <td>1</td>\n      <td>11109</td>\n      <td>2</td>\n      <td>1</td>\n      <td>108</td>\n      <td>16</td>\n      <td>other creams cheeses</td>\n      <td>dairy eggs</td>\n      <td>112108</td>\n      <td>1</td>\n    </tr>\n    <tr>\n      <th>30264548</th>\n      <td>1</td>\n      <td>13176</td>\n      <td>6</td>\n      <td>0</td>\n      <td>24</td>\n      <td>4</td>\n      <td>fresh fruits</td>\n      <td>produce</td>\n      <td>112108</td>\n      <td>1</td>\n    </tr>\n    <tr>\n      <th>30264544</th>\n      <td>1</td>\n      <td>22035</td>\n      <td>8</td>\n      <td>1</td>\n      <td>21</td>\n      <td>16</td>\n      <td>packaged cheese</td>\n      <td>dairy eggs</td>\n      <td>112108</td>\n      <td>1</td>\n    </tr>\n    <tr>\n      <th>30264550</th>\n      <td>1</td>\n      <td>43633</td>\n      <td>5</td>\n      <td>1</td>\n      <td>95</td>\n      <td>15</td>\n      <td>canned meat seafood</td>\n      <td>canned goods</td>\n      <td>112108</td>\n      <td>1</td>\n    </tr>\n    <tr>\n      <th>...</th>\n      <td>...</td>\n      <td>...</td>\n      <td>...</td>\n      <td>...</td>\n      <td>...</td>\n      <td>...</td>\n      <td>...</td>\n      <td>...</td>\n      <td>...</td>\n      <td>...</td>\n    </tr>\n    <tr>\n      <th>23108244</th>\n      <td>3421083</td>\n      <td>21162</td>\n      <td>3</td>\n      <td>0</td>\n      <td>92</td>\n      <td>18</td>\n      <td>baby food formula</td>\n      <td>babies</td>\n      <td>25247</td>\n      <td>1</td>\n    </tr>\n    <tr>\n      <th>23108238</th>\n      <td>3421083</td>\n      <td>24852</td>\n      <td>9</td>\n      <td>1</td>\n      <td>24</td>\n      <td>4</td>\n      <td>fresh fruits</td>\n      <td>produce</td>\n      <td>25247</td>\n      <td>1</td>\n    </tr>\n    <tr>\n      <th>23108247</th>\n      <td>3421083</td>\n      <td>35211</td>\n      <td>5</td>\n      <td>0</td>\n      <td>92</td>\n      <td>18</td>\n      <td>baby food formula</td>\n      <td>babies</td>\n      <td>25247</td>\n      <td>1</td>\n    </tr>\n    <tr>\n      <th>23108242</th>\n      <td>3421083</td>\n      <td>39678</td>\n      <td>6</td>\n      <td>1</td>\n      <td>74</td>\n      <td>17</td>\n      <td>dish detergents</td>\n      <td>household</td>\n      <td>25247</td>\n      <td>1</td>\n    </tr>\n    <tr>\n      <th>23108246</th>\n      <td>3421083</td>\n      <td>45309</td>\n      <td>2</td>\n      <td>0</td>\n      <td>92</td>\n      <td>18</td>\n      <td>baby food formula</td>\n      <td>babies</td>\n      <td>25247</td>\n      <td>1</td>\n    </tr>\n  </tbody>\n</table>\n<p>33819106 rows × 10 columns</p>\n</div>"
     },
     "execution_count": 3,
     "metadata": {},
     "output_type": "execute_result"
    }
   ],
   "source": [
    "orders = orders.sort_values(['order_id','product_id'])\n",
    "orders"
   ],
   "metadata": {
    "collapsed": false,
    "pycharm": {
     "name": "#%%\n"
    }
   }
  },
  {
   "cell_type": "code",
   "execution_count": 4,
   "outputs": [],
   "source": [
    "all_orders = orders.set_index('order_id')['product_id'].rename('item_id')"
   ],
   "metadata": {
    "collapsed": false,
    "pycharm": {
     "name": "#%%\n"
    }
   }
  },
  {
   "cell_type": "code",
   "execution_count": 7,
   "outputs": [
    {
     "data": {
      "text/plain": "dtype('int64')"
     },
     "execution_count": 7,
     "metadata": {},
     "output_type": "execute_result"
    }
   ],
   "source": [
    "all_orders.dtype"
   ],
   "metadata": {
    "collapsed": false,
    "pycharm": {
     "name": "#%%\n"
    }
   }
  },
  {
   "cell_type": "code",
   "execution_count": 8,
   "outputs": [
    {
     "name": "stdout",
     "output_type": "stream",
     "text": [
      "Starting order_item:               33819106\n",
      "Items with support >= 0.0001:           10949\n",
      "Remaining order_item:              31116451\n",
      "Remaining orders with 2+ items:     3136021\n",
      "Remaining order_item:              30928016\n",
      "Item pairs:                        21061284\n",
      "Item pairs with support >= 0.0001:      61832\n",
      "\n"
     ]
    }
   ],
   "source": [
    "groupAll_association_rules = apriori.association_rules(all_orders,.0001)"
   ],
   "metadata": {
    "collapsed": false,
    "pycharm": {
     "name": "#%%\n"
    }
   }
  },
  {
   "cell_type": "code",
   "execution_count": 15,
   "outputs": [
    {
     "data": {
      "text/plain": "Index(['item_A', 'item_B', 'freqAB', 'supportAB', 'freqA', 'supportA', 'freqB',\n       'supportB', 'confidenceAtoB', 'confidenceBtoA', 'lift'],\n      dtype='object')"
     },
     "execution_count": 15,
     "metadata": {},
     "output_type": "execute_result"
    }
   ],
   "source": [
    "groupAll_association_rules.columns"
   ],
   "metadata": {
    "collapsed": false,
    "pycharm": {
     "name": "#%%\n"
    }
   }
  },
  {
   "cell_type": "code",
   "execution_count": 16,
   "outputs": [],
   "source": [
    "groupAll_association_rules_copy = groupAll_association_rules.copy()"
   ],
   "metadata": {
    "collapsed": false,
    "pycharm": {
     "name": "#%%\n"
    }
   }
  },
  {
   "cell_type": "code",
   "execution_count": 17,
   "outputs": [],
   "source": [
    "groupAll_association_rules_copy = groupAll_association_rules_copy.merge(products[['product_id','product_name']]\n",
    "                   .rename(columns = {'product_id':'item_A','product_name':'product_name_A'}), on = 'item_A')\n",
    "groupAll_association_rules_copy = groupAll_association_rules_copy.merge(products[['product_id','product_name']]\n",
    "           .rename(columns = {'product_id':'item_B','product_name':'product_name_B'}), on = 'item_B')\n",
    "groupAll_association_rules_copy = groupAll_association_rules_copy[['item_A','item_B','product_name_A',\n",
    "                                                                'product_name_B','freqAB','supportAB','freqA',\n",
    "                                                                'supportA','freqB','supportB','confidenceAtoB',\n",
    "                                                                'confidenceBtoA','lift']]"
   ],
   "metadata": {
    "collapsed": false,
    "pycharm": {
     "name": "#%%\n"
    }
   }
  },
  {
   "cell_type": "code",
   "execution_count": 18,
   "outputs": [
    {
     "data": {
      "text/plain": "   item_A  item_B                            product_name_A  \\\n0   41349   49570        Dairy Free Greek Yogurt Strawberry   \n1   19244   26488     Grassfed Whole Milk Strawberry Yogurt   \n2   11224   39739  Organic Cashew Nondairy Blueberry Yogurt   \n3   15063   39739    Organic Cashew Nondairy Vanilla Yogurt   \n4    7657   19513                             Hair Shampoos   \n\n                                      product_name_B  freqAB  supportAB  \\\n0                  Dairy Free Greek Yogurt Blueberry     317   0.000101   \n1      Organic Strawberry Grassfed Whole Milk Yogurt     326   0.000104   \n2          Organic Nondairy Strawberry Cashew Yogurt     416   0.000133   \n3          Organic Nondairy Strawberry Cashew Yogurt     331   0.000106   \n4  Moroccan Argan Oil + Argan Stem Cell Triple Mo...     338   0.000108   \n\n   freqA  supportA  freqB  supportB  confidenceAtoB  confidenceBtoA  \\\n0    656  0.000209    602  0.000192        0.483232        0.526578   \n1    658  0.000210    731  0.000233        0.495441        0.445964   \n2    687  0.000219    987  0.000315        0.605531        0.421479   \n3    856  0.000273    987  0.000315        0.386682        0.335360   \n4    714  0.000228    924  0.000295        0.473389        0.365801   \n\n          lift  \n0  2517.316914  \n1  2125.461740  \n2  1923.970475  \n3  1228.615638  \n4  1606.665542  ",
      "text/html": "<div>\n<style scoped>\n    .dataframe tbody tr th:only-of-type {\n        vertical-align: middle;\n    }\n\n    .dataframe tbody tr th {\n        vertical-align: top;\n    }\n\n    .dataframe thead th {\n        text-align: right;\n    }\n</style>\n<table border=\"1\" class=\"dataframe\">\n  <thead>\n    <tr style=\"text-align: right;\">\n      <th></th>\n      <th>item_A</th>\n      <th>item_B</th>\n      <th>product_name_A</th>\n      <th>product_name_B</th>\n      <th>freqAB</th>\n      <th>supportAB</th>\n      <th>freqA</th>\n      <th>supportA</th>\n      <th>freqB</th>\n      <th>supportB</th>\n      <th>confidenceAtoB</th>\n      <th>confidenceBtoA</th>\n      <th>lift</th>\n    </tr>\n  </thead>\n  <tbody>\n    <tr>\n      <th>0</th>\n      <td>41349</td>\n      <td>49570</td>\n      <td>Dairy Free Greek Yogurt Strawberry</td>\n      <td>Dairy Free Greek Yogurt Blueberry</td>\n      <td>317</td>\n      <td>0.000101</td>\n      <td>656</td>\n      <td>0.000209</td>\n      <td>602</td>\n      <td>0.000192</td>\n      <td>0.483232</td>\n      <td>0.526578</td>\n      <td>2517.316914</td>\n    </tr>\n    <tr>\n      <th>1</th>\n      <td>19244</td>\n      <td>26488</td>\n      <td>Grassfed Whole Milk Strawberry Yogurt</td>\n      <td>Organic Strawberry Grassfed Whole Milk Yogurt</td>\n      <td>326</td>\n      <td>0.000104</td>\n      <td>658</td>\n      <td>0.000210</td>\n      <td>731</td>\n      <td>0.000233</td>\n      <td>0.495441</td>\n      <td>0.445964</td>\n      <td>2125.461740</td>\n    </tr>\n    <tr>\n      <th>2</th>\n      <td>11224</td>\n      <td>39739</td>\n      <td>Organic Cashew Nondairy Blueberry Yogurt</td>\n      <td>Organic Nondairy Strawberry Cashew Yogurt</td>\n      <td>416</td>\n      <td>0.000133</td>\n      <td>687</td>\n      <td>0.000219</td>\n      <td>987</td>\n      <td>0.000315</td>\n      <td>0.605531</td>\n      <td>0.421479</td>\n      <td>1923.970475</td>\n    </tr>\n    <tr>\n      <th>3</th>\n      <td>15063</td>\n      <td>39739</td>\n      <td>Organic Cashew Nondairy Vanilla Yogurt</td>\n      <td>Organic Nondairy Strawberry Cashew Yogurt</td>\n      <td>331</td>\n      <td>0.000106</td>\n      <td>856</td>\n      <td>0.000273</td>\n      <td>987</td>\n      <td>0.000315</td>\n      <td>0.386682</td>\n      <td>0.335360</td>\n      <td>1228.615638</td>\n    </tr>\n    <tr>\n      <th>4</th>\n      <td>7657</td>\n      <td>19513</td>\n      <td>Hair Shampoos</td>\n      <td>Moroccan Argan Oil + Argan Stem Cell Triple Mo...</td>\n      <td>338</td>\n      <td>0.000108</td>\n      <td>714</td>\n      <td>0.000228</td>\n      <td>924</td>\n      <td>0.000295</td>\n      <td>0.473389</td>\n      <td>0.365801</td>\n      <td>1606.665542</td>\n    </tr>\n  </tbody>\n</table>\n</div>"
     },
     "execution_count": 18,
     "metadata": {},
     "output_type": "execute_result"
    }
   ],
   "source": [
    "groupAll_association_rules_copy.head()"
   ],
   "metadata": {
    "collapsed": false,
    "pycharm": {
     "name": "#%%\n"
    }
   }
  },
  {
   "cell_type": "code",
   "execution_count": 19,
   "outputs": [
    {
     "data": {
      "text/plain": "(61832, 13)"
     },
     "execution_count": 19,
     "metadata": {},
     "output_type": "execute_result"
    }
   ],
   "source": [
    "groupAll_association_rules_copy.shape"
   ],
   "metadata": {
    "collapsed": false,
    "pycharm": {
     "name": "#%%\n"
    }
   }
  },
  {
   "cell_type": "code",
   "execution_count": 20,
   "outputs": [
    {
     "name": "stdout",
     "output_type": "stream",
     "text": [
      "Writing clusters aisle rules to csv...\n"
     ]
    }
   ],
   "source": [
    "print(\"Writing clusters aisle rules to csv...\")\n",
    "groupAll_association_rules_copy.to_csv('../input/associationRule_no_cluster/all_aisle_rules.csv')"
   ],
   "metadata": {
    "collapsed": false,
    "pycharm": {
     "name": "#%%\n"
    }
   }
  },
  {
   "cell_type": "code",
   "execution_count": null,
   "outputs": [],
   "source": [],
   "metadata": {
    "collapsed": false,
    "pycharm": {
     "name": "#%%\n"
    }
   }
  }
 ],
 "metadata": {
  "kernelspec": {
   "display_name": "Python 3",
   "language": "python",
   "name": "python3"
  },
  "language_info": {
   "codemirror_mode": {
    "name": "ipython",
    "version": 2
   },
   "file_extension": ".py",
   "mimetype": "text/x-python",
   "name": "python",
   "nbconvert_exporter": "python",
   "pygments_lexer": "ipython2",
   "version": "2.7.6"
  }
 },
 "nbformat": 4,
 "nbformat_minor": 0
}