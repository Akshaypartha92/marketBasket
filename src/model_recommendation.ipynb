{
 "cells": [
  {
   "cell_type": "markdown",
   "metadata": {},
   "source": [
    "# Case Study Wesfarmers: Instacart Product Recommendation\n",
    "\n",
    "### Instacart at a glance\n",
    "\n",
    "Instacart, a grocery ordering and delivery app, aims to make it easy to fill your refrigerator and pantry with your personal favourites and staples when you need them. After selecting products through the Instacart app, personal shoppers review your order and do the in-store shopping and delivery for you.\n",
    "\n",
    "### Project Aim\n",
    "\n",
    "The goal of the project is to build a product recommender system model/solution to predict top 10 best products according to the user’s purchase history to improve the shopping experience of customer & impacts the increment in the sales & engagement to Instacart website.\n",
    "\n",
    "### Methodology 1 TF-IDF Approach:\n",
    "\n",
    "<img src=\"../input/abstract.PNG\" width=\"800\" height=\"400\">"
   ]
  },
  {
   "cell_type": "markdown",
   "source": [
    "### Importing libraries"
   ],
   "metadata": {
    "collapsed": false,
    "pycharm": {
     "name": "#%% md\n"
    }
   }
  },
  {
   "cell_type": "code",
   "execution_count": 37,
   "metadata": {
    "collapsed": true
   },
   "outputs": [],
   "source": [
    "### Imports\n",
    "\n",
    "from implicit.nearest_neighbours import tfidf_weight\n",
    "from scipy.sparse import coo_matrix, csr_matrix\n",
    "from sklearn.metrics.pairwise import cosine_similarity\n",
    "from datetime import datetime\n",
    "from pathlib import Path\n",
    "from numpy import bincount, log, sqrt\n",
    "\n",
    "import scipy.sparse as sparse\n",
    "import implicit\n",
    "import pandas as pd\n",
    "import numpy as np\n",
    "import pickle\n",
    "import time\n",
    "import heapq"
   ]
  },
  {
   "cell_type": "code",
   "execution_count": 38,
   "metadata": {
    "collapsed": true
   },
   "outputs": [],
   "source": [
    "### Helper Functions\n",
    "\n",
    "def sparsity(matrix):\n",
    "    \"\"\"\n",
    "    Given a matrix, returns its sparsity\n",
    "    \"\"\"\n",
    "    total_size = matrix.shape[0] * matrix.shape[1]\n",
    "    actual_size = matrix.size\n",
    "    sparsity = (1 - (actual_size / total_size)) * 100\n",
    "    return(sparsity)\n",
    "\n",
    "\n",
    "def get_k_popular(k, df_merged_order_products_prior):\n",
    "    \"\"\"\n",
    "    Returns the `k` most popular products based on purchase count in the dataset\n",
    "    \"\"\"\n",
    "    popular_products = list(df_merged_order_products_prior[\"product_id\"].value_counts().head(k).index)\n",
    "    return popular_products\n",
    "\n",
    "\n",
    "def make_prior_data():\n",
    "    \"\"\"\n",
    "    Generates the prior dataset including prior_user_products and product_frequency\n",
    "    \"\"\"\n",
    "    # Read prior order csv\n",
    "    df_order_products_prior = pd.read_csv(\"../input/order_products__prior.csv\")\n",
    "    current_order_user_df = df_orders.loc[(df_orders.eval_set == \"prior\")].reset_index()\n",
    "    current_order_user_df = current_order_user_df[[\"order_id\", \"user_id\"]]\n",
    "\n",
    "    assert len(current_order_user_df[\"order_id\"].unique()) == len(df_order_products_prior[\"order_id\"].unique())\n",
    "\n",
    "    # Group product_id for each order into products\n",
    "    df_order_products_prior = df_order_products_prior[[\"order_id\", \"product_id\"]]\n",
    "    df_product_frequency = df_order_products_prior['product_id'].value_counts()\n",
    "    df_order_products_prior = df_order_products_prior.groupby(\"order_id\")[\"product_id\"].apply(list).reset_index().rename(columns={\"product_id\": \"products\"})\n",
    "    \n",
    "    \n",
    "    assert current_order_user_df.size == df_order_products_prior.size\n",
    "\n",
    "    df_prior_user_products = pd.merge(current_order_user_df, df_order_products_prior, on=\"order_id\")\n",
    "    df_prior_user_products = df_prior_user_products[[\"user_id\", \"products\"]]\n",
    "    df_prior_user_products = df_prior_user_products.groupby(\"user_id\")[\"products\"].agg(sum).reset_index()\n",
    "\n",
    "    return df_prior_user_products, df_product_frequency\n",
    "\n",
    "\n",
    "def make_test_data(test_data_path, df_orders, df_order_products_train):\n",
    "    \"\"\"\n",
    "    Generates the test dataset and saves it to disk at the given path\n",
    "    \"\"\"\n",
    "    start = time.time()\n",
    "    print(\"Creating test data ...\")\n",
    "\n",
    "    # Read train csv\n",
    "    df_order_user_current = df_orders.loc[(df_orders.eval_set == \"train\")].reset_index()\n",
    "    df_order_user_current = df_order_user_current[[\"order_id\", \"user_id\"]]\n",
    "    \n",
    "    # Sanity check #1: `current_order_user_df` and `df_order_products_train` should have the same number of \n",
    "    # unique order ids\n",
    "    assert len(df_order_user_current[\"order_id\"].unique()) == len(df_order_products_train[\"order_id\"].unique())\n",
    "\n",
    "    # Convert train dataframe to a similar format\n",
    "    df_order_products_test = df_order_products_train[[\"order_id\", \"product_id\"]]\n",
    "    df_order_products_test = df_order_products_test.groupby(\"order_id\")[\"product_id\"].apply(list).reset_index().rename(columns={\"product_id\": \"products\"})\n",
    "\n",
    "    # Sanity check #2: `df_order_products_test` and `df_order_user_current` should have the same number of \n",
    "    # records before attempting to merge them\n",
    "    assert df_order_products_test.size == df_order_user_current.size\n",
    "\n",
    "    # Merge on order id\n",
    "    df_user_products_test = pd.merge(df_order_user_current, df_order_products_test, on=\"order_id\")\n",
    "    df_user_products_test = df_user_products_test[[\"user_id\", \"products\"]]\n",
    "\n",
    "    # Write to disk\n",
    "    df_user_products_test.to_csv(test_data_path, index_label=False)\n",
    "    \n",
    "    print(\"Completed in {:.2f}s\".format(time.time() - start))\n",
    "\n",
    "\n",
    "def save_data_to_disk(dataframe, df_name):\n",
    "    \"\"\"\n",
    "    Save the data to disk\n",
    "    \"\"\"\n",
    "    filepath = \"../input/df_{}.pkl\".format(df_name)\n",
    "    dataframe.to_pickle(filepath)"
   ]
  },
  {
   "cell_type": "code",
   "execution_count": 38,
   "outputs": [],
   "source": [],
   "metadata": {
    "collapsed": false,
    "pycharm": {
     "name": "#%%\n"
    }
   }
  },
  {
   "cell_type": "markdown",
   "metadata": {},
   "source": [
    "# Load\n",
    "\n",
    "sets"
   ]
  },
  {
   "cell_type": "code",
   "execution_count": 39,
   "metadata": {
    "collapsed": true
   },
   "outputs": [],
   "source": [
    "# Order datasets\n",
    "df_order_products_prior = pd.read_csv(\"../input/order_products__prior.csv\")\n",
    "df_order_products_train = pd.read_csv(\"../input/order_products__train.csv\")\n",
    "df_orders = pd.read_csv(\"../input/orders.csv\")\n",
    "\n",
    "# Products\n",
    "df_products = pd.read_csv(\"../input/products.csv\")\n",
    "\n",
    "# Merge prior orders and products\n",
    "df_merged_order_products_prior = pd.merge(df_order_products_prior, df_products, on=\"product_id\", how=\"left\")"
   ]
  },
  {
   "cell_type": "code",
   "execution_count": 40,
   "outputs": [
    {
     "data": {
      "text/plain": "   product_id                                       product_name  aisle_id  \\\n0           1                         Chocolate Sandwich Cookies        61   \n1           2                                   All-Seasons Salt       104   \n2           3               Robust Golden Unsweetened Oolong Tea        94   \n3           4  Smart Ones Classic Favorites Mini Rigatoni Wit...        38   \n4           5                          Green Chile Anytime Sauce         5   \n\n   department_id  \n0             19  \n1             13  \n2              7  \n3              1  \n4             13  ",
      "text/html": "<div>\n<style scoped>\n    .dataframe tbody tr th:only-of-type {\n        vertical-align: middle;\n    }\n\n    .dataframe tbody tr th {\n        vertical-align: top;\n    }\n\n    .dataframe thead th {\n        text-align: right;\n    }\n</style>\n<table border=\"1\" class=\"dataframe\">\n  <thead>\n    <tr style=\"text-align: right;\">\n      <th></th>\n      <th>product_id</th>\n      <th>product_name</th>\n      <th>aisle_id</th>\n      <th>department_id</th>\n    </tr>\n  </thead>\n  <tbody>\n    <tr>\n      <th>0</th>\n      <td>1</td>\n      <td>Chocolate Sandwich Cookies</td>\n      <td>61</td>\n      <td>19</td>\n    </tr>\n    <tr>\n      <th>1</th>\n      <td>2</td>\n      <td>All-Seasons Salt</td>\n      <td>104</td>\n      <td>13</td>\n    </tr>\n    <tr>\n      <th>2</th>\n      <td>3</td>\n      <td>Robust Golden Unsweetened Oolong Tea</td>\n      <td>94</td>\n      <td>7</td>\n    </tr>\n    <tr>\n      <th>3</th>\n      <td>4</td>\n      <td>Smart Ones Classic Favorites Mini Rigatoni Wit...</td>\n      <td>38</td>\n      <td>1</td>\n    </tr>\n    <tr>\n      <th>4</th>\n      <td>5</td>\n      <td>Green Chile Anytime Sauce</td>\n      <td>5</td>\n      <td>13</td>\n    </tr>\n  </tbody>\n</table>\n</div>"
     },
     "execution_count": 40,
     "metadata": {},
     "output_type": "execute_result"
    }
   ],
   "source": [
    "df_products.head()"
   ],
   "metadata": {
    "collapsed": false,
    "pycharm": {
     "name": "#%%\n"
    }
   }
  },
  {
   "cell_type": "code",
   "execution_count": 41,
   "outputs": [
    {
     "data": {
      "text/plain": "   order_id  user_id eval_set  order_number  order_dow  order_hour_of_day  \\\n0   2539329        1    prior             1          2                  8   \n1   2398795        1    prior             2          3                  7   \n2    473747        1    prior             3          3                 12   \n3   2254736        1    prior             4          4                  7   \n4    431534        1    prior             5          4                 15   \n\n   days_since_prior_order  \n0                     NaN  \n1                    15.0  \n2                    21.0  \n3                    29.0  \n4                    28.0  ",
      "text/html": "<div>\n<style scoped>\n    .dataframe tbody tr th:only-of-type {\n        vertical-align: middle;\n    }\n\n    .dataframe tbody tr th {\n        vertical-align: top;\n    }\n\n    .dataframe thead th {\n        text-align: right;\n    }\n</style>\n<table border=\"1\" class=\"dataframe\">\n  <thead>\n    <tr style=\"text-align: right;\">\n      <th></th>\n      <th>order_id</th>\n      <th>user_id</th>\n      <th>eval_set</th>\n      <th>order_number</th>\n      <th>order_dow</th>\n      <th>order_hour_of_day</th>\n      <th>days_since_prior_order</th>\n    </tr>\n  </thead>\n  <tbody>\n    <tr>\n      <th>0</th>\n      <td>2539329</td>\n      <td>1</td>\n      <td>prior</td>\n      <td>1</td>\n      <td>2</td>\n      <td>8</td>\n      <td>NaN</td>\n    </tr>\n    <tr>\n      <th>1</th>\n      <td>2398795</td>\n      <td>1</td>\n      <td>prior</td>\n      <td>2</td>\n      <td>3</td>\n      <td>7</td>\n      <td>15.0</td>\n    </tr>\n    <tr>\n      <th>2</th>\n      <td>473747</td>\n      <td>1</td>\n      <td>prior</td>\n      <td>3</td>\n      <td>3</td>\n      <td>12</td>\n      <td>21.0</td>\n    </tr>\n    <tr>\n      <th>3</th>\n      <td>2254736</td>\n      <td>1</td>\n      <td>prior</td>\n      <td>4</td>\n      <td>4</td>\n      <td>7</td>\n      <td>29.0</td>\n    </tr>\n    <tr>\n      <th>4</th>\n      <td>431534</td>\n      <td>1</td>\n      <td>prior</td>\n      <td>5</td>\n      <td>4</td>\n      <td>15</td>\n      <td>28.0</td>\n    </tr>\n  </tbody>\n</table>\n</div>"
     },
     "execution_count": 41,
     "metadata": {},
     "output_type": "execute_result"
    }
   ],
   "source": [
    "df_orders.head()"
   ],
   "metadata": {
    "collapsed": false,
    "pycharm": {
     "name": "#%%\n"
    }
   }
  },
  {
   "cell_type": "code",
   "execution_count": 42,
   "outputs": [
    {
     "data": {
      "text/plain": "   order_id  product_id  add_to_cart_order  reordered\n0         2       33120                  1          1\n1         2       28985                  2          1\n2         2        9327                  3          0\n3         2       45918                  4          1\n4         2       30035                  5          0",
      "text/html": "<div>\n<style scoped>\n    .dataframe tbody tr th:only-of-type {\n        vertical-align: middle;\n    }\n\n    .dataframe tbody tr th {\n        vertical-align: top;\n    }\n\n    .dataframe thead th {\n        text-align: right;\n    }\n</style>\n<table border=\"1\" class=\"dataframe\">\n  <thead>\n    <tr style=\"text-align: right;\">\n      <th></th>\n      <th>order_id</th>\n      <th>product_id</th>\n      <th>add_to_cart_order</th>\n      <th>reordered</th>\n    </tr>\n  </thead>\n  <tbody>\n    <tr>\n      <th>0</th>\n      <td>2</td>\n      <td>33120</td>\n      <td>1</td>\n      <td>1</td>\n    </tr>\n    <tr>\n      <th>1</th>\n      <td>2</td>\n      <td>28985</td>\n      <td>2</td>\n      <td>1</td>\n    </tr>\n    <tr>\n      <th>2</th>\n      <td>2</td>\n      <td>9327</td>\n      <td>3</td>\n      <td>0</td>\n    </tr>\n    <tr>\n      <th>3</th>\n      <td>2</td>\n      <td>45918</td>\n      <td>4</td>\n      <td>1</td>\n    </tr>\n    <tr>\n      <th>4</th>\n      <td>2</td>\n      <td>30035</td>\n      <td>5</td>\n      <td>0</td>\n    </tr>\n  </tbody>\n</table>\n</div>"
     },
     "execution_count": 42,
     "metadata": {},
     "output_type": "execute_result"
    }
   ],
   "source": [
    "df_order_products_prior.head()"
   ],
   "metadata": {
    "collapsed": false,
    "pycharm": {
     "name": "#%%\n"
    }
   }
  },
  {
   "cell_type": "code",
   "execution_count": 43,
   "metadata": {
    "collapsed": true
   },
   "outputs": [],
   "source": [
    "# Skip this block if you already have the df_user_products.pkl and df_product_frequency.pkl in the disk\n",
    "# Make prior data\n",
    "# Running time: 3 min\n",
    "df_prior_user_products, df_product_frequency = make_prior_data()\n",
    "\n",
    "# save data to disk, running time : 2 mi\n",
    "save_data_to_disk(df_prior_user_products, \"user_products\")\n",
    "save_data_to_disk(df_product_frequency, \"product_frequency\")"
   ]
  },
  {
   "cell_type": "markdown",
   "source": [
    "# understanding make prior data"
   ],
   "metadata": {
    "collapsed": false,
    "pycharm": {
     "name": "#%% md\n"
    }
   }
  },
  {
   "cell_type": "code",
   "execution_count": 44,
   "outputs": [],
   "source": [
    "df_order_products_prior = pd.read_csv(\"../input/order_products__prior.csv\")\n",
    "current_order_user_df = df_orders.loc[(df_orders.eval_set == \"prior\")].reset_index()\n",
    "current_order_user_df = current_order_user_df[[\"order_id\", \"user_id\"]]"
   ],
   "metadata": {
    "collapsed": false,
    "pycharm": {
     "name": "#%%\n"
    }
   }
  },
  {
   "cell_type": "code",
   "execution_count": 45,
   "outputs": [
    {
     "data": {
      "text/plain": "          order_id  product_id  add_to_cart_order  reordered\n0                2       33120                  1          1\n1                2       28985                  2          1\n2                2        9327                  3          0\n3                2       45918                  4          1\n4                2       30035                  5          0\n...            ...         ...                ...        ...\n32434484   3421083       39678                  6          1\n32434485   3421083       11352                  7          0\n32434486   3421083        4600                  8          0\n32434487   3421083       24852                  9          1\n32434488   3421083        5020                 10          1\n\n[32434489 rows x 4 columns]",
      "text/html": "<div>\n<style scoped>\n    .dataframe tbody tr th:only-of-type {\n        vertical-align: middle;\n    }\n\n    .dataframe tbody tr th {\n        vertical-align: top;\n    }\n\n    .dataframe thead th {\n        text-align: right;\n    }\n</style>\n<table border=\"1\" class=\"dataframe\">\n  <thead>\n    <tr style=\"text-align: right;\">\n      <th></th>\n      <th>order_id</th>\n      <th>product_id</th>\n      <th>add_to_cart_order</th>\n      <th>reordered</th>\n    </tr>\n  </thead>\n  <tbody>\n    <tr>\n      <th>0</th>\n      <td>2</td>\n      <td>33120</td>\n      <td>1</td>\n      <td>1</td>\n    </tr>\n    <tr>\n      <th>1</th>\n      <td>2</td>\n      <td>28985</td>\n      <td>2</td>\n      <td>1</td>\n    </tr>\n    <tr>\n      <th>2</th>\n      <td>2</td>\n      <td>9327</td>\n      <td>3</td>\n      <td>0</td>\n    </tr>\n    <tr>\n      <th>3</th>\n      <td>2</td>\n      <td>45918</td>\n      <td>4</td>\n      <td>1</td>\n    </tr>\n    <tr>\n      <th>4</th>\n      <td>2</td>\n      <td>30035</td>\n      <td>5</td>\n      <td>0</td>\n    </tr>\n    <tr>\n      <th>...</th>\n      <td>...</td>\n      <td>...</td>\n      <td>...</td>\n      <td>...</td>\n    </tr>\n    <tr>\n      <th>32434484</th>\n      <td>3421083</td>\n      <td>39678</td>\n      <td>6</td>\n      <td>1</td>\n    </tr>\n    <tr>\n      <th>32434485</th>\n      <td>3421083</td>\n      <td>11352</td>\n      <td>7</td>\n      <td>0</td>\n    </tr>\n    <tr>\n      <th>32434486</th>\n      <td>3421083</td>\n      <td>4600</td>\n      <td>8</td>\n      <td>0</td>\n    </tr>\n    <tr>\n      <th>32434487</th>\n      <td>3421083</td>\n      <td>24852</td>\n      <td>9</td>\n      <td>1</td>\n    </tr>\n    <tr>\n      <th>32434488</th>\n      <td>3421083</td>\n      <td>5020</td>\n      <td>10</td>\n      <td>1</td>\n    </tr>\n  </tbody>\n</table>\n<p>32434489 rows × 4 columns</p>\n</div>"
     },
     "execution_count": 45,
     "metadata": {},
     "output_type": "execute_result"
    }
   ],
   "source": [
    "df_order_products_prior"
   ],
   "metadata": {
    "collapsed": false,
    "pycharm": {
     "name": "#%%\n"
    }
   }
  },
  {
   "cell_type": "code",
   "execution_count": 46,
   "outputs": [
    {
     "data": {
      "text/plain": "         order_id  user_id\n0         2539329        1\n1         2398795        1\n2          473747        1\n3         2254736        1\n4          431534        1\n...           ...      ...\n3214869   2558525   206209\n3214870   2266710   206209\n3214871   1854736   206209\n3214872    626363   206209\n3214873   2977660   206209\n\n[3214874 rows x 2 columns]",
      "text/html": "<div>\n<style scoped>\n    .dataframe tbody tr th:only-of-type {\n        vertical-align: middle;\n    }\n\n    .dataframe tbody tr th {\n        vertical-align: top;\n    }\n\n    .dataframe thead th {\n        text-align: right;\n    }\n</style>\n<table border=\"1\" class=\"dataframe\">\n  <thead>\n    <tr style=\"text-align: right;\">\n      <th></th>\n      <th>order_id</th>\n      <th>user_id</th>\n    </tr>\n  </thead>\n  <tbody>\n    <tr>\n      <th>0</th>\n      <td>2539329</td>\n      <td>1</td>\n    </tr>\n    <tr>\n      <th>1</th>\n      <td>2398795</td>\n      <td>1</td>\n    </tr>\n    <tr>\n      <th>2</th>\n      <td>473747</td>\n      <td>1</td>\n    </tr>\n    <tr>\n      <th>3</th>\n      <td>2254736</td>\n      <td>1</td>\n    </tr>\n    <tr>\n      <th>4</th>\n      <td>431534</td>\n      <td>1</td>\n    </tr>\n    <tr>\n      <th>...</th>\n      <td>...</td>\n      <td>...</td>\n    </tr>\n    <tr>\n      <th>3214869</th>\n      <td>2558525</td>\n      <td>206209</td>\n    </tr>\n    <tr>\n      <th>3214870</th>\n      <td>2266710</td>\n      <td>206209</td>\n    </tr>\n    <tr>\n      <th>3214871</th>\n      <td>1854736</td>\n      <td>206209</td>\n    </tr>\n    <tr>\n      <th>3214872</th>\n      <td>626363</td>\n      <td>206209</td>\n    </tr>\n    <tr>\n      <th>3214873</th>\n      <td>2977660</td>\n      <td>206209</td>\n    </tr>\n  </tbody>\n</table>\n<p>3214874 rows × 2 columns</p>\n</div>"
     },
     "execution_count": 46,
     "metadata": {},
     "output_type": "execute_result"
    }
   ],
   "source": [
    "current_order_user_df"
   ],
   "metadata": {
    "collapsed": false,
    "pycharm": {
     "name": "#%%\n"
    }
   }
  },
  {
   "cell_type": "code",
   "execution_count": 47,
   "outputs": [],
   "source": [
    "df_order_products_prior = df_order_products_prior[[\"order_id\", \"product_id\"]]"
   ],
   "metadata": {
    "collapsed": false,
    "pycharm": {
     "name": "#%%\n"
    }
   }
  },
  {
   "cell_type": "code",
   "execution_count": 48,
   "outputs": [
    {
     "data": {
      "text/plain": "          order_id  product_id\n0                2       33120\n1                2       28985\n2                2        9327\n3                2       45918\n4                2       30035\n...            ...         ...\n32434484   3421083       39678\n32434485   3421083       11352\n32434486   3421083        4600\n32434487   3421083       24852\n32434488   3421083        5020\n\n[32434489 rows x 2 columns]",
      "text/html": "<div>\n<style scoped>\n    .dataframe tbody tr th:only-of-type {\n        vertical-align: middle;\n    }\n\n    .dataframe tbody tr th {\n        vertical-align: top;\n    }\n\n    .dataframe thead th {\n        text-align: right;\n    }\n</style>\n<table border=\"1\" class=\"dataframe\">\n  <thead>\n    <tr style=\"text-align: right;\">\n      <th></th>\n      <th>order_id</th>\n      <th>product_id</th>\n    </tr>\n  </thead>\n  <tbody>\n    <tr>\n      <th>0</th>\n      <td>2</td>\n      <td>33120</td>\n    </tr>\n    <tr>\n      <th>1</th>\n      <td>2</td>\n      <td>28985</td>\n    </tr>\n    <tr>\n      <th>2</th>\n      <td>2</td>\n      <td>9327</td>\n    </tr>\n    <tr>\n      <th>3</th>\n      <td>2</td>\n      <td>45918</td>\n    </tr>\n    <tr>\n      <th>4</th>\n      <td>2</td>\n      <td>30035</td>\n    </tr>\n    <tr>\n      <th>...</th>\n      <td>...</td>\n      <td>...</td>\n    </tr>\n    <tr>\n      <th>32434484</th>\n      <td>3421083</td>\n      <td>39678</td>\n    </tr>\n    <tr>\n      <th>32434485</th>\n      <td>3421083</td>\n      <td>11352</td>\n    </tr>\n    <tr>\n      <th>32434486</th>\n      <td>3421083</td>\n      <td>4600</td>\n    </tr>\n    <tr>\n      <th>32434487</th>\n      <td>3421083</td>\n      <td>24852</td>\n    </tr>\n    <tr>\n      <th>32434488</th>\n      <td>3421083</td>\n      <td>5020</td>\n    </tr>\n  </tbody>\n</table>\n<p>32434489 rows × 2 columns</p>\n</div>"
     },
     "execution_count": 48,
     "metadata": {},
     "output_type": "execute_result"
    }
   ],
   "source": [
    "df_order_products_prior"
   ],
   "metadata": {
    "collapsed": false,
    "pycharm": {
     "name": "#%%\n"
    }
   }
  },
  {
   "cell_type": "code",
   "execution_count": 49,
   "outputs": [
    {
     "data": {
      "text/plain": "24852    472565\n13176    379450\n21137    264683\n21903    241921\n47209    213584\n          ...  \n14756         1\n20264         1\n31254         1\n13397         1\n23624         1\nName: product_id, Length: 49677, dtype: int64"
     },
     "execution_count": 49,
     "metadata": {},
     "output_type": "execute_result"
    }
   ],
   "source": [
    "df_product_frequency = df_order_products_prior['product_id'].value_counts()\n",
    "df_product_frequency"
   ],
   "metadata": {
    "collapsed": false,
    "pycharm": {
     "name": "#%%\n"
    }
   }
  },
  {
   "cell_type": "markdown",
   "source": [
    "# understanding ends"
   ],
   "metadata": {
    "collapsed": false,
    "pycharm": {
     "name": "#%% md\n"
    }
   }
  },
  {
   "cell_type": "code",
   "execution_count": 50,
   "metadata": {
    "collapsed": true
   },
   "outputs": [],
   "source": [
    "# Read user_products and product_frequency from the disk\n",
    "df_prior_user_products = pd.read_pickle(\"../input/df_user_products.pkl\")\n",
    "df_product_frequency = pd.read_pickle(\"../input/df_product_frequency.pkl\")\n",
    "df_product_frequency = pd.DataFrame(df_product_frequency).rename(columns={\"product_id\": \"frequency\"})"
   ]
  },
  {
   "cell_type": "code",
   "execution_count": 51,
   "metadata": {
    "collapsed": true
   },
   "outputs": [],
   "source": [
    "# Make test data\n",
    "REBUILD_TEST_DATA = False\n",
    "test_data_path = \"../input/user_products__test.csv\"\n",
    "if REBUILD_TEST_DATA or not Path(test_data_path).is_file():\n",
    "    make_test_data(test_data_path, df_orders, df_order_products_train)\n",
    "df_user_products_test = pd.read_csv(test_data_path)"
   ]
  },
  {
   "cell_type": "code",
   "execution_count": 52,
   "metadata": {},
   "outputs": [
    {
     "data": {
      "text/plain": "   user_id                                           products\n0        1  [196, 25133, 38928, 26405, 39657, 10258, 13032...\n1        2  [22963, 7963, 16589, 32792, 41787, 22825, 1364...\n2        5  [15349, 19057, 16185, 21413, 20843, 20114, 482...\n3        7  [12053, 47272, 37999, 13198, 43967, 40852, 176...\n4        8  [15937, 5539, 10960, 23165, 22247, 4853, 27104...",
      "text/html": "<div>\n<style scoped>\n    .dataframe tbody tr th:only-of-type {\n        vertical-align: middle;\n    }\n\n    .dataframe tbody tr th {\n        vertical-align: top;\n    }\n\n    .dataframe thead th {\n        text-align: right;\n    }\n</style>\n<table border=\"1\" class=\"dataframe\">\n  <thead>\n    <tr style=\"text-align: right;\">\n      <th></th>\n      <th>user_id</th>\n      <th>products</th>\n    </tr>\n  </thead>\n  <tbody>\n    <tr>\n      <th>0</th>\n      <td>1</td>\n      <td>[196, 25133, 38928, 26405, 39657, 10258, 13032...</td>\n    </tr>\n    <tr>\n      <th>1</th>\n      <td>2</td>\n      <td>[22963, 7963, 16589, 32792, 41787, 22825, 1364...</td>\n    </tr>\n    <tr>\n      <th>2</th>\n      <td>5</td>\n      <td>[15349, 19057, 16185, 21413, 20843, 20114, 482...</td>\n    </tr>\n    <tr>\n      <th>3</th>\n      <td>7</td>\n      <td>[12053, 47272, 37999, 13198, 43967, 40852, 176...</td>\n    </tr>\n    <tr>\n      <th>4</th>\n      <td>8</td>\n      <td>[15937, 5539, 10960, 23165, 22247, 4853, 27104...</td>\n    </tr>\n  </tbody>\n</table>\n</div>"
     },
     "execution_count": 52,
     "metadata": {},
     "output_type": "execute_result"
    }
   ],
   "source": [
    "df_user_products_test.head()"
   ]
  },
  {
   "cell_type": "code",
   "execution_count": 53,
   "outputs": [
    {
     "data": {
      "text/plain": "   user_id                                           products\n0        1  [196, 14084, 12427, 26088, 26405, 196, 10258, ...\n1        2  [32792, 47766, 20574, 12000, 48110, 22474, 165...\n2        3  [9387, 17668, 15143, 16797, 39190, 47766, 2190...\n3        4  [36606, 7350, 35469, 2707, 42329, 7160, 1200, ...\n4        5  [15349, 21413, 48775, 28289, 8518, 11777, 3171...",
      "text/html": "<div>\n<style scoped>\n    .dataframe tbody tr th:only-of-type {\n        vertical-align: middle;\n    }\n\n    .dataframe tbody tr th {\n        vertical-align: top;\n    }\n\n    .dataframe thead th {\n        text-align: right;\n    }\n</style>\n<table border=\"1\" class=\"dataframe\">\n  <thead>\n    <tr style=\"text-align: right;\">\n      <th></th>\n      <th>user_id</th>\n      <th>products</th>\n    </tr>\n  </thead>\n  <tbody>\n    <tr>\n      <th>0</th>\n      <td>1</td>\n      <td>[196, 14084, 12427, 26088, 26405, 196, 10258, ...</td>\n    </tr>\n    <tr>\n      <th>1</th>\n      <td>2</td>\n      <td>[32792, 47766, 20574, 12000, 48110, 22474, 165...</td>\n    </tr>\n    <tr>\n      <th>2</th>\n      <td>3</td>\n      <td>[9387, 17668, 15143, 16797, 39190, 47766, 2190...</td>\n    </tr>\n    <tr>\n      <th>3</th>\n      <td>4</td>\n      <td>[36606, 7350, 35469, 2707, 42329, 7160, 1200, ...</td>\n    </tr>\n    <tr>\n      <th>4</th>\n      <td>5</td>\n      <td>[15349, 21413, 48775, 28289, 8518, 11777, 3171...</td>\n    </tr>\n  </tbody>\n</table>\n</div>"
     },
     "execution_count": 53,
     "metadata": {},
     "output_type": "execute_result"
    }
   ],
   "source": [
    "df_prior_user_products.head()"
   ],
   "metadata": {
    "collapsed": false,
    "pycharm": {
     "name": "#%%\n"
    }
   }
  },
  {
   "cell_type": "markdown",
   "metadata": {},
   "source": [
    "# Load Product Item Matrix"
   ]
  },
  {
   "cell_type": "code",
   "execution_count": 54,
   "metadata": {
    "collapsed": true
   },
   "outputs": [],
   "source": [
    "def get_user_product_prior_df(filepath, df_orders, df_order_products_prior):\n",
    "    \"\"\"\n",
    "    Generates a dataframe of users and their prior products purchases, and writes it to disk at the given path\n",
    "    \"\"\"\n",
    "    start = time.time()\n",
    "    print(\"Creating prior user product data frame ...\")\n",
    "    \n",
    "    # Consider ony \"prior\" orders and remove all columns except `user_id` from `df_orders`\n",
    "    df_order_user_prior = df_orders.loc[df_orders.eval_set == \"prior\"]\n",
    "    df_order_user_prior = df_order_user_prior[[\"order_id\", \"user_id\"]]\n",
    "    \n",
    "    # Remove all columns except order_id and user_id from df_orders and \n",
    "    # merge the above on `order_id` and remove `order_id`\n",
    "    df_merged = pd.merge(df_order_user_prior, df_order_products_prior[[\"order_id\", \"product_id\"]], on=\"order_id\")\n",
    "    df_user_product_prior = df_merged[[\"user_id\", \"product_id\"]]\n",
    "    df_user_product_prior = df_user_product_prior.groupby([\"user_id\", \"product_id\"]).size().reset_index().rename(columns={0:\"quantity\"})\n",
    "    \n",
    "    # Write to disk\n",
    "    df_user_product_prior.to_csv(filepath, index_label=False)\n",
    "\n",
    "    print(\"Completed in {:.2f}s\".format(time.time() - start))\n",
    "\n",
    "\n",
    "# Build dataframe of users, products and quantity bought using prior datasets\n",
    "REBUILD_MATRIX_DF = False\n",
    "matrix_df_path = \"../input/user_products__prior.csv\"\n",
    "if REBUILD_MATRIX_DF or not Path(matrix_df_path).is_file():\n",
    "    get_user_product_prior_df(matrix_df_path, df_orders, df_order_products_prior)\n",
    "df_user_product_prior = pd.read_csv(matrix_df_path)\n",
    "df_user_product_prior[\"user_id\"] = df_user_product_prior[\"user_id\"].astype(\"category\")\n",
    "df_user_product_prior[\"product_id\"] = df_user_product_prior[\"product_id\"].astype(\"category\")"
   ]
  },
  {
   "cell_type": "code",
   "execution_count": 55,
   "outputs": [
    {
     "data": {
      "text/plain": "   user_id product_id  quantity\n0        1        196        10\n1        1      10258         9\n2        1      10326         1\n3        1      12427        10\n4        1      13032         3\n5        1      13176         2\n6        1      14084         1\n7        1      17122         1\n8        1      25133         8\n9        1      26088         2\n10       1      26405         2\n11       1      30450         1\n12       1      35951         1\n13       1      38928         1\n14       1      39657         1\n15       1      41787         1\n16       1      46149         3\n17       1      49235         2\n18       2         23         1\n19       2         79         1\n20       2       1559         6\n21       2       2002         4\n22       2       2573         2\n23       2       3151         1\n24       2       4071         1\n25       2       4957         1\n26       2       5212         1\n27       2       5322         1\n28       2       5450         1\n29       2       5869         1",
      "text/html": "<div>\n<style scoped>\n    .dataframe tbody tr th:only-of-type {\n        vertical-align: middle;\n    }\n\n    .dataframe tbody tr th {\n        vertical-align: top;\n    }\n\n    .dataframe thead th {\n        text-align: right;\n    }\n</style>\n<table border=\"1\" class=\"dataframe\">\n  <thead>\n    <tr style=\"text-align: right;\">\n      <th></th>\n      <th>user_id</th>\n      <th>product_id</th>\n      <th>quantity</th>\n    </tr>\n  </thead>\n  <tbody>\n    <tr>\n      <th>0</th>\n      <td>1</td>\n      <td>196</td>\n      <td>10</td>\n    </tr>\n    <tr>\n      <th>1</th>\n      <td>1</td>\n      <td>10258</td>\n      <td>9</td>\n    </tr>\n    <tr>\n      <th>2</th>\n      <td>1</td>\n      <td>10326</td>\n      <td>1</td>\n    </tr>\n    <tr>\n      <th>3</th>\n      <td>1</td>\n      <td>12427</td>\n      <td>10</td>\n    </tr>\n    <tr>\n      <th>4</th>\n      <td>1</td>\n      <td>13032</td>\n      <td>3</td>\n    </tr>\n    <tr>\n      <th>5</th>\n      <td>1</td>\n      <td>13176</td>\n      <td>2</td>\n    </tr>\n    <tr>\n      <th>6</th>\n      <td>1</td>\n      <td>14084</td>\n      <td>1</td>\n    </tr>\n    <tr>\n      <th>7</th>\n      <td>1</td>\n      <td>17122</td>\n      <td>1</td>\n    </tr>\n    <tr>\n      <th>8</th>\n      <td>1</td>\n      <td>25133</td>\n      <td>8</td>\n    </tr>\n    <tr>\n      <th>9</th>\n      <td>1</td>\n      <td>26088</td>\n      <td>2</td>\n    </tr>\n    <tr>\n      <th>10</th>\n      <td>1</td>\n      <td>26405</td>\n      <td>2</td>\n    </tr>\n    <tr>\n      <th>11</th>\n      <td>1</td>\n      <td>30450</td>\n      <td>1</td>\n    </tr>\n    <tr>\n      <th>12</th>\n      <td>1</td>\n      <td>35951</td>\n      <td>1</td>\n    </tr>\n    <tr>\n      <th>13</th>\n      <td>1</td>\n      <td>38928</td>\n      <td>1</td>\n    </tr>\n    <tr>\n      <th>14</th>\n      <td>1</td>\n      <td>39657</td>\n      <td>1</td>\n    </tr>\n    <tr>\n      <th>15</th>\n      <td>1</td>\n      <td>41787</td>\n      <td>1</td>\n    </tr>\n    <tr>\n      <th>16</th>\n      <td>1</td>\n      <td>46149</td>\n      <td>3</td>\n    </tr>\n    <tr>\n      <th>17</th>\n      <td>1</td>\n      <td>49235</td>\n      <td>2</td>\n    </tr>\n    <tr>\n      <th>18</th>\n      <td>2</td>\n      <td>23</td>\n      <td>1</td>\n    </tr>\n    <tr>\n      <th>19</th>\n      <td>2</td>\n      <td>79</td>\n      <td>1</td>\n    </tr>\n    <tr>\n      <th>20</th>\n      <td>2</td>\n      <td>1559</td>\n      <td>6</td>\n    </tr>\n    <tr>\n      <th>21</th>\n      <td>2</td>\n      <td>2002</td>\n      <td>4</td>\n    </tr>\n    <tr>\n      <th>22</th>\n      <td>2</td>\n      <td>2573</td>\n      <td>2</td>\n    </tr>\n    <tr>\n      <th>23</th>\n      <td>2</td>\n      <td>3151</td>\n      <td>1</td>\n    </tr>\n    <tr>\n      <th>24</th>\n      <td>2</td>\n      <td>4071</td>\n      <td>1</td>\n    </tr>\n    <tr>\n      <th>25</th>\n      <td>2</td>\n      <td>4957</td>\n      <td>1</td>\n    </tr>\n    <tr>\n      <th>26</th>\n      <td>2</td>\n      <td>5212</td>\n      <td>1</td>\n    </tr>\n    <tr>\n      <th>27</th>\n      <td>2</td>\n      <td>5322</td>\n      <td>1</td>\n    </tr>\n    <tr>\n      <th>28</th>\n      <td>2</td>\n      <td>5450</td>\n      <td>1</td>\n    </tr>\n    <tr>\n      <th>29</th>\n      <td>2</td>\n      <td>5869</td>\n      <td>1</td>\n    </tr>\n  </tbody>\n</table>\n</div>"
     },
     "execution_count": 55,
     "metadata": {},
     "output_type": "execute_result"
    }
   ],
   "source": [
    "df_user_product_prior.head(30)"
   ],
   "metadata": {
    "collapsed": false,
    "pycharm": {
     "name": "#%%\n"
    }
   }
  },
  {
   "cell_type": "code",
   "execution_count": 87,
   "metadata": {
    "collapsed": true
   },
   "outputs": [],
   "source": [
    "def build_product_user_matrix(matrix_path, df_user_product_prior):\n",
    "    \"\"\"\n",
    "    Generates a utility matrix representing purchase history of users, and writes it to disk.\n",
    "    Rows and Columns represent products and users respectively.\n",
    "    \"\"\"\n",
    "    start = time.time()\n",
    "    print(\"Creating product user matrix ...\")\n",
    "    \n",
    "    # Make the dataframe a sparse matrix\n",
    "    df_user_product_prior[\"user_id\"] = df_user_product_prior[\"user_id\"].astype(\"category\")\n",
    "    df_user_product_prior[\"product_id\"] = df_user_product_prior[\"product_id\"].astype(\"category\")\n",
    "    product_user_matrix = sparse.coo_matrix((df_user_product_prior[\"quantity\"],\n",
    "                                            (df_user_product_prior[\"product_id\"].cat.codes.copy(),\n",
    "                                             df_user_product_prior[\"user_id\"].cat.codes.copy())))\n",
    "    \n",
    "    sparse.save_npz(matrix_path, product_user_matrix)\n",
    "    \n",
    "    print(\"Completed in {:.2f}s\".format(time.time() - start))\n",
    "\n",
    "\n",
    "# Get the `product x user` matrix\n",
    "REBUILD_MATRIX = False\n",
    "matrix_path = \"../input/product_user_matrix.npz\"\n",
    "if REBUILD_MATRIX or not Path(matrix_path).is_file():\n",
    "    build_product_user_matrix(matrix_path, df_user_product_prior)\n",
    "product_user_matrix = sparse.load_npz(matrix_path).tocsr()"
   ]
  },
  {
   "cell_type": "code",
   "execution_count": 77,
   "outputs": [
    {
     "data": {
      "text/plain": "         user_id product_id  quantity\n0              1        196        10\n1              1      10258         9\n2              1      10326         1\n3              1      12427        10\n4              1      13032         3\n...          ...        ...       ...\n13307948  206209      43961         3\n13307949  206209      44325         1\n13307950  206209      48370         1\n13307951  206209      48697         1\n13307952  206209      48742         2\n\n[13307953 rows x 3 columns]",
      "text/html": "<div>\n<style scoped>\n    .dataframe tbody tr th:only-of-type {\n        vertical-align: middle;\n    }\n\n    .dataframe tbody tr th {\n        vertical-align: top;\n    }\n\n    .dataframe thead th {\n        text-align: right;\n    }\n</style>\n<table border=\"1\" class=\"dataframe\">\n  <thead>\n    <tr style=\"text-align: right;\">\n      <th></th>\n      <th>user_id</th>\n      <th>product_id</th>\n      <th>quantity</th>\n    </tr>\n  </thead>\n  <tbody>\n    <tr>\n      <th>0</th>\n      <td>1</td>\n      <td>196</td>\n      <td>10</td>\n    </tr>\n    <tr>\n      <th>1</th>\n      <td>1</td>\n      <td>10258</td>\n      <td>9</td>\n    </tr>\n    <tr>\n      <th>2</th>\n      <td>1</td>\n      <td>10326</td>\n      <td>1</td>\n    </tr>\n    <tr>\n      <th>3</th>\n      <td>1</td>\n      <td>12427</td>\n      <td>10</td>\n    </tr>\n    <tr>\n      <th>4</th>\n      <td>1</td>\n      <td>13032</td>\n      <td>3</td>\n    </tr>\n    <tr>\n      <th>...</th>\n      <td>...</td>\n      <td>...</td>\n      <td>...</td>\n    </tr>\n    <tr>\n      <th>13307948</th>\n      <td>206209</td>\n      <td>43961</td>\n      <td>3</td>\n    </tr>\n    <tr>\n      <th>13307949</th>\n      <td>206209</td>\n      <td>44325</td>\n      <td>1</td>\n    </tr>\n    <tr>\n      <th>13307950</th>\n      <td>206209</td>\n      <td>48370</td>\n      <td>1</td>\n    </tr>\n    <tr>\n      <th>13307951</th>\n      <td>206209</td>\n      <td>48697</td>\n      <td>1</td>\n    </tr>\n    <tr>\n      <th>13307952</th>\n      <td>206209</td>\n      <td>48742</td>\n      <td>2</td>\n    </tr>\n  </tbody>\n</table>\n<p>13307953 rows × 3 columns</p>\n</div>"
     },
     "execution_count": 77,
     "metadata": {},
     "output_type": "execute_result"
    }
   ],
   "source": [
    "df_user_product_prior"
   ],
   "metadata": {
    "collapsed": false,
    "pycharm": {
     "name": "#%%\n"
    }
   }
  },
  {
   "cell_type": "code",
   "execution_count": 93,
   "outputs": [
    {
     "name": "stdout",
     "output_type": "stream",
     "text": [
      "Creating product user matrix ...\n",
      "Completed in 7.71s\n"
     ]
    }
   ],
   "source": [
    "def build_product_user_matrix1(matrix_path, df_user_product_prior):\n",
    "    \"\"\"\n",
    "    Generates a utility matrix representing purchase history of users, and writes it to disk.\n",
    "    Rows and Columns represent products and users respectively.\n",
    "    \"\"\"\n",
    "    start = time.time()\n",
    "    print(\"Creating product user matrix ...\")\n",
    "\n",
    "\n",
    "\n",
    "    # Make the dataframe a sparse matrix\n",
    "    df_user_product_prior[\"user_id\"] = df_user_product_prior[\"user_id\"].astype(\"category\")\n",
    "    df_user_product_prior[\"product_id\"] = df_user_product_prior[\"product_id\"].astype(\"category\")\n",
    "    product_user_matrix = sparse.coo_matrix((df_user_product_prior[\"user_id\"].cat.codes.copy(),\n",
    "                                            (df_user_product_prior[\"quantity\"],\n",
    "                                             df_user_product_prior[\"product_id\"].cat.codes.copy())))\n",
    "\n",
    "    sparse.save_npz(matrix_path, product_user_matrix)\n",
    "\n",
    "    print(\"Completed in {:.2f}s\".format(time.time() - start))\n",
    "\n",
    "\n",
    "# Get the `product x user` matrix\n",
    "REBUILD_MATRIX = False\n",
    "matrix_path = \"../input/product_user_matrix2.npz\"\n",
    "if REBUILD_MATRIX or not Path(matrix_path).is_file():\n",
    "    build_product_user_matrix1(matrix_path, df_user_product_prior)\n",
    "product_user_matrix1 = sparse.load_npz(matrix_path).tocsr()"
   ],
   "metadata": {
    "collapsed": false,
    "pycharm": {
     "name": "#%%\n"
    }
   }
  },
  {
   "cell_type": "code",
   "execution_count": 84,
   "outputs": [
    {
     "name": "stdout",
     "output_type": "stream",
     "text": [
      "  (0, 137)\t2\n",
      "  (0, 708)\t1\n",
      "  (0, 763)\t2\n",
      "  (0, 776)\t1\n",
      "  (0, 824)\t1\n",
      "  (0, 909)\t1\n",
      "  (0, 1051)\t2\n",
      "  (0, 1378)\t1\n",
      "  (0, 1479)\t3\n",
      "  (0, 1493)\t3\n",
      "  (0, 1539)\t17\n",
      "  (0, 1597)\t3\n",
      "  (0, 1646)\t5\n",
      "  (0, 2832)\t1\n",
      "  (0, 2849)\t1\n",
      "  (0, 2856)\t1\n",
      "  (0, 3009)\t1\n",
      "  (0, 3028)\t1\n",
      "  (0, 3394)\t1\n",
      "  (0, 3903)\t1\n",
      "  (0, 4005)\t5\n",
      "  (0, 4121)\t1\n",
      "  (0, 4140)\t1\n",
      "  (0, 4342)\t1\n",
      "  (0, 4552)\t1\n",
      "  :\t:\n",
      "  (49676, 151976)\t1\n",
      "  (49676, 153611)\t1\n",
      "  (49676, 157882)\t1\n",
      "  (49676, 159098)\t1\n",
      "  (49676, 159486)\t4\n",
      "  (49676, 159637)\t1\n",
      "  (49676, 163631)\t2\n",
      "  (49676, 164452)\t1\n",
      "  (49676, 166037)\t2\n",
      "  (49676, 166212)\t1\n",
      "  (49676, 171742)\t1\n",
      "  (49676, 172261)\t1\n",
      "  (49676, 176941)\t1\n",
      "  (49676, 178692)\t1\n",
      "  (49676, 178751)\t2\n",
      "  (49676, 182947)\t2\n",
      "  (49676, 183547)\t1\n",
      "  (49676, 184080)\t1\n",
      "  (49676, 187522)\t1\n",
      "  (49676, 188072)\t2\n",
      "  (49676, 197370)\t1\n",
      "  (49676, 200214)\t1\n",
      "  (49676, 200376)\t1\n",
      "  (49676, 200872)\t2\n",
      "  (49676, 205925)\t1\n"
     ]
    }
   ],
   "source": [
    "print(product_user_matrix)"
   ],
   "metadata": {
    "collapsed": false,
    "pycharm": {
     "name": "#%%\n"
    }
   }
  },
  {
   "cell_type": "code",
   "execution_count": 95,
   "outputs": [
    {
     "name": "stdout",
     "output_type": "stream",
     "text": [
      "  (1, 0)\t44275104\n",
      "  (1, 1)\t7013446\n",
      "  (1, 2)\t4143077\n",
      "  (1, 3)\t12041393\n",
      "  (1, 4)\t336784\n",
      "  (1, 5)\t347357\n",
      "  (1, 6)\t772480\n",
      "  (1, 7)\t5159646\n",
      "  (1, 8)\t4626395\n",
      "  (1, 9)\t88175506\n",
      "  (1, 10)\t3143183\n",
      "  (1, 11)\t8514039\n",
      "  (1, 12)\t324252\n",
      "  (1, 13)\t1771808\n",
      "  (1, 14)\t176434\n",
      "  (1, 15)\t1653657\n",
      "  (1, 16)\t1395719\n",
      "  (1, 17)\t3069025\n",
      "  (1, 18)\t441546\n",
      "  (1, 19)\t559986\n",
      "  (1, 20)\t521063\n",
      "  (1, 21)\t1336858\n",
      "  (1, 22)\t39743060\n",
      "  (1, 23)\t501821\n",
      "  (1, 24)\t45618143\n",
      "  :\t:\n",
      "  (94, 24950)\t75123\n",
      "  (94, 31975)\t74314\n",
      "  (94, 40563)\t75123\n",
      "  (94, 45181)\t84477\n",
      "  (95, 1159)\t123745\n",
      "  (95, 4917)\t103592\n",
      "  (95, 11780)\t36334\n",
      "  (95, 18922)\t140439\n",
      "  (95, 19656)\t76677\n",
      "  (95, 24848)\t178106\n",
      "  (95, 38681)\t99752\n",
      "  (96, 14943)\t141735\n",
      "  (96, 24848)\t69918\n",
      "  (96, 27839)\t99752\n",
      "  (97, 195)\t98084\n",
      "  (97, 24848)\t99706\n",
      "  (97, 31975)\t84477\n",
      "  (98, 12009)\t120896\n",
      "  (98, 28198)\t103592\n",
      "  (98, 29665)\t41355\n",
      "  (99, 4207)\t17996\n",
      "  (99, 6580)\t41355\n",
      "  (99, 14362)\t41355\n",
      "  (99, 25129)\t141735\n",
      "  (99, 38644)\t41355\n"
     ]
    }
   ],
   "source": [
    "print(product_user_matrix1)"
   ],
   "metadata": {
    "collapsed": false,
    "pycharm": {
     "name": "#%%\n"
    }
   }
  },
  {
   "cell_type": "code",
   "execution_count": 58,
   "metadata": {
    "collapsed": true
   },
   "outputs": [],
   "source": [
    "# User=1 bought product=196 10 times\n",
    "assert product_user_matrix[195, 0] == 10"
   ]
  },
  {
   "cell_type": "code",
   "execution_count": 59,
   "metadata": {},
   "outputs": [
    {
     "data": {
      "text/plain": "99.8700882953749"
     },
     "execution_count": 59,
     "metadata": {},
     "output_type": "execute_result"
    }
   ],
   "source": [
    "sparsity(product_user_matrix)"
   ]
  },
  {
   "cell_type": "markdown",
   "metadata": {},
   "source": [
    "# Term Frequency-Inverse Document Frequency"
   ]
  },
  {
   "cell_type": "code",
   "execution_count": 60,
   "metadata": {
    "collapsed": true
   },
   "outputs": [],
   "source": [
    "# Fetch Term Frequency matrix\n",
    "user_product_matrix = product_user_matrix.T"
   ]
  },
  {
   "cell_type": "code",
   "execution_count": 61,
   "outputs": [
    {
     "name": "stdout",
     "output_type": "stream",
     "text": [
      "  (137, 0)\t2\n",
      "  (708, 0)\t1\n",
      "  (763, 0)\t2\n",
      "  (776, 0)\t1\n",
      "  (824, 0)\t1\n",
      "  (909, 0)\t1\n",
      "  (1051, 0)\t2\n",
      "  (1378, 0)\t1\n",
      "  (1479, 0)\t3\n",
      "  (1493, 0)\t3\n",
      "  (1539, 0)\t17\n",
      "  (1597, 0)\t3\n",
      "  (1646, 0)\t5\n",
      "  (2832, 0)\t1\n",
      "  (2849, 0)\t1\n",
      "  (2856, 0)\t1\n",
      "  (3009, 0)\t1\n",
      "  (3028, 0)\t1\n",
      "  (3394, 0)\t1\n",
      "  (3903, 0)\t1\n",
      "  (4005, 0)\t5\n",
      "  (4121, 0)\t1\n",
      "  (4140, 0)\t1\n",
      "  (4342, 0)\t1\n",
      "  (4552, 0)\t1\n",
      "  :\t:\n",
      "  (151976, 49676)\t1\n",
      "  (153611, 49676)\t1\n",
      "  (157882, 49676)\t1\n",
      "  (159098, 49676)\t1\n",
      "  (159486, 49676)\t4\n",
      "  (159637, 49676)\t1\n",
      "  (163631, 49676)\t2\n",
      "  (164452, 49676)\t1\n",
      "  (166037, 49676)\t2\n",
      "  (166212, 49676)\t1\n",
      "  (171742, 49676)\t1\n",
      "  (172261, 49676)\t1\n",
      "  (176941, 49676)\t1\n",
      "  (178692, 49676)\t1\n",
      "  (178751, 49676)\t2\n",
      "  (182947, 49676)\t2\n",
      "  (183547, 49676)\t1\n",
      "  (184080, 49676)\t1\n",
      "  (187522, 49676)\t1\n",
      "  (188072, 49676)\t2\n",
      "  (197370, 49676)\t1\n",
      "  (200214, 49676)\t1\n",
      "  (200376, 49676)\t1\n",
      "  (200872, 49676)\t2\n",
      "  (205925, 49676)\t1\n"
     ]
    }
   ],
   "source": [
    "print(user_product_matrix)"
   ],
   "metadata": {
    "collapsed": false,
    "pycharm": {
     "name": "#%%\n"
    }
   }
  },
  {
   "cell_type": "code",
   "execution_count": 62,
   "metadata": {
    "collapsed": true
   },
   "outputs": [],
   "source": [
    "def tfidf_weight(tf):\n",
    "    \"\"\"\n",
    "    Given a Term Frequency matrix\n",
    "    Returns a TF-IDF weight matrix\n",
    "    \"\"\"\n",
    "    \n",
    "    tf_idf = coo_matrix(tf)\n",
    "\n",
    "    # calculate IDF\n",
    "    N = float(tf_idf.shape[0])\n",
    "    idf = log(N / (1 + bincount(tf_idf.col)))\n",
    "\n",
    "    # apply TF-IDF adjustment\n",
    "    tf_idf.data = sqrt(tf_idf.data) * idf[tf_idf.col]\n",
    "    return tf_idf\n",
    "\n",
    "tf_idf = tfidf_weight(user_product_matrix)\n",
    "\n",
    "# convert to Compressed Sparse Row format\n",
    "tf_idf = tf_idf.tocsr()"
   ]
  },
  {
   "cell_type": "markdown",
   "metadata": {},
   "source": [
    "## Example Recommendation"
   ]
  },
  {
   "cell_type": "code",
   "execution_count": 63,
   "metadata": {
    "collapsed": true
   },
   "outputs": [],
   "source": [
    "def generateRecommendations(target_user, cos_vec, K, N):\n",
    "    \"\"\"\n",
    "    Given a target_user (a row), a cosine similarity vector, the number of similar users K, \n",
    "          the number of products to be recommended.\n",
    "    Returns product set by target user and N recommendations\n",
    "    \"\"\"\n",
    "    \n",
    "    # Select top K similar users\n",
    "    top_K_similar_users = heapq.nlargest(K+1, range(len(cos_vec)), cos_vec.take)\n",
    "\n",
    "    # Initialize the result for recommendations\n",
    "    recommendations = []\n",
    "    \n",
    "    # Exclude the user with same purchase history (1.00000) as the target user and implement set-minus\n",
    "    products_target_user = df_prior_user_products.loc[df_prior_user_products['user_id'] == target_user_id].products\n",
    "\n",
    "    # Products of Target User\n",
    "    productset_target_user = set(products_target_user.tolist()[0])\n",
    "\n",
    "    # Fetch the preliminary recommendations\n",
    "    for similar_user_id in top_K_similar_users:\n",
    "        \n",
    "        products_similar_user = df_prior_user_products.loc[df_prior_user_products['user_id'] == similar_user_id + 1].products\n",
    "\n",
    "        # Recommend the products bought by the user who firstly differs in the purchase history from A.\n",
    "        candidate_recommendation = set(products_similar_user.tolist()[0]) - productset_target_user\n",
    "\n",
    "        # If similar_user_id equals to target_user_id or the candidate_recommendation is empty,\n",
    "        # skip current user\n",
    "        if similar_user_id == target_user_id or not candidate_recommendation: continue\n",
    "\n",
    "        # One candidate_recommendation found, and extend it to the result\n",
    "        recommendations.extend(candidate_recommendation)\n",
    "\n",
    "        # If length of recommendations exceed N, break\n",
    "        # Needed because this will ensure the recommentations are the products bought by most similar users\n",
    "        if len(recommendations) > N: break\n",
    "        \n",
    "    # Pick the top N popularity (overall sales) to recommend\n",
    "    h = []\n",
    "    for rec in recommendations:\n",
    "        heapq.heappush(h, (df_product_frequency.loc[rec]['frequency'], rec))\n",
    "        if len(h) > N:\n",
    "            heapq.heappop(h)\n",
    "            \n",
    "    return productset_target_user, [item[1] for item in h]"
   ]
  },
  {
   "cell_type": "code",
   "execution_count": 64,
   "metadata": {
    "collapsed": true
   },
   "outputs": [],
   "source": [
    "# Selecting one user to test\n",
    "target_user_id = 1\n",
    "\n",
    "# Fetch row of target user\n",
    "target_user = tf_idf[target_user_id - 1]\n",
    "\n",
    "# Calculate Cosine Similarity Vector of target user\n",
    "similarities = cosine_similarity(tf_idf, target_user, False)\n",
    "\n",
    "productset_target_user, recommendations = generateRecommendations(target_user, similarities.toarray(), 20, 10)"
   ]
  },
  {
   "cell_type": "code",
   "execution_count": 76,
   "outputs": [
    {
     "name": "stdout",
     "output_type": "stream",
     "text": [
      "  (0, 137)\t2\n",
      "  (0, 708)\t1\n",
      "  (0, 763)\t2\n",
      "  (0, 776)\t1\n",
      "  (0, 824)\t1\n",
      "  (0, 909)\t1\n",
      "  (0, 1051)\t2\n",
      "  (0, 1378)\t1\n",
      "  (0, 1479)\t3\n",
      "  (0, 1493)\t3\n",
      "  (0, 1539)\t17\n",
      "  (0, 1597)\t3\n",
      "  (0, 1646)\t5\n",
      "  (0, 2832)\t1\n",
      "  (0, 2849)\t1\n",
      "  (0, 2856)\t1\n",
      "  (0, 3009)\t1\n",
      "  (0, 3028)\t1\n",
      "  (0, 3394)\t1\n",
      "  (0, 3903)\t1\n",
      "  (0, 4005)\t5\n",
      "  (0, 4121)\t1\n",
      "  (0, 4140)\t1\n",
      "  (0, 4342)\t1\n",
      "  (0, 4552)\t1\n",
      "  :\t:\n",
      "  (49676, 151976)\t1\n",
      "  (49676, 153611)\t1\n",
      "  (49676, 157882)\t1\n",
      "  (49676, 159098)\t1\n",
      "  (49676, 159486)\t4\n",
      "  (49676, 159637)\t1\n",
      "  (49676, 163631)\t2\n",
      "  (49676, 164452)\t1\n",
      "  (49676, 166037)\t2\n",
      "  (49676, 166212)\t1\n",
      "  (49676, 171742)\t1\n",
      "  (49676, 172261)\t1\n",
      "  (49676, 176941)\t1\n",
      "  (49676, 178692)\t1\n",
      "  (49676, 178751)\t2\n",
      "  (49676, 182947)\t2\n",
      "  (49676, 183547)\t1\n",
      "  (49676, 184080)\t1\n",
      "  (49676, 187522)\t1\n",
      "  (49676, 188072)\t2\n",
      "  (49676, 197370)\t1\n",
      "  (49676, 200214)\t1\n",
      "  (49676, 200376)\t1\n",
      "  (49676, 200872)\t2\n",
      "  (49676, 205925)\t1\n"
     ]
    }
   ],
   "source": [
    "print(product_user_matrix)"
   ],
   "metadata": {
    "collapsed": false,
    "pycharm": {
     "name": "#%%\n"
    }
   }
  },
  {
   "cell_type": "code",
   "execution_count": 73,
   "outputs": [],
   "source": [
    "tf_idf1 = tfidf_weight(product_user_matrix)\n",
    "\n",
    "# convert to Compressed Sparse Row format\n",
    "tf_idf1 = tf_idf.tocsr()"
   ],
   "metadata": {
    "collapsed": false,
    "pycharm": {
     "name": "#%%\n"
    }
   }
  },
  {
   "cell_type": "code",
   "execution_count": 74,
   "outputs": [],
   "source": [
    "# Selecting one user to test\n",
    "target_product_id = 137\n",
    "\n",
    "# Fetch row of target user\n",
    "target_product = tf_idf1[target_product_id - 1]\n",
    "\n",
    "# Calculate Cosine Similarity Vector of target user\n",
    "similarities = cosine_similarity(tf_idf1, target_product, False)"
   ],
   "metadata": {
    "collapsed": false,
    "pycharm": {
     "name": "#%%\n"
    }
   }
  },
  {
   "cell_type": "code",
   "execution_count": 75,
   "outputs": [
    {
     "name": "stdout",
     "output_type": "stream",
     "text": [
      "  (13, 0)\t0.007298916194918597\n",
      "  (18, 0)\t0.015505516589637457\n",
      "  (20, 0)\t0.02058792075315681\n",
      "  (21, 0)\t0.047950826058247985\n",
      "  (26, 0)\t0.0019862789875225474\n",
      "  (30, 0)\t0.006758907825177951\n",
      "  (32, 0)\t0.013577021272401443\n",
      "  (36, 0)\t0.0028246953524359536\n",
      "  (41, 0)\t0.00895494912306569\n",
      "  (47, 0)\t0.004919411827097022\n",
      "  (50, 0)\t0.006196724109281364\n",
      "  (54, 0)\t0.0048956294599833555\n",
      "  (60, 0)\t0.011110904128843675\n",
      "  (62, 0)\t0.009929504527880459\n",
      "  (63, 0)\t0.011152479352418006\n",
      "  (69, 0)\t0.04035016717837186\n",
      "  (71, 0)\t0.015499857588297944\n",
      "  (82, 0)\t0.008457332268607603\n",
      "  (86, 0)\t0.0026126149414244597\n",
      "  (89, 0)\t0.017083250666007247\n",
      "  (90, 0)\t0.00464004244548469\n",
      "  (93, 0)\t0.013940630785078092\n",
      "  (96, 0)\t0.0033087778625540748\n",
      "  (108, 0)\t0.007575862329255163\n",
      "  (111, 0)\t0.01170637871242454\n",
      "  :\t:\n",
      "  (206054, 0)\t0.010762418582906445\n",
      "  (206061, 0)\t0.008970373146730859\n",
      "  (206079, 0)\t0.022524799277570624\n",
      "  (206080, 0)\t0.00512917901912987\n",
      "  (206083, 0)\t0.046773913833690076\n",
      "  (206092, 0)\t0.015121471049373324\n",
      "  (206094, 0)\t0.03692545867254379\n",
      "  (206095, 0)\t0.005808707808500746\n",
      "  (206111, 0)\t0.008044435396582138\n",
      "  (206116, 0)\t0.0019971141408582664\n",
      "  (206117, 0)\t0.0035076594972572226\n",
      "  (206122, 0)\t0.009325241380343095\n",
      "  (206123, 0)\t0.023197283186536313\n",
      "  (206126, 0)\t0.014370618238098487\n",
      "  (206141, 0)\t0.005727616265859048\n",
      "  (206154, 0)\t0.007809945991142862\n",
      "  (206159, 0)\t0.002013967154962155\n",
      "  (206165, 0)\t0.008956777430987384\n",
      "  (206171, 0)\t0.10821431182871535\n",
      "  (206172, 0)\t0.0281479853681213\n",
      "  (206182, 0)\t0.003363778696093408\n",
      "  (206184, 0)\t0.01736763650163073\n",
      "  (206197, 0)\t0.012201722196605562\n",
      "  (206198, 0)\t0.01317816669767854\n",
      "  (206207, 0)\t0.00675711213493328\n"
     ]
    }
   ],
   "source": [
    "print(similarities)"
   ],
   "metadata": {
    "collapsed": false,
    "pycharm": {
     "name": "#%%\n"
    }
   }
  },
  {
   "cell_type": "code",
   "execution_count": 72,
   "outputs": [
    {
     "name": "stdout",
     "output_type": "stream",
     "text": [
      "  (0, 195)\t10.275263695642945\n",
      "  (0, 10254)\t17.736859602527698\n",
      "  (0, 10322)\t4.674483865331559\n",
      "  (0, 12423)\t15.210860465376676\n",
      "  (0, 13028)\t8.792888060980058\n",
      "  (0, 13172)\t1.6648858373116806\n",
      "  (0, 14080)\t4.225953957426909\n",
      "  (0, 17118)\t3.823924326737684\n",
      "  (0, 25129)\t13.723627724905615\n",
      "  (0, 26083)\t7.321423024085006\n",
      "  (0, 26400)\t8.083679185492812\n",
      "  (0, 30444)\t3.0974789440355526\n",
      "  (0, 35945)\t2.688334011836079\n",
      "  (0, 38920)\t4.504276274272822\n",
      "  (0, 39649)\t5.1684734961691685\n",
      "  (0, 41779)\t2.8112743933773685\n",
      "  (0, 46139)\t8.409355396794442\n",
      "  (0, 49224)\t3.555531448298375\n"
     ]
    }
   ],
   "source": [
    "print(target_user)"
   ],
   "metadata": {
    "collapsed": false,
    "pycharm": {
     "name": "#%%\n"
    }
   }
  },
  {
   "cell_type": "code",
   "execution_count": 66,
   "metadata": {},
   "outputs": [
    {
     "name": "stdout",
     "output_type": "stream",
     "text": [
      "Actual products bought by User 1:\n",
      "{17122, 196, 26405, 14084, 46149, 26088, 13032, 39657, 12427, 25133, 35951, 38928, 10258, 30450, 49235, 10326, 13176, 41787}\n",
      "\n",
      "Recommended products for User 1:\n",
      "[500, 26104, 4149, 41400, 22802, 12916, 37710, 9755, 16797, 5258]\n"
     ]
    }
   ],
   "source": [
    "# Output the product_name of Target User's products as well as Recommendations\n",
    "print('Actual products bought by User {}:'.format(target_user_id))\n",
    "print(productset_target_user)\n",
    "print()\n",
    "print('Recommended products for User {}:'.format(target_user_id))\n",
    "print(recommendations)"
   ]
  },
  {
   "cell_type": "markdown",
   "metadata": {},
   "source": [
    "# Evaluation"
   ]
  },
  {
   "cell_type": "code",
   "execution_count": 67,
   "metadata": {
    "collapsed": true
   },
   "outputs": [],
   "source": [
    "# Get the 10 most popular products\n",
    "popular_products = get_k_popular(10, df_merged_order_products_prior)"
   ]
  },
  {
   "cell_type": "code",
   "execution_count": 68,
   "metadata": {
    "scrolled": true
   },
   "outputs": [],
   "source": [
    "def recall_score(actual, pred):\n",
    "    \"\"\"\n",
    "    Given two lists representing actual and predicted values\n",
    "    Returns the recall of the prediction\n",
    "    \"\"\"\n",
    "    if len(actual) == 0:\n",
    "        return 0\n",
    "    actual, pred = set(actual), set(pred)\n",
    "    return len(actual.intersection(pred)) / len(actual)\n",
    "\n",
    "def new_products(row):\n",
    "    \"\"\"\n",
    "    Given a row in the test dataset\n",
    "    Returns the list of new products purchased\n",
    "    \"\"\"\n",
    "    actual = row[\"products\"][1:-1]\n",
    "    actual = set([int(p.strip()) for p in actual.strip().split(\",\")])\n",
    "    products_target_user = df_prior_user_products.loc[df_prior_user_products['user_id'] == row[\"user_id\"]].products\n",
    "    liked = set(products_target_user.tolist()[0])\n",
    "    return actual - liked\n",
    "\n",
    "def popular_recommend(row):\n",
    "    \"\"\"\n",
    "    Given a row in the test dataset\n",
    "    Returns the recall score when popular products are recommended\n",
    "    \"\"\"\n",
    "    actual = new_products(row)\n",
    "    return recall_score(actual, popular_products)\n",
    "\n",
    "def tfidf_recommend(row):\n",
    "    \"\"\"\n",
    "    Given a row in the test dataset\n",
    "    Returns the recall score when our model recommends products\n",
    "    \"\"\"\n",
    "    actual = row[\"products\"][1:-1]\n",
    "    actual = [int(p.strip()) for p in actual.strip().split(\",\")]\n",
    "    target_user = tf_idf[row[\"user_id\"] - 1]\n",
    "    similarities = cosine_similarity(tf_idf, target_user, False)\n",
    "    cos_vec = similarities.toarray()\n",
    "    productset_target_user, recommended = generateRecommendations(target_user, cos_vec, 20, 10)\n",
    "\n",
    "    cur_recall_score = recall_score(actual, recommended)\n",
    "    \n",
    "    global count, progress, recall_sum\n",
    "    count += 1; recall_sum += cur_recall_score\n",
    "    if level[progress] and int(count / total * 10) - 1 == progress:\n",
    "        level[progress] = False\n",
    "        progress += 1\n",
    "        print(\"{:.1f}% completed, current mean of recall = {}\".format(progress * 10, recall_sum / count))    \n",
    "    \n",
    "    return cur_recall_score\n",
    "\n",
    "def build_eval_df( df_user_products_test, subset=None):\n",
    "    \"\"\"\n",
    "    Builds a dataframe of recall values of the baseline and our model for all the users\n",
    "    in the test data, and saves its to disk at `filepath`\n",
    "    \"\"\"\n",
    "    start = time.time()\n",
    "    print(\"Building dataframe with recall values ...\")\n",
    "    \n",
    "    df_eval = df_user_products_test.copy()\n",
    "    if subset:\n",
    "        df_eval = df_eval.sample(n=int(len(df_eval) * subset), random_state=7)\n",
    "    df_eval[\"popular_score\"] = df_eval.apply(popular_recommend, axis=1)\n",
    "    df_eval[\"tfidf_score\"] = df_eval.apply(tfidf_recommend, axis=1)\n",
    "\n",
    "    #df_eval.to_csv(filepath) #, index_label=False)\n",
    "    \n",
    "    print(\"Completed in {:.2f}s\".format(time.time() - start))    \n",
    "\n",
    "    return df_eval\n",
    "\n",
    "# Get the dataframe with recall values of the baseline and the model\n",
    "REBUILD_EVAL_DF = False\n",
    "subset = 0.1\n",
    "\n",
    "# How many users in the test?\n",
    "total = len(df_user_products_test) * subset\n",
    "\n",
    "# Counter\n",
    "count = 0\n",
    "progress = 0\n",
    "recall_sum = 0\n",
    "level = [True] * 10"
   ]
  },
  {
   "cell_type": "code",
   "execution_count": 69,
   "outputs": [],
   "source": [
    "# Estimated 3 hours to run 20% of the test dataset\n",
    "eval_path = \"../input/eval/eval_tfidf_{}.csv\".format(subset if subset is not None else \"full\")\n",
    "if REBUILD_EVAL_DF or not Path(eval_path).exists():\n",
    "    df_eval = build_eval_df( df_user_products_test, subset=subset)"
   ],
   "metadata": {
    "collapsed": false,
    "pycharm": {
     "name": "#%%\n"
    }
   }
  },
  {
   "cell_type": "code",
   "execution_count": 70,
   "outputs": [
    {
     "ename": "NameError",
     "evalue": "name 'df_eval' is not defined",
     "output_type": "error",
     "traceback": [
      "\u001B[1;31m---------------------------------------------------------------------------\u001B[0m",
      "\u001B[1;31mNameError\u001B[0m                                 Traceback (most recent call last)",
      "\u001B[1;32mC:\\Users\\AKSHAY~1\\AppData\\Local\\Temp/ipykernel_34520/2936120634.py\u001B[0m in \u001B[0;36m<module>\u001B[1;34m\u001B[0m\n\u001B[1;32m----> 1\u001B[1;33m \u001B[0mdf_eval\u001B[0m\u001B[1;33m.\u001B[0m\u001B[0mto_csv\u001B[0m\u001B[1;33m(\u001B[0m\u001B[0meval_path\u001B[0m\u001B[1;33m)\u001B[0m\u001B[1;33m\u001B[0m\u001B[1;33m\u001B[0m\u001B[0m\n\u001B[0m",
      "\u001B[1;31mNameError\u001B[0m: name 'df_eval' is not defined"
     ]
    }
   ],
   "source": [
    "df_eval.to_csv(eval_path)"
   ],
   "metadata": {
    "collapsed": false,
    "pycharm": {
     "name": "#%%\n"
    }
   }
  },
  {
   "cell_type": "code",
   "execution_count": null,
   "outputs": [],
   "source": [
    "df_eval = pd.read_csv(eval_path)"
   ],
   "metadata": {
    "collapsed": false,
    "pycharm": {
     "name": "#%%\n"
    }
   }
  },
  {
   "cell_type": "code",
   "execution_count": null,
   "metadata": {},
   "outputs": [],
   "source": [
    "# Mean recall scores\n",
    "model_mean_recall, baseline_mean_recall = np.mean(df_eval[\"tfidf_score\"]), np.mean(df_eval[\"popular_score\"])\n",
    "print(\"Model: {:.2f}%\".format(model_mean_recall * 100))\n",
    "print(\"Baseline: {:.2f}%\".format(baseline_mean_recall * 100))"
   ]
  },
  {
   "cell_type": "markdown",
   "metadata": {
    "collapsed": true
   },
   "source": [
    "Recommendations through TF-IDF are almost a factor of 8 times better than the baseline model."
   ]
  },
  {
   "cell_type": "code",
   "execution_count": null,
   "metadata": {
    "collapsed": true
   },
   "outputs": [],
   "source": [
    "df_eval.head(5)"
   ]
  },
  {
   "cell_type": "code",
   "execution_count": null,
   "outputs": [],
   "source": [],
   "metadata": {
    "collapsed": false,
    "pycharm": {
     "name": "#%%\n"
    }
   }
  }
 ],
 "metadata": {
  "kernelspec": {
   "display_name": "Python 3",
   "language": "python",
   "name": "python3"
  },
  "language_info": {
   "codemirror_mode": {
    "name": "ipython",
    "version": 3
   },
   "file_extension": ".py",
   "mimetype": "text/x-python",
   "name": "python",
   "nbconvert_exporter": "python",
   "pygments_lexer": "ipython3",
   "version": "3.6.1"
  }
 },
 "nbformat": 4,
 "nbformat_minor": 2
}