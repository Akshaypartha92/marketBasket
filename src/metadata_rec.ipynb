{
 "cells": [
  {
   "cell_type": "code",
   "execution_count": 1,
   "metadata": {
    "collapsed": true
   },
   "outputs": [],
   "source": [
    "import pandas as pd\n",
    "from sklearn.metrics.pairwise import cosine_similarity\n",
    "from sklearn.feature_extraction.text import CountVectorizer"
   ]
  },
  {
   "cell_type": "code",
   "execution_count": 7,
   "outputs": [],
   "source": [
    "aisles = pd.read_csv('../input/aisles.csv')\n",
    "departments = pd.read_csv('../input/departments.csv')\n",
    "prior = pd.read_csv('../input/order_products__prior.csv')\n",
    "train = pd.read_csv('../input/order_products__train.csv')\n",
    "orders = pd.read_csv('../input/orders.csv')\n",
    "products = pd.read_csv('../input/products.csv')"
   ],
   "metadata": {
    "collapsed": false,
    "pycharm": {
     "name": "#%%\n"
    }
   }
  },
  {
   "cell_type": "code",
   "execution_count": 8,
   "outputs": [
    {
     "data": {
      "text/plain": "   order_id  product_id  add_to_cart_order  reordered      product_name  \\\n0         1       49302                  1          1  Bulgarian Yogurt   \n1    816049       49302                  7          1  Bulgarian Yogurt   \n2   1242203       49302                  1          1  Bulgarian Yogurt   \n3   1383349       49302                 11          1  Bulgarian Yogurt   \n4   1787378       49302                  8          0  Bulgarian Yogurt   \n\n   aisle_id  department_id  \n0       120             16  \n1       120             16  \n2       120             16  \n3       120             16  \n4       120             16  ",
      "text/html": "<div>\n<style scoped>\n    .dataframe tbody tr th:only-of-type {\n        vertical-align: middle;\n    }\n\n    .dataframe tbody tr th {\n        vertical-align: top;\n    }\n\n    .dataframe thead th {\n        text-align: right;\n    }\n</style>\n<table border=\"1\" class=\"dataframe\">\n  <thead>\n    <tr style=\"text-align: right;\">\n      <th></th>\n      <th>order_id</th>\n      <th>product_id</th>\n      <th>add_to_cart_order</th>\n      <th>reordered</th>\n      <th>product_name</th>\n      <th>aisle_id</th>\n      <th>department_id</th>\n    </tr>\n  </thead>\n  <tbody>\n    <tr>\n      <th>0</th>\n      <td>1</td>\n      <td>49302</td>\n      <td>1</td>\n      <td>1</td>\n      <td>Bulgarian Yogurt</td>\n      <td>120</td>\n      <td>16</td>\n    </tr>\n    <tr>\n      <th>1</th>\n      <td>816049</td>\n      <td>49302</td>\n      <td>7</td>\n      <td>1</td>\n      <td>Bulgarian Yogurt</td>\n      <td>120</td>\n      <td>16</td>\n    </tr>\n    <tr>\n      <th>2</th>\n      <td>1242203</td>\n      <td>49302</td>\n      <td>1</td>\n      <td>1</td>\n      <td>Bulgarian Yogurt</td>\n      <td>120</td>\n      <td>16</td>\n    </tr>\n    <tr>\n      <th>3</th>\n      <td>1383349</td>\n      <td>49302</td>\n      <td>11</td>\n      <td>1</td>\n      <td>Bulgarian Yogurt</td>\n      <td>120</td>\n      <td>16</td>\n    </tr>\n    <tr>\n      <th>4</th>\n      <td>1787378</td>\n      <td>49302</td>\n      <td>8</td>\n      <td>0</td>\n      <td>Bulgarian Yogurt</td>\n      <td>120</td>\n      <td>16</td>\n    </tr>\n  </tbody>\n</table>\n</div>"
     },
     "execution_count": 8,
     "metadata": {},
     "output_type": "execute_result"
    }
   ],
   "source": [
    "df_orders = pd.merge(train, products, on='product_id')\n",
    "df_orders.head()"
   ],
   "metadata": {
    "collapsed": false,
    "pycharm": {
     "name": "#%%\n"
    }
   }
  },
  {
   "cell_type": "code",
   "execution_count": 20,
   "outputs": [
    {
     "data": {
      "text/plain": "   product_id                                       product_name  aisle_id  \\\n0           1                         Chocolate Sandwich Cookies        61   \n1           2                                   All-Seasons Salt       104   \n2           3               Robust Golden Unsweetened Oolong Tea        94   \n3           4  Smart Ones Classic Favorites Mini Rigatoni Wit...        38   \n4           5                          Green Chile Anytime Sauce         5   \n\n   department_id                       aisle department  \n0             19               cookies cakes     snacks  \n1             13           spices seasonings     pantry  \n2              7                         tea  beverages  \n3              1                frozen meals     frozen  \n4             13  marinades meat preparation     pantry  ",
      "text/html": "<div>\n<style scoped>\n    .dataframe tbody tr th:only-of-type {\n        vertical-align: middle;\n    }\n\n    .dataframe tbody tr th {\n        vertical-align: top;\n    }\n\n    .dataframe thead th {\n        text-align: right;\n    }\n</style>\n<table border=\"1\" class=\"dataframe\">\n  <thead>\n    <tr style=\"text-align: right;\">\n      <th></th>\n      <th>product_id</th>\n      <th>product_name</th>\n      <th>aisle_id</th>\n      <th>department_id</th>\n      <th>aisle</th>\n      <th>department</th>\n    </tr>\n  </thead>\n  <tbody>\n    <tr>\n      <th>0</th>\n      <td>1</td>\n      <td>Chocolate Sandwich Cookies</td>\n      <td>61</td>\n      <td>19</td>\n      <td>cookies cakes</td>\n      <td>snacks</td>\n    </tr>\n    <tr>\n      <th>1</th>\n      <td>2</td>\n      <td>All-Seasons Salt</td>\n      <td>104</td>\n      <td>13</td>\n      <td>spices seasonings</td>\n      <td>pantry</td>\n    </tr>\n    <tr>\n      <th>2</th>\n      <td>3</td>\n      <td>Robust Golden Unsweetened Oolong Tea</td>\n      <td>94</td>\n      <td>7</td>\n      <td>tea</td>\n      <td>beverages</td>\n    </tr>\n    <tr>\n      <th>3</th>\n      <td>4</td>\n      <td>Smart Ones Classic Favorites Mini Rigatoni Wit...</td>\n      <td>38</td>\n      <td>1</td>\n      <td>frozen meals</td>\n      <td>frozen</td>\n    </tr>\n    <tr>\n      <th>4</th>\n      <td>5</td>\n      <td>Green Chile Anytime Sauce</td>\n      <td>5</td>\n      <td>13</td>\n      <td>marinades meat preparation</td>\n      <td>pantry</td>\n    </tr>\n  </tbody>\n</table>\n</div>"
     },
     "execution_count": 20,
     "metadata": {},
     "output_type": "execute_result"
    }
   ],
   "source": [
    "products_aisles = pd.merge(products, aisles, on = 'aisle_id', how = 'left')\n",
    "products_description = pd.merge(products_aisles, departments, on = 'department_id', how = 'left')\n",
    "products_description.head()"
   ],
   "metadata": {
    "collapsed": false,
    "pycharm": {
     "name": "#%%\n"
    }
   }
  },
  {
   "cell_type": "code",
   "execution_count": 21,
   "outputs": [],
   "source": [
    "products_description['metadata'] = products_description.apply(lambda x : x['aisle']+' '+x['department']+' '+x['product_name'], axis = 1)"
   ],
   "metadata": {
    "collapsed": false,
    "pycharm": {
     "name": "#%%\n"
    }
   }
  },
  {
   "cell_type": "code",
   "execution_count": 25,
   "outputs": [
    {
     "data": {
      "text/plain": "   product_id                                       product_name  aisle_id  \\\n0           1                         Chocolate Sandwich Cookies        61   \n1           2                                   All-Seasons Salt       104   \n2           3               Robust Golden Unsweetened Oolong Tea        94   \n3           4  Smart Ones Classic Favorites Mini Rigatoni Wit...        38   \n4           5                          Green Chile Anytime Sauce         5   \n\n   department_id                       aisle department  \\\n0             19               cookies cakes     snacks   \n1             13           spices seasonings     pantry   \n2              7                         tea  beverages   \n3              1                frozen meals     frozen   \n4             13  marinades meat preparation     pantry   \n\n                                            metadata  \n0    cookies cakes snacks Chocolate Sandwich Cookies  \n1          spices seasonings pantry All-Seasons Salt  \n2  tea beverages Robust Golden Unsweetened Oolong...  \n3  frozen meals frozen Smart Ones Classic Favorit...  \n4  marinades meat preparation pantry Green Chile ...  ",
      "text/html": "<div>\n<style scoped>\n    .dataframe tbody tr th:only-of-type {\n        vertical-align: middle;\n    }\n\n    .dataframe tbody tr th {\n        vertical-align: top;\n    }\n\n    .dataframe thead th {\n        text-align: right;\n    }\n</style>\n<table border=\"1\" class=\"dataframe\">\n  <thead>\n    <tr style=\"text-align: right;\">\n      <th></th>\n      <th>product_id</th>\n      <th>product_name</th>\n      <th>aisle_id</th>\n      <th>department_id</th>\n      <th>aisle</th>\n      <th>department</th>\n      <th>metadata</th>\n    </tr>\n  </thead>\n  <tbody>\n    <tr>\n      <th>0</th>\n      <td>1</td>\n      <td>Chocolate Sandwich Cookies</td>\n      <td>61</td>\n      <td>19</td>\n      <td>cookies cakes</td>\n      <td>snacks</td>\n      <td>cookies cakes snacks Chocolate Sandwich Cookies</td>\n    </tr>\n    <tr>\n      <th>1</th>\n      <td>2</td>\n      <td>All-Seasons Salt</td>\n      <td>104</td>\n      <td>13</td>\n      <td>spices seasonings</td>\n      <td>pantry</td>\n      <td>spices seasonings pantry All-Seasons Salt</td>\n    </tr>\n    <tr>\n      <th>2</th>\n      <td>3</td>\n      <td>Robust Golden Unsweetened Oolong Tea</td>\n      <td>94</td>\n      <td>7</td>\n      <td>tea</td>\n      <td>beverages</td>\n      <td>tea beverages Robust Golden Unsweetened Oolong...</td>\n    </tr>\n    <tr>\n      <th>3</th>\n      <td>4</td>\n      <td>Smart Ones Classic Favorites Mini Rigatoni Wit...</td>\n      <td>38</td>\n      <td>1</td>\n      <td>frozen meals</td>\n      <td>frozen</td>\n      <td>frozen meals frozen Smart Ones Classic Favorit...</td>\n    </tr>\n    <tr>\n      <th>4</th>\n      <td>5</td>\n      <td>Green Chile Anytime Sauce</td>\n      <td>5</td>\n      <td>13</td>\n      <td>marinades meat preparation</td>\n      <td>pantry</td>\n      <td>marinades meat preparation pantry Green Chile ...</td>\n    </tr>\n  </tbody>\n</table>\n</div>"
     },
     "execution_count": 25,
     "metadata": {},
     "output_type": "execute_result"
    }
   ],
   "source": [
    "products_description.head()"
   ],
   "metadata": {
    "collapsed": false,
    "pycharm": {
     "name": "#%%\n"
    }
   }
  },
  {
   "cell_type": "code",
   "execution_count": 22,
   "outputs": [],
   "source": [
    "count_vec = CountVectorizer(stop_words='english')\n",
    "count_vec_matrix = count_vec.fit_transform(products_description['metadata'])"
   ],
   "metadata": {
    "collapsed": false,
    "pycharm": {
     "name": "#%%\n"
    }
   }
  },
  {
   "cell_type": "code",
   "execution_count": 23,
   "outputs": [],
   "source": [
    "# finds similar vector in the count_vec_matrix, this will be helpful in generating recommendation for new products which doesn't exist in association rules.\n",
    "\n",
    "def vectorize_products_based_on_metadata(product_input):\n",
    "\n",
    "    vec = count_vec.transform(pd.Series(product_input))\n",
    "\n",
    "    simil = cosine_similarity(vec, count_vec_matrix)\n",
    "\n",
    "    simil_scores = pd.DataFrame(simil.reshape(49688,), index = products_description.index, columns=['score'])\n",
    "\n",
    "    # Don't return scores of zero, only as many positive scores as exist\n",
    "    non_zero_scores = simil_scores[simil_scores['score'] > 0]\n",
    "\n",
    "    #if product is new & does't belong to any aisle then we will receive this error.\n",
    "    if len(non_zero_scores) == 0:\n",
    "        print('No similar products found.  Please refine your search terms and try again')\n",
    "        return\n",
    "\n",
    "    #if we have less than 10 products to recommend\n",
    "    if len(non_zero_scores) < 10:\n",
    "        item_count = len(non_zero_scores)\n",
    "    else:\n",
    "        #if we have more than 10 products to recommend, we will limit the recommendation to top 10 products based on similarity scores.\n",
    "        item_count = 10\n",
    "\n",
    "    similarity_scores = simil_scores.sort_values(['score'], ascending=False)[:item_count]\n",
    "\n",
    "    return (products_description['product_name'].iloc[similarity_scores.index])"
   ],
   "metadata": {
    "collapsed": false,
    "pycharm": {
     "name": "#%%\n"
    }
   }
  },
  {
   "cell_type": "code",
   "execution_count": 24,
   "outputs": [
    {
     "data": {
      "text/plain": "42098                 Eucalyptus Ease Bubble Bath\n42324                 Eucalyptus Mint Bubble Bath\n10036           Over Tired and Cranky Bubble Bath\n11065                    Bubble Bath Extra Gentle\n42859    Super Sensitive No Fragrance Bubble Bath\n18225                            Baby Bubble Bath\n3490           Everyday Shea Lavender Bubble Bath\n16699                      Baby Bee Bubble Bath -\n7544                     Baby Bedtime Bubble Bath\n35662                         Calming Bubble Bath\nName: product_name, dtype: object"
     },
     "execution_count": 24,
     "metadata": {},
     "output_type": "execute_result"
    }
   ],
   "source": [
    "vectorize_products_based_on_metadata('Bubble Bath')"
   ],
   "metadata": {
    "collapsed": false,
    "pycharm": {
     "name": "#%%\n"
    }
   }
  }
 ],
 "metadata": {
  "kernelspec": {
   "display_name": "Python 3",
   "language": "python",
   "name": "python3"
  },
  "language_info": {
   "codemirror_mode": {
    "name": "ipython",
    "version": 2
   },
   "file_extension": ".py",
   "mimetype": "text/x-python",
   "name": "python",
   "nbconvert_exporter": "python",
   "pygments_lexer": "ipython2",
   "version": "2.7.6"
  }
 },
 "nbformat": 4,
 "nbformat_minor": 0
}