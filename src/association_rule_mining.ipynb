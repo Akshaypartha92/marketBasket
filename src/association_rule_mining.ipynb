{
 "cells": [
  {
   "cell_type": "code",
   "execution_count": 1,
   "metadata": {},
   "outputs": [],
   "source": [
    "import pandas as pd\n",
    "import numpy as np\n",
    "import seaborn as sns\n",
    "import numpy as np\n",
    "from itertools import combinations, groupby\n",
    "from collections import Counter"
   ]
  },
  {
   "cell_type": "code",
   "execution_count": 5,
   "outputs": [
    {
     "name": "stderr",
     "output_type": "stream",
     "text": [
      "c:\\users\\akshaysharma\\hvacproakshay\\lib\\site-packages\\numpy\\lib\\arraysetops.py:583: FutureWarning: elementwise comparison failed; returning scalar instead, but in the future will perform elementwise comparison\n",
      "  mask |= (ar1 == a)\n"
     ]
    }
   ],
   "source": [
    "orders = pd.read_csv('../input/all_orders.csv', index_col = 0)\n",
    "cluster_df = pd.read_csv('../input/cluster_df')\n",
    "products = pd.read_csv('../input/products.csv')\n",
    "aisles = pd.read_csv('../input/aisles.csv')\n",
    "departments = pd.read_csv('../input/departments.csv')"
   ],
   "metadata": {
    "collapsed": false,
    "pycharm": {
     "name": "#%%\n"
    }
   }
  },
  {
   "cell_type": "code",
   "execution_count": 6,
   "outputs": [
    {
     "data": {
      "text/plain": "   order_id  product_id  add_to_cart_order  reordered  aisle_id  \\\n0         2       33120                  1          1        86   \n1         2       28985                  2          1        83   \n2         2       17794                  6          1        83   \n3         2       43668                  9          0       123   \n4         2        9327                  3          0       104   \n\n   department_id                       aisle  department  user_id  cluster  \n0             16                        eggs  dairy eggs   202279        1  \n1              4            fresh vegetables     produce   202279        1  \n2              4            fresh vegetables     produce   202279        1  \n3              4  packaged vegetables fruits     produce   202279        1  \n4             13           spices seasonings      pantry   202279        1  ",
      "text/html": "<div>\n<style scoped>\n    .dataframe tbody tr th:only-of-type {\n        vertical-align: middle;\n    }\n\n    .dataframe tbody tr th {\n        vertical-align: top;\n    }\n\n    .dataframe thead th {\n        text-align: right;\n    }\n</style>\n<table border=\"1\" class=\"dataframe\">\n  <thead>\n    <tr style=\"text-align: right;\">\n      <th></th>\n      <th>order_id</th>\n      <th>product_id</th>\n      <th>add_to_cart_order</th>\n      <th>reordered</th>\n      <th>aisle_id</th>\n      <th>department_id</th>\n      <th>aisle</th>\n      <th>department</th>\n      <th>user_id</th>\n      <th>cluster</th>\n    </tr>\n  </thead>\n  <tbody>\n    <tr>\n      <th>0</th>\n      <td>2</td>\n      <td>33120</td>\n      <td>1</td>\n      <td>1</td>\n      <td>86</td>\n      <td>16</td>\n      <td>eggs</td>\n      <td>dairy eggs</td>\n      <td>202279</td>\n      <td>1</td>\n    </tr>\n    <tr>\n      <th>1</th>\n      <td>2</td>\n      <td>28985</td>\n      <td>2</td>\n      <td>1</td>\n      <td>83</td>\n      <td>4</td>\n      <td>fresh vegetables</td>\n      <td>produce</td>\n      <td>202279</td>\n      <td>1</td>\n    </tr>\n    <tr>\n      <th>2</th>\n      <td>2</td>\n      <td>17794</td>\n      <td>6</td>\n      <td>1</td>\n      <td>83</td>\n      <td>4</td>\n      <td>fresh vegetables</td>\n      <td>produce</td>\n      <td>202279</td>\n      <td>1</td>\n    </tr>\n    <tr>\n      <th>3</th>\n      <td>2</td>\n      <td>43668</td>\n      <td>9</td>\n      <td>0</td>\n      <td>123</td>\n      <td>4</td>\n      <td>packaged vegetables fruits</td>\n      <td>produce</td>\n      <td>202279</td>\n      <td>1</td>\n    </tr>\n    <tr>\n      <th>4</th>\n      <td>2</td>\n      <td>9327</td>\n      <td>3</td>\n      <td>0</td>\n      <td>104</td>\n      <td>13</td>\n      <td>spices seasonings</td>\n      <td>pantry</td>\n      <td>202279</td>\n      <td>1</td>\n    </tr>\n  </tbody>\n</table>\n</div>"
     },
     "execution_count": 6,
     "metadata": {},
     "output_type": "execute_result"
    }
   ],
   "source": [
    "orders.head()"
   ],
   "metadata": {
    "collapsed": false,
    "pycharm": {
     "name": "#%%\n"
    }
   }
  },
  {
   "cell_type": "code",
   "execution_count": 7,
   "metadata": {},
   "outputs": [
    {
     "data": {
      "text/plain": "          order_id  product_id  add_to_cart_order  reordered  aisle_id  \\\n30264547         1       10246                  3          0        83   \n30264545         1       11109                  2          1       108   \n30264548         1       13176                  6          0        24   \n30264544         1       22035                  8          1        21   \n30264550         1       43633                  5          1        95   \n...            ...         ...                ...        ...       ...   \n23108244   3421083       21162                  3          0        92   \n23108238   3421083       24852                  9          1        24   \n23108247   3421083       35211                  5          0        92   \n23108242   3421083       39678                  6          1        74   \n23108246   3421083       45309                  2          0        92   \n\n          department_id                 aisle    department  user_id  cluster  \n30264547              4      fresh vegetables       produce   112108        1  \n30264545             16  other creams cheeses    dairy eggs   112108        1  \n30264548              4          fresh fruits       produce   112108        1  \n30264544             16       packaged cheese    dairy eggs   112108        1  \n30264550             15   canned meat seafood  canned goods   112108        1  \n...                 ...                   ...           ...      ...      ...  \n23108244             18     baby food formula        babies    25247        1  \n23108238              4          fresh fruits       produce    25247        1  \n23108247             18     baby food formula        babies    25247        1  \n23108242             17       dish detergents     household    25247        1  \n23108246             18     baby food formula        babies    25247        1  \n\n[33819106 rows x 10 columns]",
      "text/html": "<div>\n<style scoped>\n    .dataframe tbody tr th:only-of-type {\n        vertical-align: middle;\n    }\n\n    .dataframe tbody tr th {\n        vertical-align: top;\n    }\n\n    .dataframe thead th {\n        text-align: right;\n    }\n</style>\n<table border=\"1\" class=\"dataframe\">\n  <thead>\n    <tr style=\"text-align: right;\">\n      <th></th>\n      <th>order_id</th>\n      <th>product_id</th>\n      <th>add_to_cart_order</th>\n      <th>reordered</th>\n      <th>aisle_id</th>\n      <th>department_id</th>\n      <th>aisle</th>\n      <th>department</th>\n      <th>user_id</th>\n      <th>cluster</th>\n    </tr>\n  </thead>\n  <tbody>\n    <tr>\n      <th>30264547</th>\n      <td>1</td>\n      <td>10246</td>\n      <td>3</td>\n      <td>0</td>\n      <td>83</td>\n      <td>4</td>\n      <td>fresh vegetables</td>\n      <td>produce</td>\n      <td>112108</td>\n      <td>1</td>\n    </tr>\n    <tr>\n      <th>30264545</th>\n      <td>1</td>\n      <td>11109</td>\n      <td>2</td>\n      <td>1</td>\n      <td>108</td>\n      <td>16</td>\n      <td>other creams cheeses</td>\n      <td>dairy eggs</td>\n      <td>112108</td>\n      <td>1</td>\n    </tr>\n    <tr>\n      <th>30264548</th>\n      <td>1</td>\n      <td>13176</td>\n      <td>6</td>\n      <td>0</td>\n      <td>24</td>\n      <td>4</td>\n      <td>fresh fruits</td>\n      <td>produce</td>\n      <td>112108</td>\n      <td>1</td>\n    </tr>\n    <tr>\n      <th>30264544</th>\n      <td>1</td>\n      <td>22035</td>\n      <td>8</td>\n      <td>1</td>\n      <td>21</td>\n      <td>16</td>\n      <td>packaged cheese</td>\n      <td>dairy eggs</td>\n      <td>112108</td>\n      <td>1</td>\n    </tr>\n    <tr>\n      <th>30264550</th>\n      <td>1</td>\n      <td>43633</td>\n      <td>5</td>\n      <td>1</td>\n      <td>95</td>\n      <td>15</td>\n      <td>canned meat seafood</td>\n      <td>canned goods</td>\n      <td>112108</td>\n      <td>1</td>\n    </tr>\n    <tr>\n      <th>...</th>\n      <td>...</td>\n      <td>...</td>\n      <td>...</td>\n      <td>...</td>\n      <td>...</td>\n      <td>...</td>\n      <td>...</td>\n      <td>...</td>\n      <td>...</td>\n      <td>...</td>\n    </tr>\n    <tr>\n      <th>23108244</th>\n      <td>3421083</td>\n      <td>21162</td>\n      <td>3</td>\n      <td>0</td>\n      <td>92</td>\n      <td>18</td>\n      <td>baby food formula</td>\n      <td>babies</td>\n      <td>25247</td>\n      <td>1</td>\n    </tr>\n    <tr>\n      <th>23108238</th>\n      <td>3421083</td>\n      <td>24852</td>\n      <td>9</td>\n      <td>1</td>\n      <td>24</td>\n      <td>4</td>\n      <td>fresh fruits</td>\n      <td>produce</td>\n      <td>25247</td>\n      <td>1</td>\n    </tr>\n    <tr>\n      <th>23108247</th>\n      <td>3421083</td>\n      <td>35211</td>\n      <td>5</td>\n      <td>0</td>\n      <td>92</td>\n      <td>18</td>\n      <td>baby food formula</td>\n      <td>babies</td>\n      <td>25247</td>\n      <td>1</td>\n    </tr>\n    <tr>\n      <th>23108242</th>\n      <td>3421083</td>\n      <td>39678</td>\n      <td>6</td>\n      <td>1</td>\n      <td>74</td>\n      <td>17</td>\n      <td>dish detergents</td>\n      <td>household</td>\n      <td>25247</td>\n      <td>1</td>\n    </tr>\n    <tr>\n      <th>23108246</th>\n      <td>3421083</td>\n      <td>45309</td>\n      <td>2</td>\n      <td>0</td>\n      <td>92</td>\n      <td>18</td>\n      <td>baby food formula</td>\n      <td>babies</td>\n      <td>25247</td>\n      <td>1</td>\n    </tr>\n  </tbody>\n</table>\n<p>33819106 rows × 10 columns</p>\n</div>"
     },
     "execution_count": 7,
     "metadata": {},
     "output_type": "execute_result"
    }
   ],
   "source": [
    "orders = orders.sort_values(['order_id','product_id'])\n",
    "orders"
   ]
  },
  {
   "cell_type": "code",
   "execution_count": 8,
   "metadata": {},
   "outputs": [],
   "source": [
    "# Returns frequency counts for items and item pairs\n",
    "def freq(iterable):\n",
    "    if type(iterable) == pd.core.series.Series:\n",
    "        return iterable.value_counts().rename(\"freq\")\n",
    "    else: \n",
    "        return pd.Series(Counter(iterable)).rename(\"freq\")\n",
    "\n",
    "    \n",
    "# Returns number of unique orders\n",
    "def order_count(order_item):\n",
    "    return len(set(order_item.index))\n",
    "\n",
    "\n",
    "# Returns generator that yields item pairs, one at a time\n",
    "def get_item_pairs(order_item):\n",
    "    order_item = order_item.reset_index().to_numpy()\n",
    "    for order_id, order_object in groupby(order_item, lambda x: x[0]):\n",
    "        item_list = [item[1] for item in order_object]\n",
    "              \n",
    "        for item_pair in combinations(item_list, 2):\n",
    "            yield item_pair\n",
    "            \n",
    "\n",
    "# Returns frequency and support associated with item\n",
    "def merge_item_stats(item_pairs, item_stats):\n",
    "    return (item_pairs\n",
    "                .merge(item_stats.rename(columns={'freq': 'freqA', 'support': 'supportA'}), left_on='item_A', right_index=True)\n",
    "                .merge(item_stats.rename(columns={'freq': 'freqB', 'support': 'supportB'}), left_on='item_B', right_index=True))\n",
    "\n",
    "\n",
    "# Returns name associated with item\n",
    "def merge_item_name(rules, item_name):\n",
    "    columns = ['itemA','itemB','freqAB','supportAB','freqA','supportA','freqB','supportB', \n",
    "               'confidenceAtoB','confidenceBtoA','lift']\n",
    "    rules = (rules\n",
    "                .merge(item_name.rename(columns={'item_name': 'itemA'}), left_on='item_A', right_on='item_id')\n",
    "                .merge(item_name.rename(columns={'item_name': 'itemB'}), left_on='item_B', right_on='item_id'))"
   ]
  },
  {
   "cell_type": "code",
   "execution_count": 9,
   "metadata": {},
   "outputs": [],
   "source": [
    "def association_rules(order_item, min_support):\n",
    "\n",
    "    print(\"Starting order_item: {:22d}\".format(len(order_item)))\n",
    "\n",
    "\n",
    "    # Calculate item frequency and support\n",
    "    item_stats             = freq(order_item).to_frame(\"freq\")\n",
    "    item_stats['support']  = item_stats['freq'] / order_count(order_item) \n",
    "\n",
    "\n",
    "    # Filter from order_item items below min support \n",
    "    qualifying_items       = item_stats[item_stats['support'] >= min_support].index\n",
    "    order_item             = order_item[order_item.isin(qualifying_items)]\n",
    "\n",
    "    print(\"Items with support >= {}: {:15d}\".format(min_support, len(qualifying_items)))\n",
    "    print(\"Remaining order_item: {:21d}\".format(len(order_item)))\n",
    "\n",
    "\n",
    "    # Filter from order_item orders with less than 2 items\n",
    "    order_size             = freq(order_item.index)\n",
    "    qualifying_orders      = order_size[order_size >= 2].index\n",
    "    order_item             = order_item[order_item.index.isin(qualifying_orders)]\n",
    "\n",
    "    print(\"Remaining orders with 2+ items: {:11d}\".format(len(qualifying_orders)))\n",
    "    print(\"Remaining order_item: {:21d}\".format(len(order_item)))\n",
    "\n",
    "\n",
    "    # Recalculate item frequency and support\n",
    "    item_stats             = freq(order_item).to_frame(\"freq\")\n",
    "    item_stats['support']  = item_stats['freq'] / order_count(order_item) \n",
    "\n",
    "\n",
    "    # Get item pairs generator\n",
    "    item_pair_gen          = get_item_pairs(order_item)\n",
    "\n",
    "\n",
    "    # Calculate item pair frequency and support\n",
    "    item_pairs              = freq(item_pair_gen).to_frame(\"freqAB\")\n",
    "    item_pairs['supportAB'] = item_pairs['freqAB'] / len(qualifying_orders)\n",
    "\n",
    "    print(\"Item pairs: {:31d}\".format(len(item_pairs)))\n",
    "\n",
    "\n",
    "    # Filter from item_pairs those below min support\n",
    "    item_pairs              = item_pairs[item_pairs['supportAB'] >= min_support]\n",
    "\n",
    "    print(\"Item pairs with support >= {}: {:10d}\\n\".format(min_support, len(item_pairs)))\n",
    "\n",
    "\n",
    "    # Create table of association rules and compute relevant metrics\n",
    "    item_pairs = item_pairs.reset_index().rename(columns={'level_0': 'item_A', 'level_1': 'item_B'})\n",
    "    item_pairs = merge_item_stats(item_pairs, item_stats)\n",
    "    \n",
    "    item_pairs['confidenceAtoB'] = item_pairs['supportAB'] / item_pairs['supportA']\n",
    "    item_pairs['confidenceBtoA'] = item_pairs['supportAB'] / item_pairs['supportB']\n",
    "    item_pairs['lift']           = item_pairs['supportAB'] / (item_pairs['supportA'] * item_pairs['supportB'])\n",
    "    \n",
    "    \n",
    "    # Return association rules sorted by lift in descending order\n",
    "    return item_pairs.sort_values('lift', ascending=False)"
   ]
  },
  {
   "cell_type": "code",
   "execution_count": 10,
   "metadata": {},
   "outputs": [],
   "source": [
    "# separate order data by cluster and transform into expected format of group association function\n",
    "\n",
    "cluster_orders = {}\n",
    "for x in range(0,6):\n",
    "    i = orders[orders['cluster'] == x]\n",
    "    i = i.set_index('order_id')['product_id'].rename('item_id')\n",
    "    cluster_orders[x] = i"
   ]
  },
  {
   "cell_type": "code",
   "execution_count": 12,
   "metadata": {},
   "outputs": [
    {
     "name": "stdout",
     "output_type": "stream",
     "text": [
      "Starting order_item:                1740670\n",
      "Items with support >= 0.0001:            6216\n",
      "Remaining order_item:               1631820\n",
      "Remaining orders with 2+ items:      225372\n",
      "Remaining order_item:               1609574\n",
      "Item pairs:                         1643666\n",
      "Item pairs with support >= 0.0001:      45408\n",
      "\n",
      "Starting order_item:               15524044\n",
      "Items with support >= 0.0001:           10316\n",
      "Remaining order_item:              14600167\n",
      "Remaining orders with 2+ items:     1276870\n",
      "Remaining order_item:              14560949\n",
      "Item pairs:                        14030084\n",
      "Item pairs with support >= 0.0001:      95546\n",
      "\n",
      "Starting order_item:               10153348\n",
      "Items with support >= 0.0001:           13288\n",
      "Remaining order_item:               9206509\n",
      "Remaining orders with 2+ items:      992409\n",
      "Remaining order_item:               9130882\n",
      "Item pairs:                        15999908\n",
      "Item pairs with support >= 0.0001:      28714\n",
      "\n",
      "Starting order_item:                5642242\n",
      "Items with support >= 0.0001:            7483\n",
      "Remaining order_item:               5362684\n",
      "Remaining orders with 2+ items:      511880\n",
      "Remaining order_item:               5343998\n",
      "Item pairs:                         5010118\n",
      "Item pairs with support >= 0.0001:      90662\n",
      "\n",
      "Starting order_item:                 541171\n",
      "Items with support >= 0.0001:            1063\n",
      "Remaining order_item:                538080\n",
      "Remaining orders with 2+ items:      100206\n",
      "Remaining order_item:                520611\n",
      "Item pairs:                          151541\n",
      "Item pairs with support >= 0.0001:      24498\n",
      "\n",
      "Starting order_item:                 217631\n",
      "Items with support >= 0.0001:            4752\n",
      "Remaining order_item:                202343\n",
      "Remaining orders with 2+ items:       37170\n",
      "Remaining order_item:                191170\n",
      "Item pairs:                          217437\n",
      "Item pairs with support >= 0.0001:      35364\n",
      "\n"
     ]
    }
   ],
   "source": [
    "# run each cluster series through association rule function and obtain association rules at item level\n",
    "\n",
    "group_association_rules_dic = {}\n",
    "for x in range(0,6):\n",
    "    group_association_rules_dic[x] = association_rules(cluster_orders[x],.0001)"
   ]
  },
  {
   "cell_type": "code",
   "execution_count": 13,
   "metadata": {},
   "outputs": [],
   "source": [
    "# format item association rule dataframes and merge product names\n",
    "\n",
    "for x in group_association_rules_dic:\n",
    "    group_association_rules_dic[x] = group_association_rules_dic[x].merge(products[['product_id','product_name']]\n",
    "               .rename(columns = {'product_id':'item_A','product_name':'product_name_A'}), on = 'item_A')\n",
    "    group_association_rules_dic[x] = group_association_rules_dic[x].merge(products[['product_id','product_name']]\n",
    "               .rename(columns = {'product_id':'item_B','product_name':'product_name_B'}), on = 'item_B')\n",
    "    group_association_rules_dic[x] = group_association_rules_dic[x][['item_A','item_B','product_name_A',\n",
    "                                                                    'product_name_B','freqAB','supportAB','freqA',\n",
    "                                                                    'supportA','freqB','supportB','confidenceAtoB',\n",
    "                                                                    'confidenceBtoA','lift']]\n",
    "    "
   ]
  },
  {
   "cell_type": "code",
   "execution_count": 14,
   "metadata": {},
   "outputs": [
    {
     "data": {
      "text/plain": "       item_A  item_B                                     product_name_A  \\\n0       23352   44911                  Large Deep Dish Containers + Lids   \n1       17950   20259  Vegetable & Pepper Jack Cheese Flatbread Break...   \n4465    16241   33002              Peanut Butter Chocolate Chip Meal Bar   \n5109     9620    9909                             Hand Made Potato Chips   \n5112     9620   39394                             Hand Made Potato Chips   \n...       ...     ...                                                ...   \n6534    19660   36316                                       Spring Water   \n2694     8859   44632                               Natural Spring Water   \n4390    19660   35221                                       Spring Water   \n20311   19660   43154                                       Spring Water   \n2713     5258   44632                                    Sparkling Water   \n\n                                          product_name_B  freqAB  supportAB  \\\n0                               Entrée Containers & Lids       4   0.000108   \n1      Special K Sausage, Egg & Cheese Flatbread Brea...       5   0.000135   \n4465                           Wholeberry Blast Meal Bar       5   0.000135   \n5109                         Big Whole Grain Wheat Thins       5   0.000135   \n5112                                 Rich Frosted Donuts       5   0.000135   \n...                                                  ...     ...        ...   \n6534                               Lemon Sparkling Water       4   0.000108   \n2694                          Sparkling Water Grapefruit       6   0.000161   \n4390                                Lime Sparkling Water      11   0.000296   \n20311                            Sparkling Mineral Water       4   0.000108   \n2713                          Sparkling Water Grapefruit       7   0.000188   \n\n       freqA  supportA  freqB  supportB  confidenceAtoB  confidenceBtoA  \\\n0          4  0.000108      5  0.000135        1.000000        0.800000   \n1          5  0.000135      5  0.000135        1.000000        1.000000   \n4465       6  0.000161      5  0.000135        0.833333        1.000000   \n5109       5  0.000135      6  0.000161        1.000000        0.833333   \n5112       5  0.000135      6  0.000161        1.000000        0.833333   \n...      ...       ...    ...       ...             ...             ...   \n6534    3608  0.097068   1393  0.037476        0.001109        0.002872   \n2694    1313  0.035324   5941  0.159833        0.004570        0.001010   \n4390    3608  0.097068   4168  0.112133        0.003049        0.002639   \n20311   3608  0.097068   1543  0.041512        0.001109        0.002592   \n2713    1837  0.049422   5941  0.159833        0.003811        0.001178   \n\n              lift  \n0      7434.000000  \n1      7434.000000  \n4465   6195.000000  \n5109   6195.000000  \n5112   6195.000000  \n...            ...  \n6534      0.029583  \n2694      0.028590  \n4390      0.027189  \n20311     0.026707  \n2713      0.023841  \n\n[35364 rows x 13 columns]",
      "text/html": "<div>\n<style scoped>\n    .dataframe tbody tr th:only-of-type {\n        vertical-align: middle;\n    }\n\n    .dataframe tbody tr th {\n        vertical-align: top;\n    }\n\n    .dataframe thead th {\n        text-align: right;\n    }\n</style>\n<table border=\"1\" class=\"dataframe\">\n  <thead>\n    <tr style=\"text-align: right;\">\n      <th></th>\n      <th>item_A</th>\n      <th>item_B</th>\n      <th>product_name_A</th>\n      <th>product_name_B</th>\n      <th>freqAB</th>\n      <th>supportAB</th>\n      <th>freqA</th>\n      <th>supportA</th>\n      <th>freqB</th>\n      <th>supportB</th>\n      <th>confidenceAtoB</th>\n      <th>confidenceBtoA</th>\n      <th>lift</th>\n    </tr>\n  </thead>\n  <tbody>\n    <tr>\n      <th>0</th>\n      <td>23352</td>\n      <td>44911</td>\n      <td>Large Deep Dish Containers + Lids</td>\n      <td>Entrée Containers &amp; Lids</td>\n      <td>4</td>\n      <td>0.000108</td>\n      <td>4</td>\n      <td>0.000108</td>\n      <td>5</td>\n      <td>0.000135</td>\n      <td>1.000000</td>\n      <td>0.800000</td>\n      <td>7434.000000</td>\n    </tr>\n    <tr>\n      <th>1</th>\n      <td>17950</td>\n      <td>20259</td>\n      <td>Vegetable &amp; Pepper Jack Cheese Flatbread Break...</td>\n      <td>Special K Sausage, Egg &amp; Cheese Flatbread Brea...</td>\n      <td>5</td>\n      <td>0.000135</td>\n      <td>5</td>\n      <td>0.000135</td>\n      <td>5</td>\n      <td>0.000135</td>\n      <td>1.000000</td>\n      <td>1.000000</td>\n      <td>7434.000000</td>\n    </tr>\n    <tr>\n      <th>4465</th>\n      <td>16241</td>\n      <td>33002</td>\n      <td>Peanut Butter Chocolate Chip Meal Bar</td>\n      <td>Wholeberry Blast Meal Bar</td>\n      <td>5</td>\n      <td>0.000135</td>\n      <td>6</td>\n      <td>0.000161</td>\n      <td>5</td>\n      <td>0.000135</td>\n      <td>0.833333</td>\n      <td>1.000000</td>\n      <td>6195.000000</td>\n    </tr>\n    <tr>\n      <th>5109</th>\n      <td>9620</td>\n      <td>9909</td>\n      <td>Hand Made Potato Chips</td>\n      <td>Big Whole Grain Wheat Thins</td>\n      <td>5</td>\n      <td>0.000135</td>\n      <td>5</td>\n      <td>0.000135</td>\n      <td>6</td>\n      <td>0.000161</td>\n      <td>1.000000</td>\n      <td>0.833333</td>\n      <td>6195.000000</td>\n    </tr>\n    <tr>\n      <th>5112</th>\n      <td>9620</td>\n      <td>39394</td>\n      <td>Hand Made Potato Chips</td>\n      <td>Rich Frosted Donuts</td>\n      <td>5</td>\n      <td>0.000135</td>\n      <td>5</td>\n      <td>0.000135</td>\n      <td>6</td>\n      <td>0.000161</td>\n      <td>1.000000</td>\n      <td>0.833333</td>\n      <td>6195.000000</td>\n    </tr>\n    <tr>\n      <th>...</th>\n      <td>...</td>\n      <td>...</td>\n      <td>...</td>\n      <td>...</td>\n      <td>...</td>\n      <td>...</td>\n      <td>...</td>\n      <td>...</td>\n      <td>...</td>\n      <td>...</td>\n      <td>...</td>\n      <td>...</td>\n      <td>...</td>\n    </tr>\n    <tr>\n      <th>6534</th>\n      <td>19660</td>\n      <td>36316</td>\n      <td>Spring Water</td>\n      <td>Lemon Sparkling Water</td>\n      <td>4</td>\n      <td>0.000108</td>\n      <td>3608</td>\n      <td>0.097068</td>\n      <td>1393</td>\n      <td>0.037476</td>\n      <td>0.001109</td>\n      <td>0.002872</td>\n      <td>0.029583</td>\n    </tr>\n    <tr>\n      <th>2694</th>\n      <td>8859</td>\n      <td>44632</td>\n      <td>Natural Spring Water</td>\n      <td>Sparkling Water Grapefruit</td>\n      <td>6</td>\n      <td>0.000161</td>\n      <td>1313</td>\n      <td>0.035324</td>\n      <td>5941</td>\n      <td>0.159833</td>\n      <td>0.004570</td>\n      <td>0.001010</td>\n      <td>0.028590</td>\n    </tr>\n    <tr>\n      <th>4390</th>\n      <td>19660</td>\n      <td>35221</td>\n      <td>Spring Water</td>\n      <td>Lime Sparkling Water</td>\n      <td>11</td>\n      <td>0.000296</td>\n      <td>3608</td>\n      <td>0.097068</td>\n      <td>4168</td>\n      <td>0.112133</td>\n      <td>0.003049</td>\n      <td>0.002639</td>\n      <td>0.027189</td>\n    </tr>\n    <tr>\n      <th>20311</th>\n      <td>19660</td>\n      <td>43154</td>\n      <td>Spring Water</td>\n      <td>Sparkling Mineral Water</td>\n      <td>4</td>\n      <td>0.000108</td>\n      <td>3608</td>\n      <td>0.097068</td>\n      <td>1543</td>\n      <td>0.041512</td>\n      <td>0.001109</td>\n      <td>0.002592</td>\n      <td>0.026707</td>\n    </tr>\n    <tr>\n      <th>2713</th>\n      <td>5258</td>\n      <td>44632</td>\n      <td>Sparkling Water</td>\n      <td>Sparkling Water Grapefruit</td>\n      <td>7</td>\n      <td>0.000188</td>\n      <td>1837</td>\n      <td>0.049422</td>\n      <td>5941</td>\n      <td>0.159833</td>\n      <td>0.003811</td>\n      <td>0.001178</td>\n      <td>0.023841</td>\n    </tr>\n  </tbody>\n</table>\n<p>35364 rows × 13 columns</p>\n</div>"
     },
     "execution_count": 14,
     "metadata": {},
     "output_type": "execute_result"
    }
   ],
   "source": [
    "# example of association rule dataframe\n",
    "\n",
    "x = group_association_rules_dic[5]\n",
    "x.sort_values('lift', ascending = False)"
   ]
  },
  {
   "cell_type": "code",
   "execution_count": 15,
   "metadata": {},
   "outputs": [],
   "source": [
    "# separate order data by cluster and transform into expected format of group association function at aisle level\n",
    "\n",
    "cluster_aisle_orders = {}\n",
    "for x in range(0,6):\n",
    "    i = orders[orders['cluster'] == x]\n",
    "    i = i.groupby(['order_id','aisle_id'])['product_id'].count().reset_index().set_index('order_id')['aisle_id'].rename('item_id')\n",
    "    cluster_aisle_orders[x] = i"
   ]
  },
  {
   "cell_type": "code",
   "execution_count": 16,
   "metadata": {},
   "outputs": [
    {
     "data": {
      "text/plain": "order_id\n1           21\n1           24\n1           83\n1           95\n1          108\n          ... \n3421083     52\n3421083     74\n3421083     78\n3421083     92\n3421083    117\nName: item_id, Length: 24329222, dtype: int64"
     },
     "execution_count": 16,
     "metadata": {},
     "output_type": "execute_result"
    }
   ],
   "source": [
    "orders.groupby(['order_id','aisle_id'])['product_id'].count().reset_index().set_index('order_id')['aisle_id'].rename('item_id')"
   ]
  },
  {
   "cell_type": "code",
   "execution_count": 17,
   "metadata": {},
   "outputs": [
    {
     "data": {
      "text/plain": "48794"
     },
     "execution_count": 17,
     "metadata": {},
     "output_type": "execute_result"
    }
   ],
   "source": [
    "orders[orders['cluster'] == 5]['order_id'].nunique()"
   ]
  },
  {
   "cell_type": "code",
   "execution_count": 18,
   "metadata": {},
   "outputs": [
    {
     "name": "stdout",
     "output_type": "stream",
     "text": [
      "Starting order_item:                1184688\n",
      "Items with support >= 0.0001:             134\n",
      "Remaining order_item:               1184688\n",
      "Remaining orders with 2+ items:      219857\n",
      "Remaining order_item:               1155194\n",
      "Item pairs:                            8554\n",
      "Item pairs with support >= 0.0001:       5396\n",
      "\n",
      "Starting order_item:               11211683\n",
      "Items with support >= 0.0001:             134\n",
      "Remaining order_item:              11211683\n",
      "Remaining orders with 2+ items:     1281160\n",
      "Remaining order_item:              11171978\n",
      "Item pairs:                            8906\n",
      "Item pairs with support >= 0.0001:       7573\n",
      "\n",
      "Starting order_item:                7680091\n",
      "Items with support >= 0.0001:             134\n",
      "Remaining order_item:               7680091\n",
      "Remaining orders with 2+ items:      991382\n",
      "Remaining order_item:               7595005\n",
      "Item pairs:                            8908\n",
      "Item pairs with support >= 0.0001:       8202\n",
      "\n",
      "Starting order_item:                3694150\n",
      "Items with support >= 0.0001:             134\n",
      "Remaining order_item:               3694150\n",
      "Remaining orders with 2+ items:      512454\n",
      "Remaining order_item:               3673846\n",
      "Item pairs:                            8838\n",
      "Item pairs with support >= 0.0001:       6222\n",
      "\n",
      "Starting order_item:                 417344\n",
      "Items with support >= 0.0001:             118\n",
      "Remaining order_item:                417302\n",
      "Remaining orders with 2+ items:       97797\n",
      "Remaining order_item:                397257\n",
      "Item pairs:                            5722\n",
      "Item pairs with support >= 0.0001:       3383\n",
      "\n",
      "Starting order_item:                 141266\n",
      "Items with support >= 0.0001:             134\n",
      "Remaining order_item:                141266\n",
      "Remaining orders with 2+ items:       34085\n",
      "Remaining order_item:                126557\n",
      "Item pairs:                            6625\n",
      "Item pairs with support >= 0.0001:       4144\n",
      "\n"
     ]
    }
   ],
   "source": [
    "# run association function at aisle level\n",
    "\n",
    "group_aisle_association_rules_dic = {}\n",
    "for x in range(0,6):\n",
    "    group_aisle_association_rules_dic[x] = association_rules(cluster_aisle_orders[x],.0001)"
   ]
  },
  {
   "cell_type": "code",
   "execution_count": 19,
   "metadata": {},
   "outputs": [],
   "source": [
    "# reformat cluster aisle assocation dataframes\n",
    "\n",
    "for x in group_aisle_association_rules_dic:\n",
    "    group_aisle_association_rules_dic[x] = group_aisle_association_rules_dic[x].merge(aisles[['aisle_id','aisle']]\n",
    "               .rename(columns = {'aisle_id':'item_A','aisle':'aisle_name_A'}), on = 'item_A')\n",
    "    group_aisle_association_rules_dic[x] = group_aisle_association_rules_dic[x].merge(aisles[['aisle_id','aisle']]\n",
    "               .rename(columns = {'aisle_id':'item_B','aisle':'aisle_name_B'}), on = 'item_B')\n",
    "    group_aisle_association_rules_dic[x] = group_aisle_association_rules_dic[x][['item_A','item_B','aisle_name_A',\n",
    "                                                                    'aisle_name_B','freqAB','supportAB','freqA',\n",
    "                                                                    'supportA','freqB','supportB','confidenceAtoB',\n",
    "                                                                    'confidenceBtoA','lift']]\n",
    "    group_aisle_association_rules_dic[x] = group_aisle_association_rules_dic[x].rename(columns = {'item_A':'aisle_A','item_B':'aisle_B'})"
   ]
  },
  {
   "cell_type": "code",
   "execution_count": 20,
   "metadata": {},
   "outputs": [
    {
     "data": {
      "text/plain": "      aisle_A  aisle_B               aisle_name_A                aisle_name_B  \\\n0          28       62                  red wines                 white wines   \n15         28      134                  red wines  specialty wines champagnes   \n1401       40      119              dog food care              frozen dessert   \n16        124      134                    spirits  specialty wines champagnes   \n1840       65      109  protein meal replacements                   skin care   \n...       ...      ...                        ...                         ...   \n499        46       83                   mint gum            fresh vegetables   \n3909       83      125           fresh vegetables         trail mix snack mix   \n1464       32       64           packaged produce        energy sports drinks   \n1488       32       48           packaged produce     breakfast bars pastries   \n1664        3       75        energy granola bars                     laundry   \n\n      freqAB  supportAB  freqA  supportA  freqB  supportB  confidenceAtoB  \\\n0         50   0.001467    115  0.003374    168  0.004929        0.434783   \n15        12   0.000352    115  0.003374     77  0.002259        0.104348   \n1401       5   0.000147     70  0.002054     54  0.001584        0.071429   \n16        11   0.000323    117  0.003433     77  0.002259        0.094017   \n1840       5   0.000147    125  0.003667     33  0.000968        0.040000   \n...      ...        ...    ...       ...    ...       ...             ...   \n499        4   0.000117    439  0.012880   1618  0.047470        0.009112   \n3909       6   0.000176   1618  0.047470    673  0.019745        0.003708   \n1464       7   0.000205   1438  0.042189    903  0.026493        0.004868   \n1488       5   0.000147   1438  0.042189    658  0.019305        0.003477   \n1664      11   0.000323   2772  0.081326    912  0.026757        0.003968   \n\n      confidenceBtoA       lift  \n0           0.297619  88.211698  \n15          0.155844  46.190853  \n1401        0.092593  45.085979  \n16          0.142857  41.617827  \n1840        0.151515  41.315152  \n...              ...        ...  \n499         0.002472   0.191947  \n3909        0.008915   0.187811  \n1464        0.007752   0.183745  \n1488        0.007599   0.180114  \n1664        0.012061   0.148309  \n\n[4144 rows x 13 columns]",
      "text/html": "<div>\n<style scoped>\n    .dataframe tbody tr th:only-of-type {\n        vertical-align: middle;\n    }\n\n    .dataframe tbody tr th {\n        vertical-align: top;\n    }\n\n    .dataframe thead th {\n        text-align: right;\n    }\n</style>\n<table border=\"1\" class=\"dataframe\">\n  <thead>\n    <tr style=\"text-align: right;\">\n      <th></th>\n      <th>aisle_A</th>\n      <th>aisle_B</th>\n      <th>aisle_name_A</th>\n      <th>aisle_name_B</th>\n      <th>freqAB</th>\n      <th>supportAB</th>\n      <th>freqA</th>\n      <th>supportA</th>\n      <th>freqB</th>\n      <th>supportB</th>\n      <th>confidenceAtoB</th>\n      <th>confidenceBtoA</th>\n      <th>lift</th>\n    </tr>\n  </thead>\n  <tbody>\n    <tr>\n      <th>0</th>\n      <td>28</td>\n      <td>62</td>\n      <td>red wines</td>\n      <td>white wines</td>\n      <td>50</td>\n      <td>0.001467</td>\n      <td>115</td>\n      <td>0.003374</td>\n      <td>168</td>\n      <td>0.004929</td>\n      <td>0.434783</td>\n      <td>0.297619</td>\n      <td>88.211698</td>\n    </tr>\n    <tr>\n      <th>15</th>\n      <td>28</td>\n      <td>134</td>\n      <td>red wines</td>\n      <td>specialty wines champagnes</td>\n      <td>12</td>\n      <td>0.000352</td>\n      <td>115</td>\n      <td>0.003374</td>\n      <td>77</td>\n      <td>0.002259</td>\n      <td>0.104348</td>\n      <td>0.155844</td>\n      <td>46.190853</td>\n    </tr>\n    <tr>\n      <th>1401</th>\n      <td>40</td>\n      <td>119</td>\n      <td>dog food care</td>\n      <td>frozen dessert</td>\n      <td>5</td>\n      <td>0.000147</td>\n      <td>70</td>\n      <td>0.002054</td>\n      <td>54</td>\n      <td>0.001584</td>\n      <td>0.071429</td>\n      <td>0.092593</td>\n      <td>45.085979</td>\n    </tr>\n    <tr>\n      <th>16</th>\n      <td>124</td>\n      <td>134</td>\n      <td>spirits</td>\n      <td>specialty wines champagnes</td>\n      <td>11</td>\n      <td>0.000323</td>\n      <td>117</td>\n      <td>0.003433</td>\n      <td>77</td>\n      <td>0.002259</td>\n      <td>0.094017</td>\n      <td>0.142857</td>\n      <td>41.617827</td>\n    </tr>\n    <tr>\n      <th>1840</th>\n      <td>65</td>\n      <td>109</td>\n      <td>protein meal replacements</td>\n      <td>skin care</td>\n      <td>5</td>\n      <td>0.000147</td>\n      <td>125</td>\n      <td>0.003667</td>\n      <td>33</td>\n      <td>0.000968</td>\n      <td>0.040000</td>\n      <td>0.151515</td>\n      <td>41.315152</td>\n    </tr>\n    <tr>\n      <th>...</th>\n      <td>...</td>\n      <td>...</td>\n      <td>...</td>\n      <td>...</td>\n      <td>...</td>\n      <td>...</td>\n      <td>...</td>\n      <td>...</td>\n      <td>...</td>\n      <td>...</td>\n      <td>...</td>\n      <td>...</td>\n      <td>...</td>\n    </tr>\n    <tr>\n      <th>499</th>\n      <td>46</td>\n      <td>83</td>\n      <td>mint gum</td>\n      <td>fresh vegetables</td>\n      <td>4</td>\n      <td>0.000117</td>\n      <td>439</td>\n      <td>0.012880</td>\n      <td>1618</td>\n      <td>0.047470</td>\n      <td>0.009112</td>\n      <td>0.002472</td>\n      <td>0.191947</td>\n    </tr>\n    <tr>\n      <th>3909</th>\n      <td>83</td>\n      <td>125</td>\n      <td>fresh vegetables</td>\n      <td>trail mix snack mix</td>\n      <td>6</td>\n      <td>0.000176</td>\n      <td>1618</td>\n      <td>0.047470</td>\n      <td>673</td>\n      <td>0.019745</td>\n      <td>0.003708</td>\n      <td>0.008915</td>\n      <td>0.187811</td>\n    </tr>\n    <tr>\n      <th>1464</th>\n      <td>32</td>\n      <td>64</td>\n      <td>packaged produce</td>\n      <td>energy sports drinks</td>\n      <td>7</td>\n      <td>0.000205</td>\n      <td>1438</td>\n      <td>0.042189</td>\n      <td>903</td>\n      <td>0.026493</td>\n      <td>0.004868</td>\n      <td>0.007752</td>\n      <td>0.183745</td>\n    </tr>\n    <tr>\n      <th>1488</th>\n      <td>32</td>\n      <td>48</td>\n      <td>packaged produce</td>\n      <td>breakfast bars pastries</td>\n      <td>5</td>\n      <td>0.000147</td>\n      <td>1438</td>\n      <td>0.042189</td>\n      <td>658</td>\n      <td>0.019305</td>\n      <td>0.003477</td>\n      <td>0.007599</td>\n      <td>0.180114</td>\n    </tr>\n    <tr>\n      <th>1664</th>\n      <td>3</td>\n      <td>75</td>\n      <td>energy granola bars</td>\n      <td>laundry</td>\n      <td>11</td>\n      <td>0.000323</td>\n      <td>2772</td>\n      <td>0.081326</td>\n      <td>912</td>\n      <td>0.026757</td>\n      <td>0.003968</td>\n      <td>0.012061</td>\n      <td>0.148309</td>\n    </tr>\n  </tbody>\n</table>\n<p>4144 rows × 13 columns</p>\n</div>"
     },
     "execution_count": 20,
     "metadata": {},
     "output_type": "execute_result"
    }
   ],
   "source": [
    "x = group_aisle_association_rules_dic[5].sort_values('lift',ascending = False)\n",
    "x.sort_values('lift',ascending = False)"
   ]
  },
  {
   "cell_type": "code",
   "execution_count": 21,
   "metadata": {},
   "outputs": [
    {
     "data": {
      "text/plain": "2    0.356837\n1    0.352123\n3    0.159280\n0    0.074749\n4    0.038543\n5    0.018467\nName: cluster, dtype: float64"
     },
     "execution_count": 21,
     "metadata": {},
     "output_type": "execute_result"
    }
   ],
   "source": [
    "cluster_df['cluster'].value_counts() / cluster_df['cluster'].value_counts().sum()"
   ]
  },
  {
   "cell_type": "code",
   "execution_count": 24,
   "metadata": {},
   "outputs": [],
   "source": [
    "for x in group_association_rules_dic:\n",
    "    group_association_rules_dic[x].to_csv('../input/associationRule/group'+str(x)+'_item_rules.csv')"
   ]
  },
  {
   "cell_type": "code",
   "execution_count": 25,
   "metadata": {},
   "outputs": [],
   "source": [
    "for x in group_aisle_association_rules_dic:\n",
    "    group_aisle_association_rules_dic[x].to_csv('../input/associationRule/group'+str(x)+'_aisle_rules.csv')"
   ]
  },
  {
   "cell_type": "code",
   "execution_count": null,
   "metadata": {},
   "outputs": [],
   "source": []
  }
 ],
 "metadata": {
  "kernelspec": {
   "display_name": "Python 3",
   "language": "python",
   "name": "python3"
  },
  "language_info": {
   "codemirror_mode": {
    "name": "ipython",
    "version": 3
   },
   "file_extension": ".py",
   "mimetype": "text/x-python",
   "name": "python",
   "nbconvert_exporter": "python",
   "pygments_lexer": "ipython3",
   "version": "3.7.3"
  }
 },
 "nbformat": 4,
 "nbformat_minor": 4
}